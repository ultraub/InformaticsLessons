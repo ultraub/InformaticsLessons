{
  "cells": [
    {
      "cell_type": "markdown",
      "metadata": {
        "id": "T2mqczOWx7jI"
      },
      "source": [
        "# Clinical Decision Support (CDS) Assessment 2: The nuts and bolts of CDShooks\n"
      ]
    },
    {
      "cell_type": "markdown",
      "metadata": {
        "id": "oNmXmUox3gZW"
      },
      "source": [
        "## Learning objectives:\n",
        "\n",
        "At the end of this assessment, students will be able to:\n",
        "\n",
        "\n",
        "\n",
        "1.   Find the proper version of the CDShooks standard\n",
        "2.   Understand how to read the CDShooks standard on the website\n",
        "1.   List the workflows in CDShooks\n",
        "1.   List the steps in each CDShooks workflow\n",
        "1.   Understand the different CDShooks triggers\n",
        "2.   List the different ways a CDS Service may return CDS information to the CDS client: information, suggestions, and launching a user-facing SMART app\n",
        "2.   Understand the data (objects) being passed in the different transactions"
      ]
    },
    {
      "cell_type": "markdown",
      "metadata": {
        "id": "7_GEE70pyj5v"
      },
      "source": [
        "## Initialize your workbook\n",
        "\n",
        "**CHANGING TO BIDS Classroom TOKENS:** Changes to using the JH BIDS Informatics Classroom\n",
        "Beginning in Module 2 we re-introduce using TOKENS, rather than your JHED ID, to the JH BIDS Informatics Classroom.\n",
        "\n",
        "Steps:\n",
        "\n",
        "1. In a separate internet browser window, go to the BIDS Informatics \\\n",
        "Classroom website: https://bids-class.azurewebsites.net/home\n",
        "You may need to login using your JHED ID and JH credentials.\n",
        "2. Instead of using JHED_ID to login, we are going to begin to use tokens.\n",
        "On the BIDS Informatics Classroom website, along the black title at the top, select \"Generate Token\". The token encapsulates the user name, the class, and the module.\n",
        "* a. Select the class answer key: cdsonfhir\n",
        "* b. Select the Module: 3 (yes, these seems wrong, but it is the correct answer key)\n",
        "3. You should have a number returned to you that will look something like this: c2bc81e3-9637-4ade-acd1-f5e3d5e42a79 - copy this string (but not the expiration date). Note that this token is good for one 24 hour period, at which time it will need to be regenerated.\n",
        "4. In THIS Jupyter notebook, copy the long token string into the \"token\" variable in the code cell below, where instructed, 2/3 down the cell block."
      ]
    },
    {
      "cell_type": "code",
      "execution_count": null,
      "metadata": {
        "id": "DgAZeSsQy6ds"
      },
      "outputs": [],
      "source": [
        "#you may need to remove the comment sign # from the line below if you are running this from Visual Studio (VS) Code\n",
        "#pip install requests\n",
        "import requests\n",
        "import json\n",
        "def sub_ans(token,question_num,answer):\n",
        "    url='https://bids-class.azurewebsites.net/submit-answer'\n",
        "    data={'token':token,\n",
        "         'question_num':question_num,\n",
        "         'answer_num':answer}\n",
        "    x=requests.post(url,data=data)\n",
        "    response = json.loads(x.text)\n",
        "    if response['success']:\n",
        "          return response['correct']\n",
        "    else:\n",
        "         return response['message']\n",
        "\n",
        "#COPY YOUR TOKEN STRING BETWEEN THE DOUBLE QUOTES BELOW\n",
        "token = \"YOUR_TOKEN\"\n",
        "if token!='YOUR_TOKEN':\n",
        "  print(\"Success {},You are ready to go!\")\n",
        "else:\n",
        "  print(\"Please enter your token above and run again\")"
      ]
    },
    {
      "cell_type": "markdown",
      "metadata": {
        "id": "xyRig9-60De2"
      },
      "source": [
        "# Section 1: In Class Discussion Questions:\n",
        "\n",
        "The responses in this section are from the In Class Discussion page in Module 2 of Canvas.\n",
        "\n",
        "Unless otherwise stated, all responses in this section are open format.  Please respond in complete sentences.\n"
      ]
    },
    {
      "cell_type": "markdown",
      "metadata": {
        "id": "xcmgv5E2fyNh"
      },
      "source": [
        "#Clinical Story from Module 1\n",
        "\n",
        "Recall our clinical story from Module 1:\n",
        "Our patient is Denzel Johnson, a 51-year-old African American male. His MRN at Memorial Health System is 47575720. Mr. Johnson’s primary care physician (PCP) is Cal Jackson, MD. Mr. Johnson moved into the area about three years ago from out of state. The rest of Mr. Johnson’s family and medical history has been recorded in SimEHR.\n",
        "\n",
        "Mr. Johnson came in for an annual checkup with his primary care physician, Dr. Cal Jackson.  Upon physical examination, some irregularities were found with Mr. Johnson's prostate.   All of these notes are in the EHR, SimEHR.   Recall which conversations were had, and which conversations were not had.   Review the American Cancer Soceity guidelines for prostate cancer screening again."
      ]
    },
    {
      "cell_type": "markdown",
      "metadata": {
        "id": "E6-pJliatQnd"
      },
      "source": [
        "## Part A:  Converting expert guidance to a CDS service - start designing"
      ]
    },
    {
      "cell_type": "markdown",
      "metadata": {
        "id": "FmYyvJ0fjHH3"
      },
      "source": [
        "### 1. PRISK CDS app\n",
        "\n",
        "Were you able to locate \"PRISK\" (prostate cancer risk calculator) on mdcalc.com?\n",
        "\n",
        "Also consider trying an internet search.  \n",
        "\n",
        "(NOTE:  this question is not a serious question.)\n",
        "\n",
        "**Learning objective:**  always consider the source of the CDS service.\n",
        "\n",
        "* Yes\n",
        "* No\n"
      ]
    },
    {
      "cell_type": "code",
      "execution_count": null,
      "metadata": {
        "id": "1Xnf4C06jWIi"
      },
      "outputs": [],
      "source": [
        "sub_ans(token,4,\"##YourAnswer##\")"
      ]
    },
    {
      "cell_type": "markdown",
      "metadata": {
        "id": "bb3l9yHEjY4b"
      },
      "source": [
        "### 2. Were you able to locate the American Cancer Society Prostate Cancer Screening guidelines on mdcalc.com?\n",
        "\n",
        "* Yes\n",
        "* No"
      ]
    },
    {
      "cell_type": "code",
      "execution_count": null,
      "metadata": {
        "id": "jhBoTrakjYUt"
      },
      "outputs": [],
      "source": [
        "sub_ans(token,5,\"##YourAnswer##\")"
      ]
    },
    {
      "cell_type": "markdown",
      "metadata": {
        "id": "9WULUx4fjoaX"
      },
      "source": [
        "### 6.  Select any prostate cancer calculator on mdcalc.com.  \n",
        "\n",
        "Be sure to read the \"pearls/pitfalls\" dropbox (near the top of the page for most calculators).  \n",
        "\n",
        "* Which calculator did you choose?\n",
        "* When might this CDS service be called?\n",
        "* Which, if any, appropriate CDShook trigger may be called to initiate this calculator?  \n",
        "* What type of CDS card might be returned?\n",
        "\n",
        "We are looking for general though processes in this question, not specific answers.  That said, touch upon all four questions above.  Open responses. Please respond in complete sentences.\n",
        "\n",
        "**Learning objective**: You really need to understand exactly what a CDS service is returning to you.  Sometimes, there may be caveats, e.g., in the D'Amico Risk Classification, note the \"pitfall\" of \"May be less accurate in men with multiple risk factors.\""
      ]
    },
    {
      "cell_type": "code",
      "execution_count": null,
      "metadata": {
        "id": "imJ6pqi9jonY"
      },
      "outputs": [],
      "source": [
        "sub_ans(token,6,\"##YourAnswer##\")"
      ]
    },
    {
      "cell_type": "markdown",
      "metadata": {
        "id": "8AE-6T5Pkh9I"
      },
      "source": [
        "## Section 2:  Using the CDShook standard and website"
      ]
    },
    {
      "cell_type": "markdown",
      "metadata": {
        "id": "Vfgc8osn39lK"
      },
      "source": [
        "**Back story:**\n",
        "\n",
        "**Congratulations!! ** You have been hired as an EHR application and interface developer at Memorial Health System (MHS)!  \n",
        "\n",
        "Your first project is to understand how to ***integrate independent*** CDS services into the EHR.\n",
        "\n",
        "For the answers in this assessment, use the current continuous integration build version of the CDShooks standard unless specifically told otherwise.\n"
      ]
    },
    {
      "cell_type": "markdown",
      "metadata": {
        "id": "bev_dfCTky_G"
      },
      "source": [
        "## Section 2A:  CDShooks standard and hooks"
      ]
    },
    {
      "cell_type": "markdown",
      "metadata": {
        "id": "UjClu8f-k6DS"
      },
      "source": [
        "### 7. The complete URL for the official, balloted CDShooks standard is:  \n",
        "\n",
        "\n",
        "* Do include https://\n",
        "* Do not include version number\n",
        "* Do not include a / at the end of the URL\n",
        "\n",
        "**Learning objective**:  you need to understand which version of a standard you are reviewing and, especially, if it has been balloted and approved or not.  If not, there may be very few vendors willing to implement the standard."
      ]
    },
    {
      "cell_type": "code",
      "execution_count": null,
      "metadata": {
        "id": "Gf38vR2nk6Ma"
      },
      "outputs": [],
      "source": [
        "sub_ans(token,7,\"##YourAnswer##\")"
      ]
    },
    {
      "cell_type": "markdown",
      "metadata": {
        "id": "ta8sIr5xlANA"
      },
      "source": [
        "### 8. The complete URL for the “continuous improvement build” version of the CDShooks standard is: (include https://)  "
      ]
    },
    {
      "cell_type": "code",
      "execution_count": null,
      "metadata": {
        "id": "ihikihpmlAX-"
      },
      "outputs": [],
      "source": [
        "sub_ans(token,8,\"##YourAnswer##\")"
      ]
    },
    {
      "cell_type": "markdown",
      "metadata": {
        "id": "DZ5RM6yKjBFi"
      },
      "source": [
        "**From this point on, refer to the continuous improvement build of the CDShooks standard.**"
      ]
    },
    {
      "cell_type": "markdown",
      "metadata": {
        "id": "podnmLu_lArW"
      },
      "source": [
        "### 9. The system which could act as a CDS Client could be a:\n",
        "\n",
        "**Learning objective**:  You need to understand client/server and, sometimes, cloud terminology to read most standards.\n",
        "\n",
        "* a.) EHR\n",
        "\n",
        "* b.) Radiology PACS (image viewing) system\n",
        "\n",
        "* c.) Cardiology Appointment Scheduling system\n",
        "\n",
        "* d.) Oncology Staging application\n",
        "\n",
        "* e.) Any of the above\n"
      ]
    },
    {
      "cell_type": "code",
      "execution_count": null,
      "metadata": {
        "id": "Nmn5fv7XlA1t"
      },
      "outputs": [],
      "source": [
        "sub_ans(token,9,\"##YourAnswer##\")"
      ]
    },
    {
      "cell_type": "markdown",
      "metadata": {
        "id": "bY8OZMfBlCJL"
      },
      "source": [
        "### 10. If all of the proper IT security measures are employed, some institutions may be willing to use a CDS service hosted by a vendor at a remote URL, e.g., a vendor-managed cloud based server such as Azure, AWS, or Google.\n",
        "\n",
        "In this manner, many institutions may be using the exact same CDS logic, and that logic may be updated and maintained by the vendor.\n",
        "\n",
        "(T/F) Feedback could be incorporated from many institutions, which may result in a better CDS logic.\n",
        "\n",
        "**Learning objective**:  It is important to understand the sample size and population which an CDS service is based upon.\n",
        "\n",
        "* True\n",
        "* False\n"
      ]
    },
    {
      "cell_type": "code",
      "execution_count": null,
      "metadata": {
        "id": "zczTV4JclCTD"
      },
      "outputs": [],
      "source": [
        "sub_ans(token,10,\"##YourAnswer##\")"
      ]
    },
    {
      "cell_type": "markdown",
      "metadata": {
        "id": "89ASuGeBlC2y"
      },
      "source": [
        "### 11. The format for all CDS hooks is verb-noun, all lower case, dash between words.\n",
        "\n",
        "**Learning objective**:  In CDShooks, and even moreso in HL7 FHIR, recognizing the syntax of key components can help to build APIs and recognize errors very quickly.\n",
        "\n",
        "* True\n",
        "* False\n"
      ]
    },
    {
      "cell_type": "code",
      "execution_count": null,
      "metadata": {
        "id": "Er0VtX4slC-a"
      },
      "outputs": [],
      "source": [
        "sub_ans(token,11,\"##YourAnswer##\")"
      ]
    },
    {
      "cell_type": "markdown",
      "metadata": {
        "id": "HCI-jryvlDrJ"
      },
      "source": [
        " ### 12. You are looking at the CDS Service Specification, and the vendor specifies that the hook is “order-review”.  You will respond that the hook has been **(*BLANK*)**. (fill in the blank with lower case and past tense, i.e., the status of the hook)"
      ]
    },
    {
      "cell_type": "code",
      "execution_count": null,
      "metadata": {
        "id": "k-v60SFclDyi"
      },
      "outputs": [],
      "source": [
        "sub_ans(token,12,\"##YourAnswer##\")"
      ]
    },
    {
      "cell_type": "markdown",
      "metadata": {
        "id": "R4fiBQwrlD7w"
      },
      "source": [
        "### 13. In the CDShooks standards, a maturity level of ***(BLANK)*** indicates a “Normative” status of a hook. (fill in the blank)\n",
        "\n",
        "\n",
        "**Learning objective**:  Normative is a very important concept in HL7 and other standards.  Normative requires that the information will not be changed or evolve going forward.  This implies that it is safe for vendors to include this information in software releases.   A normative definition cannot be changed going forward.  It could be deprecated and redefined as a different object, but it is intended to signal stability.\n",
        "\n",
        "**The response is a number, no quotation marks (JSON formatting).**"
      ]
    },
    {
      "cell_type": "code",
      "execution_count": null,
      "metadata": {
        "id": "zuhrzjgGlEDw"
      },
      "outputs": [],
      "source": [
        "sub_ans(token,13,##YourAnswer##)"
      ]
    },
    {
      "cell_type": "markdown",
      "metadata": {
        "id": "VAessKaKlE0_"
      },
      "source": [
        "## Section 2B:  CDShooks workflows"
      ]
    },
    {
      "cell_type": "markdown",
      "metadata": {
        "id": "T0-hot85lFM-"
      },
      "source": [
        "### 14. Imagine if you will that there is a CDS services host URL which is “https://coolcdsvendor.com”.  Assuming that security and authorization are already accounted for, what is the complete URL to determine which CDS services this vendor provides?\n",
        "\n",
        "**Learning objective:**  Most modern standards provide a mechanism to have an instance of a server provide a list of the exact services which are supported.  You have the option of going and reading a random webpage or asking the server.  Which do you think is more accurate for the system you ware working with?"
      ]
    },
    {
      "cell_type": "code",
      "execution_count": null,
      "metadata": {
        "id": "m1jCvnCClFq9"
      },
      "outputs": [],
      "source": [
        "sub_ans(token,14,\"##YourAnswer##\")"
      ]
    },
    {
      "cell_type": "markdown",
      "metadata": {
        "id": "a-cmboTwmilP"
      },
      "source": [
        "### 15. FHIR, and any http/s transactions, are considered synchronous transactions because an http response (e.g., 200, 201, 400, etc.) is always required/returned.   \n",
        "\n",
        "Q: In CDShooks, the ***BLANK*** are also required to be synchronous. In other words, CDShooks has specific **sequences of transactions**, or an exact order, in which they must be executed.  Additionally, each \"hook\" definition has this section to describe the use case.  (fill in the blank, one word, all lower case, plural form)\n",
        "\n",
        "**Learning objectiv**e:  CDShooks is a superset (relies upon) HL7 FHIR.  CDShooks addresses a higher level, more complicated problem than an atomic search or create.  It cannot be accomplished in a single step."
      ]
    },
    {
      "cell_type": "code",
      "execution_count": null,
      "metadata": {
        "id": "7IWn9KjdmiYo"
      },
      "outputs": [],
      "source": [
        "sub_ans(token,15,\"##YourAnswer##\")"
      ]
    },
    {
      "cell_type": "markdown",
      "metadata": {
        "id": "Qm3fN42Jmj8L"
      },
      "source": [
        "### 16. In current/draft version of CDShooks, the primary types of workflows defined are:\n",
        "\n",
        "**Learning objective**:  You need to really understand what the high level \"use cases\" are which are addressed by CDShooks.  One of these is new to the draft version.  You need to understand that if you are writing a Request for Proposal (RFP), because it is an important workflow.\n",
        "\n",
        "* a.) Configuration, Discovery, Calling a CDS Service\n",
        "* b.) Discovery, Calling a CDS Service, Feedback\n",
        "* c.) Calling a CDS Service, Configuration, Feedback\n"
      ]
    },
    {
      "cell_type": "code",
      "execution_count": null,
      "metadata": {
        "id": "HeGPSKNemmQe"
      },
      "outputs": [],
      "source": [
        "sub_ans(token,16,\"##YourAnswer##\")"
      ]
    },
    {
      "cell_type": "markdown",
      "metadata": {
        "id": "WQDhKLASmncd"
      },
      "source": [
        "## Section 2C: The hooks and cards used in Calling a CDS service"
      ]
    },
    {
      "cell_type": "markdown",
      "metadata": {
        "id": "jd-cYIK6mniE"
      },
      "source": [
        "### 17. There are two types of objects (Fields) for a CDS Client to pass information to a CDS service.  The name of the required object is called ***(BLANK)***.  (all lower case)\n",
        "\n",
        "**Learning objective**:  Clinicians are pressed for time.  CDS needs to return results very quickly.  (avoid spinning wheels...)  If you are going to write an RFP, you need to understand how performance may be affected.  You need to understand what is optional and what is required in a standard.  If something may affect performance and it is optional, you may want to explicitly require this feature in an RFP or it may cost you a lot of money (and frustrated clinicians) to upgrade later."
      ]
    },
    {
      "cell_type": "code",
      "execution_count": null,
      "metadata": {
        "id": "yurSqXOgmnxn"
      },
      "outputs": [],
      "source": [
        "sub_ans(token,17,\"##YourAnswer##\")"
      ]
    },
    {
      "cell_type": "markdown",
      "metadata": {
        "id": "CbNaSRMhmo0S"
      },
      "source": [
        "### 18. There are two types of objects for a CDS Client to pass information to a CDS service.  The name of the optional object is called ***(BLANK)***. (one word, all lower case)"
      ]
    },
    {
      "cell_type": "code",
      "execution_count": null,
      "metadata": {
        "id": "2xyuBzzDmpFS"
      },
      "outputs": [],
      "source": [
        "sub_ans(token,18,\"##YourAnswer##\")"
      ]
    },
    {
      "cell_type": "markdown",
      "metadata": {
        "id": "pytRfAw-mp0Y"
      },
      "source": [
        "### 19. There is a CDS hook called “encounter-start”.  Read this hook definition.   The text describes that there are several different “states” of an encounter.   Note that the state of the encounter is not part of the context object for this hook.   However, this seems like it could be critical information to determine whether or not a CDS hook should trigger or if the CDS Service should return a card.  To solve the latter problem, the CDS Service could:\n",
        "\n",
        "**Learning objective**:  Understand different ways that EHR data can be obtained by a CDS service, in addition to the context object information specified by the standard.\n",
        "\n",
        "* a.) Request the encounter state as part of the prefetch object\n",
        "* b.) Require the encounter state as part of the prefetch object\n",
        "* c.) Extend the context object of an encounter-start hook\n",
        "* d.) Query the FHIR server for the encounter state using the encounterId\n",
        "* e.) Query the FHIR server for the patient information using the patientId\n",
        "* f.) All of b, c, or d\n",
        "* g.) Either b or d\n",
        "* h.) Either a or d\n",
        "* i.) None of the above\n"
      ]
    },
    {
      "cell_type": "code",
      "execution_count": null,
      "metadata": {
        "id": "UG27sFL0mp8a"
      },
      "outputs": [],
      "source": [
        "sub_ans(token,19,\"##YourAnswer##\")"
      ]
    },
    {
      "cell_type": "markdown",
      "metadata": {
        "id": "xYjtwgmrmqaw"
      },
      "source": [
        "### 20. There is an oncologist with a patient who has an appointment in six days.   The oncologist is in the process of very complex cancer staging and treatment planning.  However, there is a CDS service available to assist with this task.  The trigger for this CDS service could be “encounter-start”, but only when the encounter **state** is ***(BLANK)***.  (one word, all lower case)\n",
        "\n",
        "**Learning objective**:  \"the right time\" can be refined in multiple ways.  If a CDS algorithm is \"popping up\" too often and then being ignored, you may need to dig deeper into the implementation and trigger rules to be more specific."
      ]
    },
    {
      "cell_type": "code",
      "execution_count": null,
      "metadata": {
        "id": "bniNcxeJmqli"
      },
      "outputs": [],
      "source": [
        "sub_ans(token,20,\"##YourAnswer##\")"
      ]
    },
    {
      "cell_type": "markdown",
      "metadata": {
        "id": "TC_br5lnmsaV"
      },
      "source": [
        "## Background - CDS \"at the right time\"\n",
        "\n",
        "The encounter-start trigger states “Note that there can be multiple 'starts' for the same encounter as each user becomes engaged. For example, when a scheduled encounter is presented at the beginning of the day for planning purposes, when the patient arrives, when the patient first encounters a clinician, etc. Hooks may present different information depending on user role and Encounter.status.”\n",
        "\n",
        "As such, a CDS Service may need to consult data from several different sources (i.e., multiple different FHIR servers).  Are the following statements conceptually valid for a radiation oncologist who is beginning a treatment plan prior to a patient appointment?  (Note SNOMED/30929500 is the PractionerRole code for a “clinical oncologist”.)\n",
        "\n",
        "**From the context object:**\n",
        "\n",
        "\"context\":{\n",
        "  \"userId\" : \"PractitionerRole/A2340113\",\n",
        "  \"patientId\" : \"1288992\",\n",
        "  \"encounterId\" : \"456\"\n",
        "}\n",
        "\n",
        "Where the “code” in  \"PractitionerRole/A2340113\" = “30929500”\n",
        "\n",
        "Requested in the prefetch object:\n",
        "* Encounter.status\n",
        "* Encounter.priority\n",
        "* Encounter.type\n",
        "* Encounter.plannedStartDate\n",
        "* Encounter.diagnosis\n",
        "\n",
        "Consider reviewing the HL7 FHIR Encounter Resource content.\n"
      ]
    },
    {
      "cell_type": "markdown",
      "metadata": {
        "id": "L4DfMl4-mr60"
      },
      "source": [
        " ### 21. The encounter-start trigger is complex.\n",
        "\n",
        " **Learning objective**:  \"at the right time\" is complex.  A CDS designer, and a department deploying the CDS, really needs to think through all use cases."
      ]
    },
    {
      "cell_type": "markdown",
      "metadata": {
        "id": "bFVHbmg6msrb"
      },
      "source": [
        "### **True/False (entire paragraph):**  \n",
        "\n",
        "If (Encounter.status = planned) the “GreetNewPatient” CDS service should not fire; however, the “BeginOncologyStaging” CDS may be appropriate.  However, the “GreetNewPatient” CDS service may be appropriate if the encounter-start trigger fires in the future.\n",
        "\n",
        "* True\n",
        "* False\n"
      ]
    },
    {
      "cell_type": "code",
      "execution_count": null,
      "metadata": {
        "id": "NRgLbw-Oms0d"
      },
      "outputs": [],
      "source": [
        "sub_ans(token,21,\"##YourAnswer##\")"
      ]
    },
    {
      "cell_type": "markdown",
      "metadata": {
        "id": "AbCni6jMmtIK"
      },
      "source": [
        "### 22. A response array of zero CDS cards from a CDS service is an error state.\n",
        "\n",
        "**Learning objective**:  Understand how a CDS service may behave and how to convey these states to a clinician.\n",
        "\n",
        "* True\n",
        "* False"
      ]
    },
    {
      "cell_type": "code",
      "execution_count": null,
      "metadata": {
        "id": "YJOypeyJmtSz"
      },
      "outputs": [],
      "source": [
        "sub_ans(token,22,\"##YourAnswer##\")"
      ]
    },
    {
      "cell_type": "markdown",
      "metadata": {
        "id": "-YojUDhBpxT5"
      },
      "source": [
        "### 23. It is possible for a CDS Service to return multiple cards in the form of an array of card objects.\n",
        "\n",
        "**Learning objective**:  A CDS Service may return multiple responses with multiple different types of cards.  \n",
        "How will options be presented to the clinician in a useful manner?\n",
        "\n",
        "* True\n",
        "* False\n"
      ]
    },
    {
      "cell_type": "code",
      "execution_count": null,
      "metadata": {
        "id": "owoXE5e7pxtw"
      },
      "outputs": [],
      "source": [
        "sub_ans(token,23,\"##YourAnswer##\")"
      ]
    },
    {
      "cell_type": "markdown",
      "metadata": {
        "id": "3zf_6ZZspyD_"
      },
      "source": [
        "### 24. An EHR integrator/administrator can determine which CDS hooks are supported by using the Discovery query to the endpoint “https://hostname/cds-services”.  The cds hooks are defined in the “hook” field of the  “services” object of the JSON response.\n",
        "\n",
        "**Learning objective**:  Learn to read the JSON objects in CDShooks.\n",
        "\n",
        "* True\n",
        "* False\n"
      ]
    },
    {
      "cell_type": "code",
      "execution_count": null,
      "metadata": {
        "id": "Q6AMkS6zpyPg"
      },
      "outputs": [],
      "source": [
        "sub_ans(token,24,\"##YourAnswer##\")"
      ]
    },
    {
      "cell_type": "markdown",
      "metadata": {
        "id": "6MZTjCeDpzD_"
      },
      "source": [
        "### 25. The “encounterId” array element is optional for which CDS hook(s)?  \n",
        "The required context object is defined by the hook, which means the context object is slightly different for each hook. (hint: select the “hooks” pulldown on the left hand side of the cds-hooks.org website; scroll down to review the “Context” section of each web page.)\n",
        "\n",
        "**Learning objective**:  Remember that at least some of the Context data is always required, but may vary by hook type.\n",
        "\n",
        "* a.) patient-view\n",
        "* b.) encounter-start\n",
        "* c.) order-dispatch\n",
        "* d.) appointment-book\n",
        "* e.) a and b\n",
        "* f.) a and c\n",
        "* g.) b and c\n",
        "* h.) c and d\n",
        "* i.) a and d\n",
        "* j.) b and d\n",
        "* k.) All of a through d\n"
      ]
    },
    {
      "cell_type": "code",
      "execution_count": null,
      "metadata": {
        "id": "CTQyzvu4pzNe"
      },
      "outputs": [],
      "source": [
        "sub_ans(token,25,\"##YourAnswer##\")"
      ]
    },
    {
      "cell_type": "markdown",
      "metadata": {
        "id": "v6w3ewjzp0NL"
      },
      "source": [
        "### 26. The fields in the context object are defined by the CDS specification for each hook.  The fields for the prefetch object are defined by the CDS service, but can reference the context fields.  An accurate example of this is:  \"patient\": \"Patient/{{context.patientId}}\"\n",
        "\n",
        "Look carefully at the syntax of \"Patient/{{context.patientId}\".  This about the FHIR syntax.  From looking at this syntax you should be able to discern if a patientId is a FHIR id or identifier.  If in doubt, review the FHIR standard on identifiers.\n",
        "\n",
        "**Learning objective**:  Remember that the CDS Service may need to retrieve information from the Context object and use this in combination with the prefetch object or a subsequent FHIR query (search) to retrieve data.\n",
        "\n",
        "* True\n",
        "* False\n"
      ]
    },
    {
      "cell_type": "code",
      "execution_count": null,
      "metadata": {
        "id": "psNyFbZAp0UU"
      },
      "outputs": [],
      "source": [
        "sub_ans(token,26,\"##YourAnswer##\")"
      ]
    },
    {
      "cell_type": "markdown",
      "metadata": {
        "id": "4IljDAzWp1Ga"
      },
      "source": [
        "### 27. As part of the Discovery workflow, a CDS Service can expose the data (fields) it would prefer to receive.   \n",
        "\n",
        "These fields are defined in the prefetch object.  The CDS Client MAY return the actual value (e.g., \"birthDate\": \"1925-12-23\") **OR** it MAY return a portion of a FHIR query URL for the CDS Service to execute (eg., Observation?patient={{context.patientId}}&code=4548-4&_count=1&sort:desc=date\").  **OR**, it MAY return no data at all.\n",
        "\n",
        "**Learning objective**:  A CDS Service should be programmed “defensively” if all of the required data is not passed.\n",
        "\n",
        "* True\n",
        "* False\n"
      ]
    },
    {
      "cell_type": "code",
      "execution_count": null,
      "metadata": {
        "id": "Az11d9gNp1Pa"
      },
      "outputs": [],
      "source": [
        "sub_ans(token,27,\"##YourAnswer##\")"
      ]
    },
    {
      "cell_type": "markdown",
      "metadata": {
        "id": "poPIHRwlp1-A"
      },
      "source": [
        "### 28. A CDS Client ***(BLANK)*** choose to honor zero, some, or all of the desired prefetch templates, and is free to choose the most appropriate source for these data. (fill in the blank, all upper case, one word, PROPER Conformance Language VERB, e.g., MUST, SHALL)\n",
        "\n",
        "\n",
        "**Learning objectives**:  The CDS Client may not fill in the requested prefetch information, but if it does the Client gets to select the most appropriate source.  For example, the CDS Client (EHR) may have multiple sources of information for an “AllergyIntollerance” and may choose to check the provenance of those resources"
      ]
    },
    {
      "cell_type": "code",
      "execution_count": null,
      "metadata": {
        "id": "dXtliBe9p2KH"
      },
      "outputs": [],
      "source": [
        "sub_ans(token,28,\"##YourAnswer##\")"
      ]
    },
    {
      "cell_type": "markdown",
      "metadata": {
        "id": "j4GfhtBvp3JO"
      },
      "source": [
        "### 29. The primary stated reason for a CDS service to request a prefetch object from a CDS client is (**BLANK**) (fill in the blank, all lower case, one word)\n",
        "\n",
        "**Learning objective**:  System architecture is critical for clinician usability and adoption.  You need to really understand what a CDS service and a CDS client vendor is offering. Support is required on both the server and the client.  You must include this in every RFP you write.\n"
      ]
    },
    {
      "cell_type": "code",
      "execution_count": null,
      "metadata": {
        "id": "uiLPI4hYp3WP"
      },
      "outputs": [],
      "source": [
        "sub_ans(token,29,\"##YourAnswer##\")"
      ]
    },
    {
      "cell_type": "markdown",
      "metadata": {
        "id": "c9xkk4OGp38l"
      },
      "source": [
        "### 30. In addition to receiving patient or observation (or other) information from the “context” object or the “prefetch” object, a CDS Service may also perform additional FHIR queries to any other FHIR server to aggregate clinical information.    \n",
        "\n",
        "For this to work, the patientId must either be the same across FHIR servers, the CDS Service needs to use the MRN across FHIR servers, or there needs to be a Master Patient Index (MPI) system available.  This is true because (a) in the U.S. there is no national patient identifier, and (b) FHIR id’s are only unique on a single FHIR server.\n",
        "\n",
        "**Learning objective**:  Assuming that all internet security has been implemented, it is possible to implement a CDS client which retrieves information from multiple institutions, but it will be complex and may (will) affect performance.\n",
        "\n",
        "* True\n",
        "* False"
      ]
    },
    {
      "cell_type": "code",
      "execution_count": null,
      "metadata": {
        "id": "vm9mAKxWp4GU"
      },
      "outputs": [],
      "source": [
        "sub_ans(token,30,\"##YourAnswer##\")"
      ]
    },
    {
      "cell_type": "markdown",
      "metadata": {
        "id": "Xw2IBE_ap4rf"
      },
      "source": [
        "### 31. In the U.S., the 21st Century CURES Act will require all EHRs to comply with FHIR R4 searches by 2025.  This, in turn, should promote “independent” CDS services development because the CDS services will be able to access the EHR information.\n",
        "\n",
        "**Learning objective**:  You need to ask questions regarding CDShooks support of vendors and incorporate CDShooks into RFPs or it will lack implementation in the real-world in spite of the ONC requirement in the U.S.\n",
        "\n",
        "* True\n",
        "* False"
      ]
    },
    {
      "cell_type": "code",
      "execution_count": null,
      "metadata": {
        "id": "suwfqCnep40r"
      },
      "outputs": [],
      "source": [
        "sub_ans(token,31,\"##YourAnswer##\")"
      ]
    },
    {
      "cell_type": "markdown",
      "metadata": {
        "id": "j_dRxIBOp5eD"
      },
      "source": [
        "### 32. If a CDS service is attempting to retrieve information from a EHR which complies with FHIR R4, but if profiling and validation was not required or recommended for inputting data, the EHR may contain the data, but the CDS Service may not receive the data in a query response.\n",
        "\n",
        "**Learning objective**:  Don't forget that structured, coded data is much easier to search and retrieve than unstructured data.  If you would like to implement CDS at your institution, you better be certain that the information you wish to retrieve is being stored as structured, coded data in the EHR today.  NLP and LLMs will solve some of these issues, at some point.\n",
        "\n",
        "* True\n",
        "* False"
      ]
    },
    {
      "cell_type": "code",
      "execution_count": null,
      "metadata": {
        "id": "gB0KXwoqp5oK"
      },
      "outputs": [],
      "source": [
        "sub_ans(token,32,\"##YourAnswer##\")"
      ]
    },
    {
      "cell_type": "markdown",
      "metadata": {
        "id": "PkUoM3DVp6MB"
      },
      "source": [
        "### 33.  The simplest type of a CDS card is an ***(BLANK)*** card.  (one word, all lower case)\n",
        "\n",
        "A CDS Service provides a CDS Service Response using different types of \"cards\".\n",
        "\n",
        "**Learning objective**: \"the right information\" \"through the right channel\" is very affected by the type of card returned by a CDS service."
      ]
    },
    {
      "cell_type": "code",
      "execution_count": null,
      "metadata": {
        "id": "QYdvRubcp6UB"
      },
      "outputs": [],
      "source": [
        "sub_ans(token,33,\"##YourAnswer##\")"
      ]
    },
    {
      "cell_type": "markdown",
      "metadata": {
        "id": "x2IzPOJKp6nY"
      },
      "source": [
        "### 34. The type of CDS card which may contain an “Action” button, such as “Change ordered medication”, is a ***(BLANK)*** card. (one word, all lower case)\n",
        "\n",
        "**Learning objective**:  System architecture, and including the next step directly with the current point of interaction by a clinician, can be a huge improvement for performance and clinician satisfaction.\n"
      ]
    },
    {
      "cell_type": "code",
      "execution_count": null,
      "metadata": {
        "id": "I8R06oqqp6wg"
      },
      "outputs": [],
      "source": [
        "sub_ans(token,34,\"##YourAnswer##\")"
      ]
    },
    {
      "cell_type": "markdown",
      "metadata": {
        "id": "g9gQArKOp7tF"
      },
      "source": [
        "### 35. This CDS card must contain a ***(BLANK)*** object which will contain the SmartOnFHIR app \"label\" (human description), \"URL\", and the \"type\" which set to \"smart\". (one word, all lower case)\n",
        "\n",
        "For an EHR to be able to launch a SMARTonFHIR app received in a CDS Service Response card.\n",
        "\n",
        "**Learning objective**:  Launching a SMARTonFHIR application from CDS is a very powerful tool, but requires synchronization of several applications by your IT staff."
      ]
    },
    {
      "cell_type": "code",
      "execution_count": null,
      "metadata": {
        "id": "aJLDXrgep71-"
      },
      "outputs": [],
      "source": [
        "sub_ans(token,35,\"##YourAnswer##\")"
      ]
    },
    {
      "cell_type": "markdown",
      "metadata": {
        "id": "gCKnNVLyp8w2"
      },
      "source": [
        "### 36. When a card response is returned, the CDS card is required to contain the complete URL which was the original source (provenance) of the clinical guidance, e.g., the American Cancer Society or the Singapore Radiological Society, to allow a user to drill down into additional details.\n",
        "\n",
        "Consider the source of CDS, “source” is a field within a “card” object response. But, \"source\" is actually an object with multiple values, itself.\n",
        "\n",
        "**Learning objective**:  Do you want the source of your CDS data/guidance to be understood by the clinician?  Have you written this into your CDS RFP?\n",
        "\n",
        "* True\n",
        "* False\n"
      ]
    },
    {
      "cell_type": "code",
      "execution_count": null,
      "metadata": {
        "id": "Ri9X2tLLp85a"
      },
      "outputs": [],
      "source": [
        "sub_ans(token,36,\"##YourAnswer##\")"
      ]
    },
    {
      "cell_type": "markdown",
      "metadata": {
        "id": "vLEYl-F1p9Gs"
      },
      "source": [
        "## Section 2D: Feedback in CDShooks"
      ]
    },
    {
      "cell_type": "markdown",
      "metadata": {
        "id": "_HGZp9PUtbMg"
      },
      "source": [
        "### 37. The \"Feedback\" use case has been final balloted and is included the HL7 CDShooks v2 standard.\n",
        "\n",
        "**Learning objective**:  Include the version of a standard in your RFP.\n",
        "\n",
        "* True\n",
        "* False\n"
      ]
    },
    {
      "cell_type": "code",
      "execution_count": null,
      "metadata": {
        "id": "Bw7WqUWfp9Qc"
      },
      "outputs": [],
      "source": [
        "sub_ans(token,37,\"##YourAnswer##\")"
      ]
    },
    {
      "cell_type": "markdown",
      "metadata": {
        "id": "u6iddNAKp9ZP"
      },
      "source": [
        "### 38. In the current continuous improvement build version of CDShooks, a CDS Service ***(BLANK)*** support a feedback endpoint.  (PROPER Conformance Language VERB, all UPPER case, one word)"
      ]
    },
    {
      "cell_type": "code",
      "execution_count": null,
      "metadata": {
        "id": "lHZldMCZp9gk"
      },
      "outputs": [],
      "source": [
        "sub_ans(token,38,\"##YourAnswer##\")"
      ]
    },
    {
      "cell_type": "markdown",
      "metadata": {
        "id": "WJ3m5XFnp-SK"
      },
      "source": [
        "### 39. In the current continuous improvement build version of CDShooks, a CDS Client ***(BLANK)*** be capable of sending feedback.  (PROPER Conformance Language VERB, all UPPER case, one word)"
      ]
    },
    {
      "cell_type": "code",
      "execution_count": null,
      "metadata": {
        "id": "86GMtjSpp-aa"
      },
      "outputs": [],
      "source": [
        "sub_ans(token,39,\"##YourAnswer##\")"
      ]
    },
    {
      "cell_type": "markdown",
      "metadata": {
        "id": "14vW8nKRp_HQ"
      },
      "source": [
        "### 40. You must require certain features in CDS Clients and CDS Services in a Request for Proposal (RFP) when you are soliciting new systems and in legal contracts for acquisitions. Otherwise, the CDS systems you purchase may not support all of the features which you need.\n",
        "\n",
        "* True\n",
        "* False\n"
      ]
    },
    {
      "cell_type": "code",
      "execution_count": null,
      "metadata": {
        "id": "FzxSzvshudyp"
      },
      "outputs": [],
      "source": [
        "sub_ans(token,40,\"##YourAnswer##\")"
      ]
    },
    {
      "cell_type": "markdown",
      "metadata": {
        "id": "Lt2EZqo4ucHG"
      },
      "source": [
        "### 41. The \"Feedback\" transaction uses which http/s verb? (all upper case, one word)"
      ]
    },
    {
      "cell_type": "code",
      "execution_count": null,
      "metadata": {
        "id": "xAPMJvptudEC"
      },
      "outputs": [],
      "source": [
        "sub_ans(token,41,\"##YourAnswer##\")"
      ]
    },
    {
      "cell_type": "markdown",
      "metadata": {
        "id": "PZYleenqugVM"
      },
      "source": [
        "### 42. The name of the field in the \"Feedback\" object which links the feedback acceptance or rejection to the unique instance of the CDS evaluation is **(blank)**.  \n",
        "\n",
        "(fill in the blank, all lower case, one word, do not use the . extension, only the feedback object field name)"
      ]
    },
    {
      "cell_type": "code",
      "execution_count": null,
      "metadata": {
        "id": "Va8_CeMap_N8"
      },
      "outputs": [],
      "source": [
        "sub_ans(token,42,\"##YourAnswer##\")"
      ]
    },
    {
      "cell_type": "markdown",
      "metadata": {
        "id": "lc14vt5KABj7"
      },
      "source": [
        "### 43. Provide feedback.  Graded question!\n",
        "\n",
        "As part of continuous improvement, especially for a new class, we would like realtime feedback and active participation.  **As part of your participation grade**, please answer either (or both!) of the following questions using the **Canvas Week 3 \"Student Q&A Discussion\"**:\n",
        "* After completing assignment, is there a concept which is not clear?  \n",
        "* After completing this module, what is something new that you learned that you feel is important?"
      ]
    },
    {
      "cell_type": "markdown",
      "metadata": {
        "id": "c9QFjqNKxLUG"
      },
      "source": [
        "## Check your answers.\n",
        "You can check your answers [here](https://bids-class.azurewebsites.net/home).\n",
        "\n",
        "\n",
        "If you are not seeing the answers logged to your JHED, please make sure you have the done the first step in this notebook correctly for entering your TOKEN. You must have answered at least one question for the check to work properly."
      ]
    }
  ],
  "metadata": {
    "colab": {
      "provenance": []
    },
    "kernelspec": {
      "display_name": "Python 3",
      "name": "python3"
    },
    "language_info": {
      "name": "python"
    }
  },
  "nbformat": 4,
  "nbformat_minor": 0
}