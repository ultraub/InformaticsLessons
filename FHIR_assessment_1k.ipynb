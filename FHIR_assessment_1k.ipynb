{
 "cells": [
  {
   "cell_type": "markdown",
   "metadata": {
    "id": "UGwi6AWzove8"
   },
   "source": [
    "\n",
    "# FHIR Week 1:  Overview of FHIR and Simple Query API\n",
    "\n",
    "\n",
    "**OVERVIEW**\n",
    "\n",
    "Welcome to FHIR!\n",
    "\n",
    "In 2009, the U.S. HITECH Act introduced the concept of “Meaningful Use”.  Meaningful Use was intended to drive “useful” adoption of Electronic Healthcare Records (EHR) by providing $27B for EHR adoption incentives.  This explosion of EHR adoption drove the need for computer systems interoperability.\n",
    "\n",
    "We will begin the first class of this eight week quarter with an overview of the HL7 Fast Healthcare Interoperability Resources (FHIR) and jump right into performing queries to a FHIR database using a tool called Open EMR as well as Jupyter notebooks.\n",
    "\n",
    "Note that, in general, FHIR is focused on clinical patient care rather than healthcare research.\n",
    "\n",
    "\n",
    "\n",
    "**LEARNING OBJECTIVES**\n",
    "\n",
    "The Learning Objectives of this Assessment are to begin to experiement:\n",
    "- 1.) have specific reasons to browse the FHIR webpage and begin to read the materials\n",
    "- 2.) use a data browswer to begin to investigate the data accessible server to answer specific questions\n",
    "\n",
    "\n",
    "**ASSIGNMENT**\n",
    "\n",
    "**Assignment Pre-requisites: **\n",
    "\n",
    "*   Make certain that your IP address has been whitelisted for the Open EMR section of the assessment.  Use \"whatISmyIPaddress.com\".\n",
    "\n",
    "**Set up and initialization: **\n",
    "\n",
    "Before beginning the assignment you will need to initialize the JH BIDS \"answer key server\" by adding your jhed_id about 3/4 down the cell block below and then executing.  Verify the success message at the bottom.   "
   ]
  },
  {
   "cell_type": "code",
   "execution_count": null,
   "metadata": {
    "id": "wPFirJ7DovfB"
   },
   "outputs": [],
   "source": [
    "import requests\n",
    "import json\n",
    "def sub_ans(team,question_num,answer):\n",
    "    url='https://bids-class.azurewebsites.net/submit-answer'\n",
    "    data={'class':'fhir22',\n",
    "         'module':1,\n",
    "         'team':team,\n",
    "         'question_num':question_num,\n",
    "         'answer_num':answer}\n",
    "    x=requests.post(url,data=data)\n",
    "    response = json.loads(x.text)\n",
    "    if response['success']:\n",
    "          return response['correct']\n",
    "    else:\n",
    "         return response['message']\n",
    "#Enter your JHED ID Here for participation and feedback.\n",
    "jhed_id=\"#JHED ID\"\n",
    "if jhed_id!='':\n",
    "  print(\"Success {},You are ready to go!\")\n",
    "else:\n",
    "  print(\"Please enter your JHED ID above and run again\")"
   ]
  },
  {
   "cell_type": "markdown",
   "metadata": {
    "id": "1R3Ij0MWovfC"
   },
   "source": [
    "**Steps**:\n",
    "\n",
    "*Congratulations*!  You were recently hired as a software developer in the Johns Hopkins BIDS department.   Here at Johns Hopkins we use the Open EMR system (ok, not really).  You will need to learn how to navigate the EMR, insert data as a clinician, and access data via the FHIR API as a software developer.  But, first you will need to learn how to read the HL7 FHIR standard.\n",
    "\n",
    "#Section 1:  Investigate the FHIR Standard\n",
    "\n",
    "Go the FHIR standard home page for Release 4 (R4) and navigate to the Resource (Resource List) tab.  Consider bookmarking this webpage.  A “Resource” is the definition of a specific item such as a Patient, a Diagnostic Report, or a Medication.  In computer software terms, these are called “object definitions”.  Peruse this webpage to get an idea of Resources which are available, if you have not yet done so.  Please spend a solid amount of time reviewing the FHIR R4 Resources.  Ask yourself some questions about data which you need to critically review and find it.\n",
    "\n",
    "##1. Navigate back to the main Resource list page of FHIR R4.  Look carefully at the naming convention as well as some of the Resource names.\n",
    "\n",
    " Select the item below which is FALSE:\n",
    "\n",
    "-  (a) The naming convention for a Resource is the first letter of a Resource is always upper case and conjoined words are in camel case\n",
    "-  (b) CarePlan is a FHIR R4 Resource\n",
    "-  (c) A Claim is a FHIR R4 Resource\n",
    "-  (d) A ResearchStudy is a FHIR R4 Resource\n",
    "-  (e) A Physician is a FHIR R4 Resource  \n",
    "\n",
    "\n",
    "**NOTE:**  After each question, enter your response in the \"sub_ans\" function below and execute the cell block.   The response is in JSON, so text must have quoations marks, but numbers will not.   Verify success in the response line which will be printed below.  You may try multiple times.\n"
   ]
  },
  {
   "cell_type": "code",
   "execution_count": null,
   "metadata": {
    "id": "lNxVjYnAovfD"
   },
   "outputs": [],
   "source": [
    "sub_ans(jhed_id,1,\"#Your Answer\")"
   ]
  },
  {
   "cell_type": "markdown",
   "metadata": {
    "id": "dnWmM8eCovfE"
   },
   "source": [
    "## 2. Note along the lefthand side that there are 5 categories of Resources.   \n",
    "\n",
    "These are written vertically in black text.  Review these categories and get an understanding for the content in each category.  Do you notice any Category or Resource organized into a Category which is confusing?\n",
    "\n",
    "Which category includes the Immunization Resource?\n",
    "\n",
    "- (a) Specialized\n",
    "- (b) Finance\n",
    "- (c) Clinical\n",
    "- (d) Base\n",
    "- (e) Foundation\n"
   ]
  },
  {
   "cell_type": "code",
   "execution_count": null,
   "metadata": {
    "id": "GfKKxHoMovfE"
   },
   "outputs": [],
   "source": [
    "sub_ans(jhed_id,2,\"#Your Answer\")"
   ]
  },
  {
   "cell_type": "markdown",
   "metadata": {
    "id": "Q_IzfrBEtNg7"
   },
   "source": [
    "## 3. Select the Patient Resource in the “Base” row under the “Individuals” column.  \n",
    "\n",
    "Scroll down to the Resource Content structure (the “structure” is the human readable definition of the data *elements* of the Resource).  Peruse the *elements* that comprise the Patient Resource.  \n",
    "\n",
    "Be aware that the capitalization and camel case can be very useful to reading and creating APIs later.  That is, this convention is important.\n",
    "\n",
    "Select the correct (true) answer regarding the elements of a Resource:\n",
    "\n",
    "- (a) The naming convention for all FHIR Resource *elements* begin with lower case followed by camel case.\n",
    "- (b) Some elements are comprised of sets of elements.\n",
    "- (c) The “Card.” column identifies the cardinality of each element, or how many times the element may or must repeat.\n",
    "- (d) A cardinality of “1..1” means that an element is required and may appear at most one time.\n",
    "- (e) A cardinality of “0..*” means that an element is optional, but may repeat many times.\n",
    "- (f) The Type column defines the data format for each element and describes the format of the “answer”.  For example, “birthDate” is the question and the format of the “answer”, that is the date of birth, is written as the FHIR date format of YYYY-MM-DD.\n",
    "- (g) All of the above."
   ]
  },
  {
   "cell_type": "code",
   "execution_count": null,
   "metadata": {
    "id": "q2nLYe_dtxU7"
   },
   "outputs": [],
   "source": [
    "sub_ans(jhed_id,3,\"#Your Answer\")"
   ]
  },
  {
   "cell_type": "markdown",
   "metadata": {
    "id": "lZg1Wwq1HImX"
   },
   "source": [
    "## 4. Still on the Patient Resource Content Structure webpage, review the data type column of the element “name”.  What is the name of the data type (data format)?\n",
    "\n",
    "- (a) Text\n",
    "- (b) HumanName\n",
    "- (c) ASCII\n",
    "- (d) None of the above\n",
    "\n",
    "Click on the link for the data type.  Review how FHIR structures this particular data type into subcomponents."
   ]
  },
  {
   "cell_type": "code",
   "execution_count": null,
   "metadata": {
    "id": "yF3i0PcqHSpC"
   },
   "outputs": [],
   "source": [
    "sub_ans(jhed_id,4,\"#Your Answer\")"
   ]
  },
  {
   "cell_type": "markdown",
   "metadata": {
    "id": "hRT3q9lPD5Ee"
   },
   "source": [
    "## Section 2: Let's use Open EMR\n",
    "\n",
    "For this section, we are going to use the \"Scavenger Hunt Tutorial\" which is part of the Open EMR training set.  Note that the version of OpenEMR used in this homework assignment is de-identified and synthetic data.\n",
    "\n",
    "The Scanvenger Hunt PDF is available in Canvas Module 1 under the Assessment headline.\n",
    "\n",
    "Complete steps 1 through 6 in the Scanvenger Hunt Tutorial.  We will be using the patient:  \"Harland Hoppe\".     It is your option to complete the rest of the Tutorial, beyond Step 6.\n",
    "\n",
    "Now that you are familiar with the clinical user interface of Open EMR, let's investigate from an interoperability API vantage point.   Remember, you were recently hired at Johns Hopkins BIDS division as a software developer!\n",
    "\n",
    "Using the Open EMR Patient Finder, find a patient named \"Harland Hoppe\".\n",
    "\n",
    "You have been tasked with creating a FHIR API interface for an Alzheimer's tool which is being developed at the Hopkins ADRC."
   ]
  },
  {
   "cell_type": "markdown",
   "metadata": {
    "id": "639jEIJEEI2D"
   },
   "source": [
    "**Security Token:**  Access tokens are required to make downstream API calls. The function below uses user/password/client authentication to retrieve an access token. Note that this is **atypical** for retrieving access tokens, and generally OAuth2 will be used.\n",
    "\n",
    "Execute the code block below."
   ]
  },
  {
   "cell_type": "code",
   "execution_count": null,
   "metadata": {
    "id": "le5bl2k9IgQL"
   },
   "outputs": [],
   "source": [
    "def get_access_token():\n",
    "    url = \"https://excite.eastus.cloudapp.azure.com/oauth2/default/token\"\n",
    "\n",
    "    headers = {\n",
    "        \"Content-Type\": \"application/x-www-form-urlencoded\"\n",
    "    }\n",
    "\n",
    "    data = {\n",
    "        \"grant_type\": \"password\",\n",
    "        \"user_role\" : \"users\",\n",
    "        \"username\" : \"physician\",\n",
    "        \"password\" : \"Password123!\",\n",
    "        \"client_id\": \"q8hPK8HZnwUbPraNyilbRZAEwycVN1zfHeQrjGfP9AM\",\n",
    "        'scope': \"openid offline_access api:oemr api:fhir api:port user/allergy.read user/allergy.write user/appointment.read user/appointment.write user/dental_issue.read user/dental_issue.write user/document.read user/document.write user/drug.read user/encounter.read user/encounter.write user/facility.read user/facility.write user/immunization.read user/insurance.read user/insurance.write user/insurance_company.read user/insurance_company.write user/insurance_type.read user/list.read user/medical_problem.read user/medical_problem.write user/medication.read user/medication.write user/message.write user/patient.read user/patient.write user/practitioner.read user/practitioner.write user/prescription.read user/procedure.read user/soap_note.read user/soap_note.write user/surgery.read user/surgery.write user/transaction.read user/transaction.write user/vital.read user/vital.write user/AllergyIntolerance.read user/CareTeam.read user/Condition.read user/Coverage.read user/Encounter.read user/Immunization.read user/Location.read user/Medication.read user/MedicationRequest.read user/Observation.read user/Organization.read user/Organization.write user/Patient.read user/Patient.write user/Practitioner.read user/Practitioner.write user/PractitionerRole.read user/Procedure.read patient/encounter.read patient/patient.read patient/AllergyIntolerance.read patient/CareTeam.read patient/Condition.read patient/Coverage.read patient/Encounter.read patient/Immunization.read patient/MedicationRequest.read patient/Observation.read patient/Patient.read patient/Procedure.read system/Patient.$export\",\n",
    "    }\n",
    "\n",
    "    response = requests.post(url, headers=headers, data=data)\n",
    "\n",
    "    # Raise exception for HTTP errors\n",
    "    response.raise_for_status()\n",
    "\n",
    "    return response.json()['access_token']\n",
    "def make_fhir_call(url):\n",
    "    headers = {\n",
    "        \"Authorization\": f\"Bearer {get_access_token()}\",\n",
    "        \"accept\" : \"application/json\",\n",
    "    }\n",
    "\n",
    "    response = requests.get(url, headers=headers)\n",
    "\n",
    "    response.raise_for_status()\n",
    "\n",
    "    return json.dumps(response.json(), indent = 4)"
   ]
  },
  {
   "cell_type": "markdown",
   "metadata": {
    "id": "W9AR8UusHhZm"
   },
   "source": [
    "**Using the FHIR API to access Open EMR data:**\n",
    "\n",
    "You will begin by ensuring that you can access patient information via FHIR API queries to Open EMR.   Use case:  You are going to search for the patient that you have identified.  You only know the patient name.  Complete the API below and execute.\n",
    "\n",
    "General format of FHIR API:  \n",
    "https://ServerURL/Resource?search_parameter=value\n",
    "\n",
    "The Open EMR server FHIR server base URL is:\n",
    "https://excite.eastus.cloudapp.azure.com/apis/default/fhir/\n",
    "\n",
    "The search parameter (see section 8.1.13 of the Patient Resource in the FHIR R4 resource list).  We will use the search parameter of \"name\".  But, we can't quite remember the spelling of the complete last name, so we will use \"hop\".\n",
    "\n",
    "Edit and complete the URL below and execute:\n"
   ]
  },
  {
   "cell_type": "code",
   "execution_count": null,
   "metadata": {
    "id": "TmqrDDuKByzC"
   },
   "outputs": [],
   "source": [
    "url = \"https://excite.eastus.cloudapp.azure.com/apis/default/fhir/RESOURCE?name=hop\"\n",
    "\n",
    "print(make_fhir_call(url))"
   ]
  },
  {
   "cell_type": "markdown",
   "metadata": {
    "id": "qGnsHtOCB1rp"
   },
   "source": [
    "Review the JSON code which was returned.  Identify the various elements in this resource and compare to the Patient Resource elements on the FHIR R4 webpage.\n",
    "\n",
    "## 5. Does \"name\" incude substring matches?  (yes/no)\n",
    "\n",
    "Response:\n",
    "- yes\n",
    "- no\n",
    "\n"
   ]
  },
  {
   "cell_type": "code",
   "execution_count": null,
   "metadata": {
    "id": "TCI7Gy__IdBn"
   },
   "outputs": [],
   "source": [
    "sub_ans(jhed_id,5,\"#Your Answer\")"
   ]
  },
  {
   "cell_type": "markdown",
   "metadata": {
    "id": "Rn-s6y_yIxic"
   },
   "source": [
    "\n",
    "\n",
    "## 6. Still reviewing the same search response summary, what part(s) of the name was the “hop\" search applied to?\n",
    "\n",
    "- (a) Surname (last name)\n",
    "- (b) First name (given name)\n",
    "- (c) Substring match on any part of the name\n",
    "\n",
    "Try changing the value for the name search parameter and reexecuting.   Does \"name\" work for first name or last name?  \"name\" is an inclusive (caste a broad net) search parameter.  For some use cases, this is helpful.  For other use cases (or for very large patient populations) this may not be helpful, so other search parameters exist.  Review section 8.1.13 in the Patient Resource website."
   ]
  },
  {
   "cell_type": "code",
   "execution_count": null,
   "metadata": {
    "id": "Lx25tWo2I8rt"
   },
   "outputs": [],
   "source": [
    "sub_ans(jhed_id,6,\"#Your Answer\")"
   ]
  },
  {
   "cell_type": "markdown",
   "metadata": {
    "id": "nOWRFZKJJJHx"
   },
   "source": [
    "## 7. Investigating a FHIR JSON response\n",
    "\n",
    "Review the JSON response again.\n",
    "\n",
    "What type of **Resource** was returned  in response to the query?\n",
    "\n",
    "- (a) patient\n",
    "- (b) HumanName\n",
    "- (c) Patient\n",
    "- (d) Name"
   ]
  },
  {
   "cell_type": "code",
   "execution_count": null,
   "metadata": {
    "id": "iO2rz4dmJdxP"
   },
   "outputs": [],
   "source": [
    "sub_ans(jhed_id,7,\"#Your Answer\")"
   ]
  },
  {
   "cell_type": "markdown",
   "metadata": {
    "id": "P6ufLnW1JiSc"
   },
   "source": [
    "## 8. Refer to the FHIR Resources web page for the Patient Resource again.  Specifically look at the “value set” (possible answers/choices) for different types of “names” for a Patient.\n",
    "\n",
    "What type of name is provided for “Hoppe”  as the HumanName “use” component?\n",
    "\n",
    "- (a) usual\n",
    "- (b) official\n",
    "- (c) temp\n",
    "- (d) nickname\n",
    "- (e) anonymous\n",
    "- (f) old\n",
    "- (g) Maiden"
   ]
  },
  {
   "cell_type": "code",
   "execution_count": null,
   "metadata": {
    "id": "AvUNl586JxH-"
   },
   "outputs": [],
   "source": [
    "sub_ans(jhed_id,8,\"#Your Answer\")"
   ]
  },
  {
   "cell_type": "markdown",
   "metadata": {
    "id": "MRrZHYXUJ1h9"
   },
   "source": [
    "## 9. What is Harland’s date of birth?\n",
    "- (use the FHIR date format in your response)   *YYYY-MM-DD*"
   ]
  },
  {
   "cell_type": "code",
   "execution_count": null,
   "metadata": {
    "id": "dPjqfMLcKH6J"
   },
   "outputs": [],
   "source": [
    "sub_ans(jhed_id,9,\"#Your Answer\")"
   ]
  },
  {
   "cell_type": "markdown",
   "metadata": {
    "id": "PsFqLzmiaf4k"
   },
   "source": [
    "## 10. What is Harland's Medical Record Number, also known as Patient ID?  \n",
    "\n",
    "Note that the reference for Medical Record Number is \"PT\".\n",
    "\n"
   ]
  },
  {
   "cell_type": "code",
   "execution_count": null,
   "metadata": {
    "id": "4j3yPCGcKZd7"
   },
   "outputs": [],
   "source": [
    "sub_ans(jhed_id,10,\"#Your Answer\")"
   ]
  },
  {
   "cell_type": "markdown",
   "metadata": {
    "id": "M_2UqitwKOAe"
   },
   "source": [
    "## 11. Conditions\n",
    "\n",
    "The recording of \"Conditions\" is sometimes interesting in real-world EHRs.  It is typically a manual addition/entry by a nurse or tech after a patient visit.\n",
    "\n",
    "But, in this instance of Open EMR, Harland has quite a few Conditions listed.\n",
    "\n",
    "There is a patient MRN and a computer identifier (\"id\").  We will spend a lot more time on identifiers in Module 2.  For now, we will copy the computer id from the JSON response above.\n",
    "\n",
    "First execute the FHIR API given below which will return Harland's list of Conditions.   Note that this url call may not work on your local system unless you are in the SafeDesktop environment.\n",
    "\n",
    "\n"
   ]
  },
  {
   "cell_type": "code",
   "execution_count": null,
   "metadata": {
    "id": "QvQRVxHzifSw"
   },
   "outputs": [],
   "source": [
    "url = \"https://excite.eastus.cloudapp.azure.com/apis/default/fhir/Condition?patient=\"\n",
    "\n",
    "print(make_fhir_call(url))"
   ]
  },
  {
   "cell_type": "markdown",
   "metadata": {
    "id": "5nctrutkKfwK"
   },
   "source": [
    "Harland has an active Condition of Chronic sinusitis.  What coding system is used to represent this Condition?\n",
    "\n",
    "- (a) LOINC\n",
    "- (b) ICD-10\n",
    "- (c) SNOMED\n",
    "- (d) RxNorm\n",
    "\n",
    "\n",
    "\n"
   ]
  },
  {
   "cell_type": "code",
   "execution_count": null,
   "metadata": {
    "id": "4mbrcxo8KrvM"
   },
   "outputs": [],
   "source": [
    "sub_ans(jhed_id,11,\"#Your Answer\")"
   ]
  },
  {
   "cell_type": "markdown",
   "metadata": {
    "id": "p_d1qmaGFuuC"
   },
   "source": [
    "## 12. What type of internet communication security is being used for this query?\n",
    "\n",
    "- (a) OAUTH\n",
    "- (b) SOAP\n",
    "- (c) https\n",
    "- (d) Account and password\n",
    "- (e) None/http\n",
    "- (f) SAML"
   ]
  },
  {
   "cell_type": "code",
   "execution_count": null,
   "metadata": {
    "id": "lVKblC3yF6FT"
   },
   "outputs": [],
   "source": [
    "sub_ans(jhed_id,12,\"#Your Answer\")"
   ]
  },
  {
   "cell_type": "markdown",
   "metadata": {
    "id": "gaqGXXbTF9Fx"
   },
   "source": [
    "## 13. Would this type of security work at your healthcare institution?\n",
    "\n",
    "- Yes\n",
    "- No"
   ]
  },
  {
   "cell_type": "code",
   "execution_count": null,
   "metadata": {
    "id": "y9hFy3XGGC_Q"
   },
   "outputs": [],
   "source": [
    "sub_ans(jhed_id,13,\"#Your Answer\")"
   ]
  },
  {
   "cell_type": "markdown",
   "metadata": {
    "id": "aCDiJWGAGH2w"
   },
   "source": [
    "## 14. Which version of FHIR is being used for this server?\n",
    "\n",
    "- (a) Release 2\n",
    "- (b) Release 3\n",
    "- (c) Release 4\n",
    "- (d) Release 5"
   ]
  },
  {
   "cell_type": "code",
   "execution_count": null,
   "metadata": {
    "id": "DoRPWgViGTGZ"
   },
   "outputs": [],
   "source": [
    "sub_ans(jhed_id,14,\"#Your Answer\")"
   ]
  },
  {
   "cell_type": "markdown",
   "metadata": {
    "id": "EsFsoulqGWnp"
   },
   "source": [
    "# Key Takeaways\n",
    "\n",
    "## 15. Let’s take a step back and recap.  To compare and contrast HL7 v2 and HL7 FHIR, let’s first go back to HL7 v2.  Which of the following statements is FALSE about HL7 v2?:\n",
    "\n",
    "- (a) HL7 v2 was introduced in 1987.\n",
    "- (b) HL7 v2 is transaction (aka message) based.\n",
    "- (c) The data model described in HL7 v2 is not very strong.\n",
    "- (d) “Profiling” was not common in HL7 v2 which infers that a lot of customization of each message is required to attain interoperability between every pair of systems.\n",
    "- (e) HL7 v2 interface engines (message reformatting and redistribution) are common in most healthcare institutions.\n",
    "- (f) Every system supporting HL7 v2 must retain copies of the data in its own database.\n",
    "- (g) Every medical system with a database requires a very careful and often complicated database backup plan for that type of database (e.g., SQLServer, mySQL, postgress, Oracle, etc.)\n",
    "- (h) Every system supporting HL7 v2 must accept and accurately implement updates for every type of HL7 v2 message the system supports to keep every single system in sync.\n",
    "- (i) HL7 v2 supports a query mechanism and the query mechanism is supported by almost all systems in a healthcare institution today.\n",
    "- (j) HL7 v2 messaging is very prevalent in most healthcare systems today."
   ]
  },
  {
   "cell_type": "code",
   "execution_count": null,
   "metadata": {
    "id": "3SJu5cUeGkKq"
   },
   "outputs": [],
   "source": [
    "sub_ans(jhed_id,15,\"#Your Answer\")"
   ]
  },
  {
   "cell_type": "markdown",
   "metadata": {
    "id": "bcVyUl6YYCsN"
   },
   "source": [
    "## Check your answers here\n",
    "\n",
    "You can [check your answers under the 'Answer Quiz' Tab](https://bids-class.azurewebsites.net/submit-answers).\n",
    "\n",
    "If you are not seeing the answers logged to your JHED, please make sure you have the done the first step in this notebook correctly for entering your JHED.  You must have answered at least one question for the check to work properly."
   ]
  },
  {
   "cell_type": "markdown",
   "metadata": {},
   "source": []
  }
 ],
 "metadata": {
  "colab": {
   "provenance": []
  },
  "kernelspec": {
   "display_name": "Python 3",
   "language": "python",
   "name": "python3"
  },
  "language_info": {
   "codemirror_mode": {
    "name": "ipython",
    "version": 3
   },
   "file_extension": ".py",
   "mimetype": "text/x-python",
   "name": "python",
   "nbconvert_exporter": "python",
   "pygments_lexer": "ipython3",
   "version": "3.8.5"
  }
 },
 "nbformat": 4,
 "nbformat_minor": 0
}
