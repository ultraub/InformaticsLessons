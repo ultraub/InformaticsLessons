{
  "cells": [
    {
      "cell_type": "markdown",
      "metadata": {
        "id": "T2mqczOWx7jI"
      },
      "source": [
        "# Clinical Decision Support (CDS) Assessment 1: Let's get started!  \n"
      ]
    },
    {
      "cell_type": "markdown",
      "metadata": {
        "id": "oNmXmUox3gZW"
      },
      "source": [
        "# Learning objectives of this assessment:\n",
        "\n",
        "At the end of this assessment, students will be able to:\n",
        "\n",
        "1. Recognize the daunting cognitive task clinicians (humans) face in\n",
        "remembering and implementing the best practice recommendations for every condition at every patient encounter.\n",
        "\n",
        "2. Describe how clinical decision support (CDS) helps clinicians and patients by bringing evidence-based practice recommendations to the point of care, in the clinical workflow.\n",
        "\n",
        "3. Articulate, in general, the current mechanism of CDS governance that is commonly employed in healthcare organizations.\n",
        "\n",
        "4. Given a specific clinical scenario, parse the essential design elements of a CDS (trigger, inputs, logic, and outputs) that would help in that scenario, while causing minimum disruption in the clinical workflow.\n",
        "\n",
        "5. Given a specific clinical scenario, determine the appropriate FHIR resources as inputs (from the EMR to the CDS), write CDS logic as pseudocode, and choose the best method of CDS output (to the EMR).\n",
        "\n",
        "6. Map design elements of the CDS (in #4 and #5 above) to the five rights of CDS.\n",
        "\n",
        "**If you have not yet read the \"5 Rights in CDS\" (textbook, page 3 and 4), you will need to do so prior to beginning this assessment.**\n"
      ]
    },
    {
      "cell_type": "markdown",
      "metadata": {
        "id": "7_GEE70pyj5v"
      },
      "source": [
        "## Initialize your workbook\n",
        "\n",
        "\n",
        "Be sure to enter your jhed_id\n",
        "\n",
        "Execute the cell block by press the play button or ctrl-enter when the cell block is in focus"
      ]
    },
    {
      "cell_type": "code",
      "execution_count": null,
      "metadata": {
        "id": "DgAZeSsQy6ds"
      },
      "outputs": [],
      "source": [
        "import requests\n",
        "def sub_ans(team,question_num,answer):\n",
        "    url='https://bids-class.azurewebsites.net/submit-answer'\n",
        "    data={'class':'cdsonfhir',\n",
        "         'module':1,\n",
        "         'team':team,\n",
        "         'question_num':question_num,\n",
        "         'answer_num':answer}\n",
        "    x=requests.post(url,data=data)\n",
        "    if x.status_code==200:\n",
        "        return True\n",
        "    else:\n",
        "        return False\n",
        "\n",
        "#Enter your JHED ID here to record participation and feedback\n",
        "#For example, jhed_id=\"tsippel1\" without the @ sign or domain name\n",
        "jhed_id=\"##Your JHED ID##\"\n",
        "\n",
        "\n",
        "#Do NOT enter anything below this line\n",
        "#The code below this line only checks for a null value for jhed_id\n",
        "if jhed_id!='':\n",
        "  print(\"Your jhed_id is not null. So far, so good!\")\n",
        "else:\n",
        "  print(\"Stop!  You need to enter your jhed_id\")\n",
        "if jhed_id==\"##Your JHED ID##\":\n",
        "  print(\"Problem!: Enter YOUR jhed_id\")\n",
        "else:\n",
        "  print(\"Your jhed_id has been updated.\")\n",
        "print(\"jhed_id =\", jhed_id)"
      ]
    },
    {
      "cell_type": "markdown",
      "metadata": {
        "id": "xyRig9-60De2"
      },
      "source": [
        "### 1.Introductory Question:\n",
        "\n",
        "In the United States, with the HITECH Act in 2009, many healthcare systems were incentized to move away from paper patient records and towards electronic healthcare records.\n",
        "\n",
        "What do YOU see as the principle function an EHR serves?  What purpose does an EHR serve?  What are 3 to 5 benefits of an EHR?\n",
        "\n",
        "**Note:** This is an open text response.  Please respond in full sentence(s).  Please limit your response to ~300 words or less.\n",
        "Execute the cell block below after you have entered your response. A response of \"True\" indicates that your narrative description was received and stored in the database."
      ]
    },
    {
      "cell_type": "code",
      "execution_count": null,
      "metadata": {
        "id": "JI-O9rcc0RdD"
      },
      "outputs": [],
      "source": [
        "sub_ans(jhed_id,10,\"##Your narrative text answer goes here.##\")"
      ]
    },
    {
      "cell_type": "markdown",
      "metadata": {
        "id": "Vfgc8osn39lK"
      },
      "source": [
        "**General Instructions:**\n",
        "\n",
        "For this part of the assignment, we will use the following tools:\n",
        "\n",
        "1.   EMR simulator (SimEMR) - To gather and review the clinical information\n",
        "2.   Jupyter notebook: To read the clinical and technical story and to design the CDS  \n",
        "\n",
        "\n",
        "Prior to beginning this assignment:\n",
        "If you are not familiar with prostate cancer, including symptoms, diagnosis, and staging, please take some time to read the Johns Hopkins Medicine Prostate Cancer information page, as was suggested in the pre-class assignment.\n",
        "  \n",
        "**About the EMR simulator:**\n",
        "\n",
        "This EHR/EMR is a simulator, created to provide students with the full experience of using CDS algorithms in clinical situations.   Because it is an EMR simulator, it does not have all the functionalities of an EMR. However, it has been designed to replicate the general (bland) look of commercial EMRs.  \n",
        "  \n",
        "This simulator works In the Google Chrome browser. It may also work in Microsoft edge.\n",
        "\n",
        "If the formatting of the website looks different than what is displayed below, try hitting refresh.\n",
        "\n",
        "The SIMEMR simulator is heavy on Javascript (needs good internet speed and a modern browser). If you continue to have difficulty accessing or interacting with it, please contact your TAs or provide a question in Canvas. We will send you a downloaded version of the notes, orders, etc.  \n"
      ]
    },
    {
      "cell_type": "markdown",
      "metadata": {
        "id": "WlElrPrp38PY"
      },
      "source": [
        "**Instructions for login and interacting with the simulator:**\n",
        "\n",
        "Go to:\n",
        "https://mso-s7vvefycsq-uc.a.run.app/emrlogin\n",
        "  \n",
        "You many need to \"Leave CoLab\" and select the link again.\n",
        "\n",
        "* Login: jhucds1\n",
        "* Pword: jhucds1\n",
        "* Your name: can be anything.\n",
        "  \n",
        "You will reach this screen:\n",
        "\n",
        "<table><tr><td><img src=\"https://bidsclassroomfigures.blob.core.windows.net/figures/2023.03.JH.CDS.A1-1.png\" width=700></td></tr></table>\n"
      ]
    },
    {
      "cell_type": "markdown",
      "metadata": {
        "id": "86y4e-W25UDD"
      },
      "source": [
        "Do not change the default selections.  \n",
        "\n",
        "Click “Submit.”\n",
        "  \n",
        "You will see a screen that looks like this:\n",
        "<table><tr><td><img src=\"https://bidsclassroomfigures.blob.core.windows.net/figures/2023.03.JH.CDS.A1-2.png\" width=700></td></tr></table>"
      ]
    },
    {
      "cell_type": "markdown",
      "metadata": {
        "id": "CQcZOsGf5XnL"
      },
      "source": [
        "Take some time outside of class and familiarize yourself with the simple SimEMR user interface and determine what is available.  \n",
        "\n",
        "Notes, results, etc. are displayed by clicking the corresponding buttons. The \"View\" button below each line displays the contents of each note. Try it!\n",
        "\n",
        "Do not use the CDS selector or the “Change Scenario” buttons for this assignment.\n",
        "\n",
        "For extra help, you may select the “Show Hints”  button in the currently displayed section of the EMR simulator:\n",
        "\n",
        "<table><tr><td><img src=\"https://bidsclassroomfigures.blob.core.windows.net/figures/2023.03.JH.CDS.A1-3.png\" width=700></td></tr></table>\n",
        "\n",
        "\n",
        "\n"
      ]
    },
    {
      "cell_type": "markdown",
      "metadata": {
        "id": "nxF8twyJz6UT"
      },
      "source": [
        "# Assessment:\n",
        "\n",
        "Based on the Clinical and IT information above, answer the following questions.\n",
        "\n",
        "\n",
        "\n",
        "\n",
        "\n",
        "\n",
        "\n",
        "\n"
      ]
    },
    {
      "cell_type": "markdown",
      "metadata": {
        "id": "NZrmus99zD8Y"
      },
      "source": [
        "# Clinical Story, Part 1- Patient’s History and Physical information:\n",
        "\n",
        "Our patient is Denzel Johnson, a 51-year-old African American male. His MRN at Memorial Health System is 47575720.  Mr. Johnson’s primary care physician (PCP) is Cal Jackson, MD.  Mr. Johnson moved into the area about three years ago from out of state. The rest of Mr. Johnson’s family and medical history has been recorded in SimEHR.\n"
      ]
    },
    {
      "cell_type": "markdown",
      "metadata": {
        "id": "PVbpx03b0uCi"
      },
      "source": [
        "### 2.  Read the clinic note by Cal Jackson MD, written on 2022-02-13 (YYYY-MM-DD) at 15:58 PM.\n",
        "\n",
        "Learning objective:  Learn how to navigate and read the SimEHR to find information.\n",
        "\n",
        "Think about this:  In SimEHR, how much of the Clinic Note data seems to be structured coded and how much is narrative text?  \n",
        "\n",
        "Remember the answer which you provide below as we follow Mr. Johnson's story.  Try to remember the content of the Clinic Note from this date.\n",
        "\n",
        "**What are the  findings of the digital rectal exam?**\n",
        "\n",
        "* a. The prostate was found to be irregular in shape.\n",
        "* b. The prostate was found to be firm to the touch.\n",
        "* c. The prostate was found to have areas of hardness or lumps present.\n",
        "* d. All of the above, but these findings are not concerning for prostate cancer.\n",
        "* e. All of the above, and these findings are concerning for prostate cancer.\n"
      ]
    },
    {
      "cell_type": "code",
      "execution_count": null,
      "metadata": {
        "id": "jWZ8mDrW0zF4"
      },
      "outputs": [],
      "source": [
        "sub_ans(jhed_id,1,\"##YourAnswer##\")"
      ]
    },
    {
      "cell_type": "markdown",
      "metadata": {
        "id": "fifz0imTY4qp"
      },
      "source": [
        "### 3. Prior to 2022-02-13, approximately how many years, months, or weeks have passed since the patient was last seen by Dr. Cal Jackson?\n",
        "\n",
        "Remember the answer which you provide below as we follow Mr. Johnson's story.\n",
        "\n",
        "* a. 0 years, 2 weeks\n",
        "* b. 0 years, 1 month\n",
        "* c. 1 year, 11 month\n",
        "* d. 1 year, 6 months\n"
      ]
    },
    {
      "cell_type": "code",
      "execution_count": null,
      "metadata": {
        "id": "jDqNja4gZTMp"
      },
      "outputs": [],
      "source": [
        "sub_ans(jhed_id,2,\"##YourAnswer##\")"
      ]
    },
    {
      "cell_type": "markdown",
      "metadata": {
        "id": "VvIQ7Jqg7qAu"
      },
      "source": [
        "# Clinical Story, Part 2- Prostate Cancer Screening Guidelines:\n",
        "\n",
        "Clinical practice guidelines are based on recommendations by professional societies or published research. A common governance model in a healthcare organization is to have a committee that determines which clinical practice guidelines should be translated into a clinical decision support tool in the EMR. The Memorial Health system’s CDS committee has made the decision to use the American Cancer Society Prostate Cancer Screening Guidelines.\n",
        "\n",
        "Before you begin this next section, take some time to familiarize yourself with the American Cancer Society guidelines for prostate screening.\n"
      ]
    },
    {
      "cell_type": "markdown",
      "metadata": {
        "id": "vCkp64EA71OR"
      },
      "source": [
        "## American Cancer Society Guidelines:\n",
        "\n",
        "The American Cancer Society has the following recommendation regarding prostate cancer screening.  \n",
        "\n",
        "The recommendations can be summarized as:  “Discuss screening for prostate cancer at:\n",
        "* Age 50 for men who are at average risk of prostate cancer and are expected\n",
        "to live at least 10 more years.\n",
        "* Age 45 for men at high risk of developing prostate cancer. This includes African Americans and men who have a first-degree relative (father or brother) diagnosed with prostate cancer at an early age (younger than age 65).\n",
        "* Age 40 for men at even higher risk (those with more than one first-degree relative who had prostate cancer at an early age).\n",
        "\n",
        "After this discussion, men who want to be screened should get the prostate-specific antigen (PSA) blood test. The digital rectal exam (DRE) may also be done as a part of screening.”\n"
      ]
    },
    {
      "cell_type": "markdown",
      "metadata": {
        "id": "gVsavQzBZXlh"
      },
      "source": [
        "###3.  Based on the ACS guidelines, what should have happened during Mr. Johnson’s clinic visit in March 2020? Choose the best answer.\n",
        "\n",
        "Learning objective:  verify understanding of ACS guidelines.  \"The right information.\"\n",
        "\n",
        "* a.) Based on the ACS guidelines, a discussion regarding prostate cancer screening was not needed. This fact (prostate cancer screening is not needed) should have been documented by Dr. Cal Jackson in the EMR.\n",
        "\n",
        "* b.) Dr. Cal Jackson should have discussed the ACS recommendations regarding prostate cancer screening with Mr. Johnson. If Mr. Jackson wanted to be screened for prostate cancer, Dr. Jackson should have proceeded with the screening.\n",
        "\n",
        "* c.) A Prostate Specific Antigen test to screen for prostate cancer should have been ordered automatically when Mr. Johnson had made an appointment for his clinic visit. This way, the PSA would be ready by the time of his visit with Dr. Jackson.\n",
        "\n"
      ]
    },
    {
      "cell_type": "code",
      "execution_count": null,
      "metadata": {
        "id": "ezCbcbGBZ3iy"
      },
      "outputs": [],
      "source": [
        "sub_ans(jhed_id,3,\"##YourAnswer##\")"
      ]
    },
    {
      "cell_type": "markdown",
      "metadata": {
        "id": "uahKoyoE8mcr"
      },
      "source": [
        "# Clinical Story, Part 3- the need for CDS:\n",
        "\n",
        "It is March 2022. Mr. Denzel Johnson has been diagnosed with prostate cancer. Dr. Jackson realized that he should have offered prostate cancer screening to Mr. Johnson when Mr. Johnson had initially visited him in March 2020. Dr. Jackson’s case was presented in the Internal Medicine department’s Morbidity and Mortality (M&M) meeting. A group of physicians then requested the Memorial Health System’s Chief Medical Informatics Officer (CMIO) to create a CDS app that will prompt the clinician to have a discussion regarding prostate cancer screening for appropriate patients. The CMIO referred this to the CDS committee of the Memorial Health system. This committee then approved this request.\n",
        "\n",
        "Congratulations!  You have just been hired as the informatician who will design this **CDS Prostate Cancer Screening app** which will be integrated into Memorial Health System’s EHR, SimEMR.\n"
      ]
    },
    {
      "cell_type": "markdown",
      "metadata": {
        "id": "K3Wt9TBQ8ppX"
      },
      "source": [
        "### Quick review:  \n",
        "The following steps are common in an outpatient or ED visit.  Although simplified, the are listed below to ensure student familiarity with the basic clinical process:\n",
        "* 1.) In the case of an outpatient, the patient schedules an appointment.\n",
        "* 2.) The patient arrives for the appointment (or through ED).  This is often called a “visit” or an “encounter”.\n",
        "* 3.) If there is a medical issue or question, the clinician may request imaging or write a prescription. These are often referred to as “orders.”  It is a request for someone else to do work.\n",
        "* 4.) The clinician selects exactly which imaging test to be performed or drug to be dispensed.\n",
        "* 5.) The order is then signed by the appropriate clinician to be valid (in computer science terms: “status” = “active”).\n",
        "* 6.) The visit is then completed (\"status\" = \"complete\").  Sometimes the orders are completed prior to the visit completion.  Other times the orders are scheduled for a later date.\n"
      ]
    },
    {
      "cell_type": "markdown",
      "metadata": {
        "id": "Iq8OXAI6Z6Q6"
      },
      "source": [
        "### 4. When should this CDS application be triggered?\n",
        "\n",
        "Learning objective:  \"at the right points in the workflow.\"\n",
        "\n",
        "* a.) **Appointment Schedule**: When a user is scheduling one or more future encounters/visits for the patient. Example: A patient calls a clinic. The clinic’s patient access/ registration staff starts creating an appointment for this patient in the EMR.\n",
        "\n",
        "* b.) **Encounter Start:** When the healthcare provider is initiating a new encounter. Example: For a clinic visit, this will be when the physician clicks on the “encounter” that is created after the patient has arrived at the clinic, has completed the registration at the front desk and is in the exam room. (Note: an “encounter” is also sometimes referred to as a “visit.”)\n",
        "\n",
        "* c.) **Order select:**  When a clinician selects one or more orders to place for a patient. Example: A physician selects metformin as a medication in the order panel, but has not entered frequency, duration, etc.\n",
        "\n",
        "* d.) **Order Sign:** When a clinician has entered all order details, such as dose, quantity, route, etc. and the clinician is now ready to sign one or more orders for a patient\n",
        "\n"
      ]
    },
    {
      "cell_type": "code",
      "execution_count": null,
      "metadata": {
        "id": "KbkEMqK1aPVA"
      },
      "outputs": [],
      "source": [
        "sub_ans(jhed_id,4,\"##YourAnswer##\")"
      ]
    },
    {
      "cell_type": "markdown",
      "metadata": {
        "id": "b3q0Fmbnblwo"
      },
      "source": [
        "### 5. When should this CDS **not** be triggered?\n",
        "\n",
        "Learning objective:  When implementing the \"right points in the workflow\", it is equally as important to understand when it is NOT the \"right points in the workflow.\"\n",
        "\n",
        "Consider each response, then answer the question.\n",
        "\n",
        "* a.) If the screening discussion has already taken place within the last year\n",
        "* b.) If the patient already has prostate cancer\n",
        "* c.) If the patient is a biological female\n",
        "* d.) If the patient had surgical removal of the entire prostate\n",
        "* e.) If the patient does not want prostate cancer screening\n",
        "* f.) All of the above except 'e', although this discussion often takes place during this encounter/visit so the CDS may trigger anyway????\n",
        "* g.) All of the above\n",
        "\n"
      ]
    },
    {
      "cell_type": "code",
      "execution_count": null,
      "metadata": {
        "id": "uyGGHJobc_vV"
      },
      "outputs": [],
      "source": [
        "sub_ans(jhed_id,5,\"##YourAnswer##\")"
      ]
    },
    {
      "cell_type": "markdown",
      "metadata": {
        "id": "TAChsM-3-jtw"
      },
      "source": [
        "# Clinical Story, Part 4- Using the CDS algorithm:\n",
        "\n",
        "The EMR at Memorial Health System stores patient healthcare records in a database structured on HL7 R4 Resources. Take a moment to review the HL7 R4 Resource content. HL7 FHIR Shorthand (FSH) is used in the questions below. FSH syntax can be read as “Resource.element.subcomponent”.\n",
        "\n",
        "FHIR is a global standard, however, some data, including race and options for gender, are defined at the country level.  For the purposes of these questions, we will use U.S. ONC Core Patient Extensions to access race, ethnicity, gender, Family History, and possibly other data.  \n",
        "\n",
        "For race, the Office of Management and Budget (OMB) defines the values of “race”, as:\n",
        "* American Indian or Alaska Native\n",
        "* Asian\n",
        "* Black or African American\n",
        "* Native Hawaiian or Other Pacific Islander\n",
        "* White\n",
        "\n",
        "Note the race can be a multivalued field and that there is also a “detailed race” extension in FHIR.   However, Memorial Hospital does not collect detailed race information.\n",
        "\n",
        "Review the American Cancer Society screening guidelines above again."
      ]
    },
    {
      "cell_type": "markdown",
      "metadata": {
        "id": "zYMCrAOhdfEa"
      },
      "source": [
        "### 6.   CDS Inputs\n",
        "\n",
        "The CDS Prostate Cancer app has determined that none of the exclusion criteria applies (from Question 5.)   Information specific to each patient will need to be conveyed to the CDS Prostate Cancer Screening app.  \n",
        "\n",
        "Learning objective:  \"the right information\" also applies inbound to the CDS app.  And, you need to know where and how to access that information.\n",
        "\n",
        "Consider reviewing the FHIR R4 Patient Resource.\n",
        "\n",
        "**Which FHIR data elements will be the inputs to this CDS Prostate Cancer Screening app?**\n",
        "\n",
        "* a.) Patient.birthDate\n",
        "* b.) Patient.race\n",
        "* c.) Patient.gender\n",
        "* d.) Patient.contact\n",
        "* e.) Observation.code\n",
        "* f.) Condition.code  \n",
        "* g.) All of the above except d, e, f\n",
        "\n",
        "\n"
      ]
    },
    {
      "cell_type": "code",
      "execution_count": null,
      "metadata": {
        "id": "Pl8oRu8cdrNX"
      },
      "outputs": [],
      "source": [
        "sub_ans(jhed_id,6,\"##YourAnswer##\")"
      ]
    },
    {
      "cell_type": "markdown",
      "metadata": {
        "id": "SrC3VAmJeVu9"
      },
      "source": [
        "### 7.  Is the logic that the CDS will have to implement, written in pseudocode below, accurate?  Complete the \"ELSE\" statement below.\n",
        "\n",
        "Learning objective:  Guidelines are essential.  But, being able to implement guidelines is the next step.\n",
        "\n",
        "Note that this is not intended to be a specific scripting language and it is not intended to be a trick question.  Answers are not expected to be exact.\n",
        "\n",
        "```\n",
        "If (((today’s date - Patient.birthDate) > 50 years) and (generally healthy- subjective)) ) OR\n",
        "{\n",
        "   (If ((today’s date - Patient.birthDate) > 45 years but <= 50 years AND\n",
        "   (If (Patient.race = African American) OR ((FamilyMemberHistory.Condition = Prostate Cancer) and FamilyMemberHistory.age = <66 years))) OR\n",
        "  {\n",
        "        (If ((today’s date - Patient.birthDate) > 40 years but <= 45 years AND\n",
        "   If (count((FamilyMemberHistory.Condition = Prostate Cancer) and FamilyMemberHistory.age = <66 years))) >= 2\n",
        " }\n",
        "}\n",
        "\n",
        "THEN recommend prostate cancer screening discussion.\n",
        "ELSE  (your response needed here).\n",
        "\n"
      ]
    },
    {
      "cell_type": "code",
      "execution_count": null,
      "metadata": {
        "id": "I6uHlNorfMrB"
      },
      "outputs": [],
      "source": [
        "sub_ans(jhed_id,7,\"##YourAnswer##\")"
      ]
    },
    {
      "cell_type": "markdown",
      "metadata": {
        "id": "9tTJAIEnlsis"
      },
      "source": [
        "### 8. CDS app Output\n",
        "\n",
        "Learning objective:  \"through the right channel\".\n",
        "\n",
        " For this exercise only, assume “best” = CDS alert that will have the maximum probability of preventing this error of omission.\n",
        "\n",
        "Note: Although in this question you have been asked to assume “best = CDS alert that will have the maximum probability (of it being acted on)”, this is not always true. An overwhelming number of CDS firing alerts to a clinician while they are interacting with the EMR creates alert fatigue. There are potential harms of a frequently interrupted clinical workflow. In addition, multiple low-value alerts reinforce the behavior of overriding the alerts.  Finally, it is well documented that alert fatigue contributes to physician burnout.\n",
        "\n",
        "From the options below, what would be the best output from this CDS?\n",
        "\n",
        "(a)\n",
        "\n",
        "<table><tr><td><img src=\"https://bidsclassroomfigures.blob.core.windows.net/figures/2023.03.JH.CDS.A1-4-a.png\" width=700></td></tr></table>\n",
        "\n",
        "(b)\n",
        "<table><tr><td><img src=\"https://bidsclassroomfigures.blob.core.windows.net/figures/2023.03.JH.CDS.A1-4-b.png\" width=700></td></tr></table>\n",
        "\n",
        "(c)\n",
        "<table><tr><td><img src=\"https://bidsclassroomfigures.blob.core.windows.net/figures/2023.03.JH.CDS.A1-4-c.png\" width=700></td></tr></table>\n",
        "\n",
        "(d)\n",
        "<table><tr><td><img src=\"https://bidsclassroomfigures.blob.core.windows.net/figures/2023.03.JH.CDS.A1-4-d.png\" width=700></td></tr></table>\n"
      ]
    },
    {
      "cell_type": "code",
      "execution_count": null,
      "metadata": {
        "id": "2UHKSDhEmTe1"
      },
      "outputs": [],
      "source": [
        "sub_ans(jhed_id,8,\"##YourAnswer##\")"
      ]
    },
    {
      "cell_type": "markdown",
      "metadata": {
        "id": "bbTJdA7aDX2d"
      },
      "source": [
        "# Clinical Story, Part 5- Framing CDS:\n",
        "\n",
        "The textbook discusses “the five rights of CDS” as a framework to design and evaluate CDS.  Review page 4.  \n"
      ]
    },
    {
      "cell_type": "markdown",
      "metadata": {
        "id": "Dq0QQ95Pmeh-"
      },
      "source": [
        "### 9. The Five Rights of CDS\n",
        "\n",
        "The following “five rights of CDS” can be used as a framework when planning to implement CDS interventions (https://library.ahima.org/doc?oid=300027#.Y_OBBnbMKUk )\n",
        "\n",
        "* 1. The right information\n",
        "* 2. To the right person,\n",
        "* 3. In the right intervention format,\n",
        "* 4. Through the right channel,\n",
        "* 5. At the right time in workflow.\n",
        "\n",
        "In the exercises above:\n",
        "\n",
        "* A. Your CDS contained  cancer screening as recommended by the American Cancer Society.\n",
        "* B. You considered the structure of the CDS alert that will have the maximum probability of preventing an error of omission (that is, of not discussing prostate cancer screening with  appropriate patients)\n",
        "* C. You considered a design of the CDS that would be visible inside the EMR in the patient chart.\n",
        "* D. Your alert/pop-up fired for the healthcare provider, who could discuss these recommendations with the patient, order the test and perform the examination\n",
        "* E. You considered when should the CDS be triggered in the workflow (for example: when the encounter is opened vs. when the appointment is made. etc.)\n",
        "\n",
        "**Which of the following combinations is the closest match between your considerations and the CDS 5 rights?**\n",
        "* a.) A : 3, B: 1, C: 2, D: 4, E: 5\n",
        "* b.) A : 1, B: 3, C: 4, D: 2, E: 5\n",
        "* c.) A : 3, B: 1, C: 4, D: 2, E: 5\n",
        "* d.) A : 1, B: 3, C: 2, D: 4, E: 5\n",
        "\n",
        "\n"
      ]
    },
    {
      "cell_type": "code",
      "execution_count": null,
      "metadata": {
        "id": "F0PaiKf_ZRTK"
      },
      "outputs": [],
      "source": [
        "sub_ans(jhed_id,9,\"##YourAnswer##\")"
      ]
    },
    {
      "cell_type": "markdown",
      "metadata": {
        "id": "lc14vt5KABj7"
      },
      "source": [
        "### 10. Provide feedback.\n",
        "\n",
        "As part of continuous improvement, especially for a new class, we would like realtime feedback and active participation.  As part of your participation grade and using the Canvas Week 1 \"Student Q&A Discussion\" group, please answer either (or both!) of the following questions:\n",
        "* After completing assignment, is there a concept which is not clear?  \n",
        "* After completing this module, what is something new that you learned that you feel is important?"
      ]
    },
    {
      "cell_type": "markdown",
      "metadata": {
        "id": "c9QFjqNKxLUG"
      },
      "source": [
        "##Check your answers.\n",
        "You can check your answers [here](https://bids-class.azurewebsites.net/assignment/cdsonfhir_1).\n",
        "\n",
        "\n",
        "If you are not seeing the answers logged to your JHED, please make sure you have the done the first step in this notebook correctly for entering your JHED. You must have answered at least one question for the check to work properly."
      ]
    }
  ],
  "metadata": {
    "colab": {
      "provenance": []
    },
    "kernelspec": {
      "display_name": "Python 3",
      "name": "python3"
    },
    "language_info": {
      "name": "python"
    }
  },
  "nbformat": 4,
  "nbformat_minor": 0
}
