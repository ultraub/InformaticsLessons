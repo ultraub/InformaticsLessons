{
  "cells": [
    {
      "cell_type": "markdown",
      "metadata": {
        "id": "T2mqczOWx7jI"
      },
      "source": [
        "# Clinical Decision Support (CDS) Assessment 3: CDShooks Use Cases and Architecture\n"
      ]
    },
    {
      "cell_type": "markdown",
      "metadata": {
        "id": "oNmXmUox3gZW"
      },
      "source": [
        "## Learning objectives:\n",
        "\n",
        "\n",
        "At the end of this module, students will be able to:\n",
        "\n",
        "Part 1: Systems Architecture and Implementation Considerations\n",
        "* Discuss design decisions when implementing CDShooks in an EHR\n",
        "\n",
        "Part 2:  Sequence Diagrams and Primary CDShooks Use Cases\n",
        "* Understand a UML Sequence Diagram\n",
        "* Understand the 3 primary Use Cases described by in the CDShooks “current” standard\n",
        "* Understand the data (JSON objects) which are used in each of the CDS Use Cases\n",
        "* Recognize the essential parts of a CDS hook\n",
        "\n",
        "\n",
        "**HL7 Standards version numbers:**\n",
        "\n",
        "CDShooks:  Use the CDShooks “continuous improvement\" specification for this entire Assessment: https://build.fhir.org/ig/HL7/cds-hooks\n",
        "FHIR:  User FHIR R4 for this entire Assessment.\n"
      ]
    },
    {
      "cell_type": "markdown",
      "metadata": {
        "id": "7_GEE70pyj5v"
      },
      "source": [
        "## Initialize your workbook\n",
        "\n",
        "**CHANGING TO BIDS Classroom TOKENS:** Changes to using the JH BIDS Informatics Classroom\n",
        "Beginning in Module 2 we re-introduce using TOKENS, rather than your JHED ID, to the JH BIDS Informatics Classroom.\n",
        "\n",
        "Steps:\n",
        "\n",
        "1. In a separate internet browser window, go to the BIDS Informatics \\\n",
        "Classroom website: https://bids-class.azurewebsites.net/home\n",
        "You may need to login using your JHED ID and JH credentials.\n",
        "2. Instead of using JHED_ID to login, we are going to begin to use tokens.\n",
        "On the BIDS Informatics Classroom website, along the black title at the top, select \"Generate Token\". The token encapsulates the user name, the class, and the module.\n",
        "* a. Select the class answer key: cdsonfhir\n",
        "* b. Select the Module: 3\n",
        "3. You should have a number returned to you that will look something like this: c2bc81e3-9637-4ade-acd1-f5e3d5e42a79 - copy this string (but not the expiration date). Note that this token is good for one 24 hour period, at which time it will need to be regenerated.\n",
        "4. In THIS Jupyter notebook, copy the long token string into the \"token\" variable in the code cell below, where instructed, 2/3 down the cell block."
      ]
    },
    {
      "cell_type": "code",
      "execution_count": null,
      "metadata": {
        "id": "DgAZeSsQy6ds"
      },
      "outputs": [],
      "source": [
        "#you may need to remove the comment sign # from the line below if you are running this from Visual Studio (VS) Code\n",
        "#pip install requests\n",
        "import requests\n",
        "import json\n",
        "def sub_ans(token,question_num,answer):\n",
        "    url='https://bids-class.azurewebsites.net/submit-answer'\n",
        "    data={'token':token,\n",
        "         'question_num':question_num,\n",
        "         'answer_num':answer}\n",
        "    x=requests.post(url,data=data)\n",
        "    response = json.loads(x.text)\n",
        "    if response['success']:\n",
        "          return response['correct']\n",
        "    else:\n",
        "         return response['message']\n",
        "\n",
        "#COPY YOUR TOKEN STRING BETWEEN THE DOUBLE QUOTES BELOW\n",
        "token = \"YOUR_TOKEN\"\n",
        "if token!='YOUR_TOKEN':\n",
        "  print(\"Success, You are ready to go!\")\n",
        "else:\n",
        "  print(\"Please enter your token above and run again\")"
      ]
    },
    {
      "cell_type": "markdown",
      "metadata": {
        "id": "xyRig9-60De2"
      },
      "source": [
        "# Part 1:  Systems Architecture and Implementation Considerations for Class Discussion\n",
        "\n",
        "The responses in this section are from the In Class Discussion page in Module 3 of Canvas.\n",
        "\n",
        "Unless otherwise stated, all responses in this section are open format.  Please respond in complete sentences.\n"
      ]
    },
    {
      "cell_type": "markdown",
      "metadata": {
        "id": "1Eyg3KiYsxac"
      },
      "source": [
        "### 1.  Select a question from the In Class Discussion page in Canvas for Module 3 which interests you.  List the letter of the question, then respond.\n",
        "\n",
        "Open responses. Please respond in complete sentences, but also remember that brevity has value.\n",
        "\n",
        "**Learning objective:**  Many of the desicions regarding architecting and implementing CDS in a healthcare practice are not technical.  Think more broadly about implications.\n"
      ]
    },
    {
      "cell_type": "code",
      "execution_count": null,
      "metadata": {
        "id": "JI-O9rcc0RdD"
      },
      "outputs": [],
      "source": [
        "sub_ans(token,1,\"#YourAnswerHere#\")"
      ]
    },
    {
      "cell_type": "markdown",
      "metadata": {
        "id": "GshCzPD1tYXu"
      },
      "source": [
        "### 2.  Select a second question from the In Class Discussion page in Canvas for Module 3 which interests you.  List the letter of the second question, then respond.\n",
        "\n",
        "Open responses. Please respond in complete sentences, but also remember that brevity has value.\n",
        "\n",
        "**Learning objective:**  Many of the desicions regarding architecting and implementing CDS in a healthcare practice are not technical.  Think more broadly about implications."
      ]
    },
    {
      "cell_type": "code",
      "execution_count": null,
      "metadata": {
        "id": "7Xc0NcA0tWpH"
      },
      "outputs": [],
      "source": [
        "sub_ans(token,2,\"#YourAnswerHere#\")"
      ]
    },
    {
      "cell_type": "markdown",
      "metadata": {
        "id": "haIScKvRACpH"
      },
      "source": [
        "# Part 2:  Unified Modeling Language (UML) Sequence Diagrams and CDShooks workflows\n",
        "\n",
        "## Section 2.1: Understanding UML Sequence Diagrams\n"
      ]
    },
    {
      "cell_type": "markdown",
      "metadata": {
        "id": "je8kTDLli0jd"
      },
      "source": [
        "### 3. Unified Modeling Language, or UML, provides methods for systematic descriptions which are readily understood across industries.  The boxes at the top of a UML Sequence Diagrams are called:\n",
        "\n",
        "**Learning objective:**  Visualizing how systems act together is crucial to understanding.  UML Sequence diagrams are a very widely understood and used tool to frame and communicate interoperability between systems.  You should use make use of these tools for issues at your institution.   But, the first component is understanding all of the people and systems involved and their roles/actions.\n",
        "\n",
        "* a.) lifelines\n",
        "* b.) actors\n",
        "* c.) messages or transactions\n",
        "* d.) responses\n",
        "* e.) time\n"
      ]
    },
    {
      "cell_type": "code",
      "execution_count": null,
      "metadata": {
        "id": "-TQJK9W2i3cP"
      },
      "outputs": [],
      "source": [
        "sub_ans(token,3,\"#YourAnswerHere#\")"
      ]
    },
    {
      "cell_type": "markdown",
      "metadata": {
        "id": "FmYyvJ0fjHH3"
      },
      "source": [
        "### 4. The vertical lines of a UML Sequence Diagram are called “lifelines”.  These lines (reading the transactions from top to bottom)  represent:\n",
        "\n",
        "* a.) lifelines\n",
        "* b.) actors\n",
        "* c.) messages or transactions\n",
        "* d.) responses\n",
        "* e.) time"
      ]
    },
    {
      "cell_type": "code",
      "execution_count": null,
      "metadata": {
        "id": "1Xnf4C06jWIi"
      },
      "outputs": [],
      "source": [
        "sub_ans(token,4,\"#YourAnswerHere#\")"
      ]
    },
    {
      "cell_type": "markdown",
      "metadata": {
        "id": "yz1rwJDQAHgP"
      },
      "source": [
        "## Section 2.2:  CDShooks Use Case #1: Discovery"
      ]
    },
    {
      "cell_type": "markdown",
      "metadata": {
        "id": "S-uWofzhAPYk"
      },
      "source": [
        "**Back story:**\n",
        "\n",
        "Use Case:  Clinicians in GI are looking for a better way to discuss abdominal anatomy with patients and their families prior to a procedure, including the possible need for radiology procedures.   One of the GI specialists has a colleague who was telling them about a \"discussion CDS for abdominal imaging\" app which has been implemented at their healthcare institution.\n",
        "\n",
        "The GI department has asked the enterprise IT department to investigate and evaluate the technical feasibility of implementing this CDS locally.\n",
        "\n",
        "Review the following diagrams and JSON objects in detail. Use the following diagrams and figures to answer the questions in this section.  \n"
      ]
    },
    {
      "cell_type": "markdown",
      "metadata": {
        "id": "vElbVUjDAJfK"
      },
      "source": [
        "### UML Use Case #1 - Discovery\n",
        "<table><tr><td><img src=\"https://bidsclassroomfigures.blob.core.windows.net/figures/2023.04.13.JH.CDS.UML.UseCase1.png\" width=700></td></tr></table>\n"
      ]
    },
    {
      "cell_type": "markdown",
      "metadata": {
        "id": "RGSVzO_uARVN"
      },
      "source": [
        "### Figure 1: Discovery Use Case JSON Body (in GET response)\n",
        "```\n",
        "{\n",
        "  \"services\": [\n",
        "    {\n",
        "      \"hook\": \"order-select\",\n",
        "      \"title\": \"Describe an abdominal CT study\",\n",
        "      \"description\": \"Contains labeled CT images for illustration and discussion with patient\",\n",
        "      \"id\": \"describe-ct-abdominal-study\"\n",
        "    },\n",
        "    {\n",
        "      \"hook\": \"order-select\",\n",
        "      \"title\": \"Order US or CT abdominal imaging study -guidance\",\n",
        "      \"description\": \"Use RSNA Image Wisely guidelines to order US or CT imaging\",\n",
        "      \"id\": \"order-ct-us-abdomen\",\n",
        "      \"prefetch\": {\n",
        "        \"patient\": \"Patient/{{context.patientId}}\",\n",
        "        \"condition\": \"Condition?patient={{context.patientId}}\"\n",
        "      }\n",
        "    }\n",
        "  ]\n",
        "}\n",
        "\n",
        "```\n",
        "\n",
        "\n",
        "\n"
      ]
    },
    {
      "cell_type": "markdown",
      "metadata": {
        "id": "bb3l9yHEjY4b"
      },
      "source": [
        "### 5. Per the FHIR standard, a FHIR server must support CapabilityStatement Resource which is accessible using an http GET and the appending “/metadata” after the host server URL.  A similar approach is used in CDShooks.  This is called the **BLANK** use case.\n",
        "(one word, first letter upper case, following letters lower case)\n",
        "\n",
        "**Learning objective:**  Let the CDS service tell you what it can (really!) support."
      ]
    },
    {
      "cell_type": "code",
      "execution_count": null,
      "metadata": {
        "id": "jhBoTrakjYUt"
      },
      "outputs": [],
      "source": [
        "sub_ans(token,5,\"#YourAnswerHere#\")"
      ]
    },
    {
      "cell_type": "markdown",
      "metadata": {
        "id": "9WULUx4fjoaX"
      },
      "source": [
        "### 6.  In the response to this query, the CDS Service responds with an array of **BLANK** objects.\n",
        "(one word, all lower case, plurality as specified by the standard)\n",
        "\n",
        "**Learning objective:**  Learn the terminology of CDShooks."
      ]
    },
    {
      "cell_type": "code",
      "execution_count": null,
      "metadata": {
        "id": "imJ6pqi9jonY"
      },
      "outputs": [],
      "source": [
        "sub_ans(token,6,\"#YourAnswerHere#\")"
      ]
    },
    {
      "cell_type": "markdown",
      "metadata": {
        "id": "UjClu8f-k6DS"
      },
      "source": [
        "### 7. In the JSON response shown in Figure 1, how many CDS services does this application provide?\n",
        "\n",
        "**Learning objective:**  Read and understand a CDShooks JSON response.\n",
        "\n",
        "**Note:** strangely, this numerical answer is entered as text, so keep the quotation marks!"
      ]
    },
    {
      "cell_type": "code",
      "execution_count": null,
      "metadata": {
        "id": "Gf38vR2nk6Ma"
      },
      "outputs": [],
      "source": [
        "sub_ans(token,7,\"#YourAnswerHere#\")"
      ]
    },
    {
      "cell_type": "markdown",
      "metadata": {
        "id": "ta8sIr5xlANA"
      },
      "source": [
        "### 8. In the JSON response shown in Figure 1, which CDShooks trigger is supported?\n",
        "(all lower case, use proper trigger name)\n",
        "\n",
        "**Learning objective:** Read and understand a CDShooks JSON response."
      ]
    },
    {
      "cell_type": "code",
      "execution_count": null,
      "metadata": {
        "id": "ihikihpmlAX-"
      },
      "outputs": [],
      "source": [
        "sub_ans(token,8,\"#YourAnswerHere#\")"
      ]
    },
    {
      "cell_type": "markdown",
      "metadata": {
        "id": "podnmLu_lArW"
      },
      "source": [
        "### 9. In this diagram, what is the proper name of the UML actor initiating the Discovery use case?  \n",
        "(proper name as specified in the sequence diagram, capitalization unchanged)\n",
        "\n",
        "**Learning objective:** Relate the CDShooks standard to the UML Sequence diagram to define and quantify how a system works.\n"
      ]
    },
    {
      "cell_type": "code",
      "execution_count": null,
      "metadata": {
        "id": "Nmn5fv7XlA1t"
      },
      "outputs": [],
      "source": [
        "sub_ans(token,9,\"#YourAnswerHere#\")"
      ]
    },
    {
      "cell_type": "markdown",
      "metadata": {
        "id": "bY8OZMfBlCJL"
      },
      "source": [
        "### 10.  Using consistent naming protocols and capitalization can be incredibly helpful to enable users to glean information from looking at the naming convention.  This CDS service provider’s naming convention could best be described as:  verb-bodypart-modality\n",
        "* True\n",
        "* False\n",
        "\n",
        "**Learning objective:**  Using naming conventions enables users to more quickly understand intent.\n"
      ]
    },
    {
      "cell_type": "code",
      "execution_count": null,
      "metadata": {
        "id": "zczTV4JclCTD"
      },
      "outputs": [],
      "source": [
        "sub_ans(token,10,\"#YourAnswerHere#\")"
      ]
    },
    {
      "cell_type": "markdown",
      "metadata": {
        "id": "JQnL2MuCBQxd"
      },
      "source": [
        "## Section 2.3:  CDShooks Use Case #2: Calling CDS"
      ]
    },
    {
      "cell_type": "markdown",
      "metadata": {
        "id": "Ep2qDHVrFPH1"
      },
      "source": [
        "Use Case:  A patient comes to the GI department complaining of long term abdominal pain.   This has been going on for a while, but they thought it would go away.   The patient finally decided to come in to see their primary care physician, but was referred to GI.  The GI physician would like to consider the proper RSNA Image Wisely suggestion."
      ]
    },
    {
      "cell_type": "markdown",
      "metadata": {
        "id": "Sul1nLM-C9hs"
      },
      "source": [
        "###UML Use Case #2 - Calling CDS\n",
        "<table><tr><td><img src=\"https://bidsclassroomfigures.blob.core.windows.net/figures/2023.04.13.JH.CDS.UML.UseCase2.png\" width=700></td></tr></table>"
      ]
    },
    {
      "cell_type": "markdown",
      "metadata": {
        "id": "TKFMEpzCBSgw"
      },
      "source": [
        "### Figure 2: JSON Body - POST to CDS Service\n",
        "```\n",
        "{\n",
        "  \"hookInstance\": \"d1577c69-dfbe-44ad-ba6d-3e05e953b2ea\",\n",
        "  \"fhirServer\": \"https://fhir.server.jh.org\",\n",
        "  \"hook\": \"order-select\",\n",
        "  \"fhirAuthorization\": {\n",
        "    \"access_token\": \"some-long-opaque-fhir-access-token\",\n",
        "    \"token_type\": \"Bearer\",\n",
        "    \"expires_in\": 300,\n",
        "    \"scope\": \"user/Patient.read user/Observation.read user/Condition.read user/AllergyIntollerance.read\",\n",
        "    \"subject\": \"order-ct-us-abdomen\"\n",
        "   },\n",
        "  \"context\": {\n",
        "    \"userId\": \"Practitioner/55555\",\n",
        "    \"patientId\": \"1881\",\n",
        "    \"encounterId\": \"7777”\n",
        "    \"selections\": [ \"ServiceRequest/order-ct-us-abd-1043\" ]\n",
        "  }\n",
        "}\n",
        "\n",
        "```\n",
        "\n",
        "### Figure 3: JSON Body Response to CDS Client\n",
        "\n",
        "```\n",
        "{\n",
        "  \"cards\": [\n",
        "    {\n",
        "      \"uuid\": \"4e0a3a1e-3283-4575-ab82-028d55fe2719\",\n",
        "      \"summary\": \"Abdominal radiology study guidance\",\n",
        "      \"indicator\": \"info\",\n",
        "      \"detail\": \"Abdominal radiology order guidance for GI exams provided through a joint review by the Radiology Society of North America (RSNA) in conjunction with specialist socieities.\",\n",
        "      \"source\": {\n",
        "        \"label\": \"RSNA Image Wisely\",\n",
        "        \"url\": \"https://imagewisely.rsna.org\",\n",
        "        \"icon\": \"https://rsna.org/img/image-wisely-icon-100px.png\"\n",
        "      },\n",
        "     “suggestion” : [\n",
        "     {\n",
        "       “label”: “Order CT ABD W/O Contrast”,\n",
        "       \"uuid\": \"4e0a3a1e-3283-4575-ab82-028d55fe2719\",\n",
        "       “action” : [              \n",
        "       {\n",
        "         \"type\": \"create\",\n",
        "         \"description\": \"Order CT Abdominal imaging\",\n",
        "         \"resource\": {\n",
        "            \"resourceType\": \"ServiceRequest\",\n",
        "            “Status” : “active”,\n",
        "            “priority” : “normal”,\n",
        "            \"intent\" : \"original-order\",\n",
        "            \"code\" : {\n",
        "              \"concept\" : {\n",
        "                 \"coding\" : [{\n",
        "                 \"system\" : \"http://loinc.org\",\n",
        "                 \"code\" : \"36424-0\"\n",
        "                 }],\n",
        "               \"text\" : \"CT Abdomen WO contrast\"\n",
        "               }\n",
        "            }\n",
        "         }\n",
        "      }\n",
        "      \"overrideReasons\": [\n",
        "        {\n",
        "          \"code\": \"reason-code-provided-by-service\",\n",
        "          \"system\": \"http://example.org/cds-services/fhir/CodeSystem/override-reasons\",\n",
        "          \"display\": \"Patient refused\"\n",
        "        }\n",
        "      ]\n",
        "    }\n",
        "  ]\n",
        "}\n",
        "```\n"
      ]
    },
    {
      "cell_type": "markdown",
      "metadata": {
        "id": "89ASuGeBlC2y"
      },
      "source": [
        "### 11. In the second UML diagram, what is the proper name of the UML actor initiating the Calling CDS use case?  \n",
        "(use proper name, including capitalization, one word)\n",
        "\n",
        "**Learning objective:**  New use case, different actors involved.\n"
      ]
    },
    {
      "cell_type": "code",
      "execution_count": null,
      "metadata": {
        "id": "Er0VtX4slC-a"
      },
      "outputs": [],
      "source": [
        "sub_ans(token,11,\"#YourAnswerHere#\")"
      ]
    },
    {
      "cell_type": "markdown",
      "metadata": {
        "id": "HCI-jryvlDrJ"
      },
      "source": [
        " ### 12. In the second UML diagram, where has the logic on whether or not to call the CDS Service been programmed?\n",
        "\n",
        "* a.) CDS Service\n",
        "* b.) CDS Broker\n",
        "* c.) EHR (CDS Client)\n",
        "* d.) None of the above\n"
      ]
    },
    {
      "cell_type": "code",
      "execution_count": null,
      "metadata": {
        "id": "k-v60SFclDyi"
      },
      "outputs": [],
      "source": [
        "sub_ans(token,12,\"#YourAnswerHere#\")"
      ]
    },
    {
      "cell_type": "markdown",
      "metadata": {
        "id": "R4fiBQwrlD7w"
      },
      "source": [
        "### 13. In Figure 2, the \"Calling CDS API\" JSON POST, was the requested prefetch information provided?\n",
        "* Yes\n",
        "* No\n",
        "\n",
        "**Learning objective:**  Understand how to read the sequence diagram, understand the implications of the sequence, and compare this to the JSON request and response."
      ]
    },
    {
      "cell_type": "code",
      "execution_count": null,
      "metadata": {
        "id": "zuhrzjgGlEDw"
      },
      "outputs": [],
      "source": [
        "sub_ans(token,13,\"#YourAnswerHere#\")"
      ]
    },
    {
      "cell_type": "markdown",
      "metadata": {
        "id": "T0-hot85lFM-"
      },
      "source": [
        "### 14.  In Figure 2, the \"Calling CDS API\" JSON POST, what timelimit does the fhirAuthorization specify for the OAuth token (in seconds)?\n",
        "\n",
        "**Learning objective:**  The CDShook client (EHR, in this case) determines how long the CDSservice will have access to this patient's record the FHIR server.  This is a level of security."
      ]
    },
    {
      "cell_type": "code",
      "execution_count": null,
      "metadata": {
        "id": "m1jCvnCClFq9"
      },
      "outputs": [],
      "source": [
        "sub_ans(token,14,\"#YourAnswerHere#\")"
      ]
    },
    {
      "cell_type": "markdown",
      "metadata": {
        "id": "a-cmboTwmilP"
      },
      "source": [
        "### 15. In the second UML diagram, the CDS Service needs to request information of the FHIR server.  Comparing this UML sequence diagrams to the fhirAuthorization object, consider if the CDS service will be able to obtain all of the necessary data.  If not, what Resource authorization is missing?\n",
        "(use proper name of FHIR Resource, only)\n",
        "\n",
        "**Learning objective:**  There are many different ways to limit the amount of patient information which a remote CDS service may access, but you need to understand and implement them."
      ]
    },
    {
      "cell_type": "code",
      "execution_count": null,
      "metadata": {
        "id": "7IWn9KjdmiYo"
      },
      "outputs": [],
      "source": [
        "sub_ans(token,15,\"#YourAnswerHere#\")"
      ]
    },
    {
      "cell_type": "markdown",
      "metadata": {
        "id": "Qm3fN42Jmj8L"
      },
      "source": [
        "### 16. Compared the continuous improvement build specification, is the context object shown in Figure 2 sufficient for THIS hook?  If not, what element is missing?  \n",
        "(written as one word, case is important)\n",
        "\n",
        "**Learning objective:**  Context (parameters passed in) vary by hook type. (which makes sense if you think about it...)\n"
      ]
    },
    {
      "cell_type": "code",
      "execution_count": null,
      "metadata": {
        "id": "HeGPSKNemmQe"
      },
      "outputs": [],
      "source": [
        "sub_ans(token,16,\"#YourAnswerHere#\")"
      ]
    },
    {
      "cell_type": "markdown",
      "metadata": {
        "id": "jd-cYIK6mniE"
      },
      "source": [
        "### 17. In Figure 3, what organization is providing the guidance for this CDS service?  \n",
        "(all upper case, organization acronym)\n",
        "\n",
        "**Learning objective:**  Provenance of the CDS algorithm is really important- consider displaying it to the provider.  (Seriously, have you seen the \"CDS calculators\" for Ozempic in internet ads yet?! They always seem to return the guidance of \"needed\" directly to the patient.)"
      ]
    },
    {
      "cell_type": "code",
      "execution_count": null,
      "metadata": {
        "id": "yurSqXOgmnxn"
      },
      "outputs": [],
      "source": [
        "sub_ans(token,17,\"#YourAnswerHere#\")"
      ]
    },
    {
      "cell_type": "markdown",
      "metadata": {
        "id": "CbNaSRMhmo0S"
      },
      "source": [
        "### 18. In Figure 3, is this guidance a SMARTonFHIR application?\n",
        "* Yes\n",
        "* No\n",
        "\n",
        "**Learning objective:**  The type of card which is returned will really affect how a provider interacts with the CDS, including time interacting.  Consider what type of interaction the providers may want.\n"
      ]
    },
    {
      "cell_type": "code",
      "execution_count": null,
      "metadata": {
        "id": "2xyuBzzDmpFS"
      },
      "outputs": [],
      "source": [
        "sub_ans(token,18,\"#YourAnswerHere#\")"
      ]
    },
    {
      "cell_type": "markdown",
      "metadata": {
        "id": "pytRfAw-mp0Y"
      },
      "source": [
        "### 19. In Figure 3, which of the three types of CDShooks guidance is this CDS service providing?\n",
        "(one word, all lower case)\n"
      ]
    },
    {
      "cell_type": "code",
      "execution_count": null,
      "metadata": {
        "id": "UG27sFL0mp8a"
      },
      "outputs": [],
      "source": [
        "sub_ans(token,19,\"#YourAnswerHere#\")"
      ]
    },
    {
      "cell_type": "markdown",
      "metadata": {
        "id": "xYjtwgmrmqaw"
      },
      "source": [
        "### 20. In Figure 3, is the physician required to follow this CDS suggestion to change the radiology order?\n",
        "* Yes\n",
        "* No\n",
        "\n",
        "**Learning objective:**  Making CDS guidance \"required\" infers that the CDS algorithm has taken into account every possible situation.   Sometimes, to obtain coded/structured data, that is true.  Often, that is impossible.\n"
      ]
    },
    {
      "cell_type": "code",
      "execution_count": null,
      "metadata": {
        "id": "bniNcxeJmqli"
      },
      "outputs": [],
      "source": [
        "sub_ans(token,20,\"#YourAnswerHere#\")"
      ]
    },
    {
      "cell_type": "markdown",
      "metadata": {
        "id": "L4DfMl4-mr60"
      },
      "source": [
        " ### 21. In Figure 3, does the CDS service provide at least one specific reason if the order is overridden?\n",
        "* Yes\n",
        "* No\n",
        "\n",
        "**Learning objective:**  If you really want your CDS to \"learn\" and adapt, the selectable reasons for overriding the guidance need to be thorough.  Is this list sufficient?\n"
      ]
    },
    {
      "cell_type": "code",
      "execution_count": null,
      "metadata": {
        "id": "NRgLbw-Oms0d"
      },
      "outputs": [],
      "source": [
        "sub_ans(token,21,\"#YourAnswerHere#\")"
      ]
    },
    {
      "cell_type": "markdown",
      "metadata": {
        "id": "AbCni6jMmtIK"
      },
      "source": [
        "### 22. In Figure 3, might the CDS service want to provide additional override reasons to future refinement of the algorithm?\n",
        "* Yes\n",
        "* No\n"
      ]
    },
    {
      "cell_type": "code",
      "execution_count": null,
      "metadata": {
        "id": "YJOypeyJmtSz"
      },
      "outputs": [],
      "source": [
        "sub_ans(token,22,\"#YourAnswerHere#\")"
      ]
    },
    {
      "cell_type": "markdown",
      "metadata": {
        "id": "dh9_FFZB3VCT"
      },
      "source": [
        "## Section 2.4:  CDShooks Use Case #3: Feedback"
      ]
    },
    {
      "cell_type": "markdown",
      "metadata": {
        "id": "VTu2UpYQWLNc"
      },
      "source": [
        "While talking to the patient, the provider and the patient decide (or not!) to order an imaging study.  This decision may or may not correspond to the guidance given by the CDS.  Whatever the physician chooses, the feedback to the algorithm is most likely valuable."
      ]
    },
    {
      "cell_type": "markdown",
      "metadata": {
        "id": "MhHSJA9BETEx"
      },
      "source": [
        "###UML Use Case #3 - Feedback Use Case\n",
        "<table><tr><td><img src=\"https://bidsclassroomfigures.blob.core.windows.net/figures/2023.04.13.JH.CDS.UML.UseCase3.png\" width=700></td></tr></table>"
      ]
    },
    {
      "cell_type": "markdown",
      "metadata": {
        "id": "-YojUDhBpxT5"
      },
      "source": [
        "### 23.  Using the Feedback Use Case sequence diagram, the basic feedback transactions in CDShooks are extremely complex and probably not worth the effort.\n",
        "* True\n",
        "* False\n",
        "\n",
        "**Learning objective:**  Implementing a CDShook without the option for feedback is probably silly.\n"
      ]
    },
    {
      "cell_type": "code",
      "execution_count": null,
      "metadata": {
        "id": "owoXE5e7pxtw"
      },
      "outputs": [],
      "source": [
        "sub_ans(token,23,\"#YourAnswerHere#\")"
      ]
    },
    {
      "cell_type": "markdown",
      "metadata": {
        "id": "3zf_6ZZspyD_"
      },
      "source": [
        "### 24. In this use case, the CDS Client provides an “array of feedback” object(s) to the CDS service to interpret, but it is an array with a single item.\n",
        "\n",
        "* True\n",
        "* False\n"
      ]
    },
    {
      "cell_type": "code",
      "execution_count": null,
      "metadata": {
        "id": "Q6AMkS6zpyPg"
      },
      "outputs": [],
      "source": [
        "sub_ans(token,24,\"#YourAnswerHere#\")"
      ]
    },
    {
      "cell_type": "markdown",
      "metadata": {
        "id": "6MZTjCeDpzD_"
      },
      "source": [
        "### 25. \"External\" CDS services can be hosted in different ways.\n",
        "\n",
        "Any non-EHR programmed CDS service is typically called an \"external CDS service\" (external to the EHR).\n",
        "\n",
        "If the \"external CDS service\" is actually hosted “in house” (on local hospital servers), there may need to be a “service provider agreement” to return the CDS feedback information to the CDS developer via http.\n",
        "\n",
        "* True\n",
        "* False\n",
        "\n",
        "**Learning objective:**  Interacting with healthcare services of any kind often require data use agreements, contracts, HIPAA compliance, service provider agreements, or other legal documents.  You may want to verify these requirements with your administration prior to starting a project.  You may want to get this type of paperwork queued up early in a project.\n"
      ]
    },
    {
      "cell_type": "code",
      "execution_count": null,
      "metadata": {
        "id": "CTQyzvu4pzNe"
      },
      "outputs": [],
      "source": [
        "sub_ans(token,25,\"#YourAnswerHere#\")"
      ]
    },
    {
      "cell_type": "markdown",
      "metadata": {
        "id": "v6w3ewjzp0NL"
      },
      "source": [
        "### 26. Referring to the CDShooks current version, the CDS feedback object may contain which of the following:\n",
        "\n",
        "**Learning objective:**  Although feedback is good, understand what data is being sent back to an external CDS service provider as part of feedback.\n",
        "\n",
        "* a.) Globally unique identifier for that card given the input data\n",
        "* b.) Whether the card was accepted or overridden\n",
        "* c.) Which suggestion was accepted\n",
        "* d.) The timestamp the card was accepted or rejected\n",
        "* e.) The reason the card was overridden\n",
        "* f.) a and c\n",
        "* g.) a, b, and c\n",
        "* h.) None of the above\n",
        "* i.) All of a through e\n"
      ]
    },
    {
      "cell_type": "code",
      "execution_count": null,
      "metadata": {
        "id": "psNyFbZAp0UU"
      },
      "outputs": [],
      "source": [
        "sub_ans(token,26,\"#YourAnswerHere#\")"
      ]
    },
    {
      "cell_type": "markdown",
      "metadata": {
        "id": "lc14vt5KABj7"
      },
      "source": [
        "### 27. Provide feedback.  Graded question!\n",
        "\n",
        "As part of continuous improvement, especially for a new class, we would like realtime feedback and active participation.  **As part of your participation grade** and using the Canvas Week 3 \"Student Q&A Discussion\" group, please answer either (or both!) of the following questions:\n",
        "* After completing assignment, is there a concept which is not clear?  \n",
        "* After completing this module, what is something new that you learned that you feel is important?\n",
        "\n",
        "Question:  Did you provide feedback in Canvas?\n",
        "* Yes\n",
        "* No"
      ]
    },
    {
      "cell_type": "code",
      "execution_count": null,
      "metadata": {
        "id": "Az11d9gNp1Pa"
      },
      "outputs": [],
      "source": [
        "sub_ans(token,27,\"#YourAnswerHere#\")"
      ]
    },
    {
      "cell_type": "markdown",
      "metadata": {
        "id": "c9QFjqNKxLUG"
      },
      "source": [
        "##Check your answers.\n",
        "You can check your answers [here](https://bids-class.azurewebsites.net/home).\n",
        "\n",
        "\n",
        "If you are not seeing the answers logged to your JHED, please make sure you have the done the first step in this notebook correctly for entering your token."
      ]
    }
  ],
  "metadata": {
    "colab": {
      "provenance": []
    },
    "kernelspec": {
      "display_name": "Python 3",
      "name": "python3"
    },
    "language_info": {
      "name": "python"
    }
  },
  "nbformat": 4,
  "nbformat_minor": 0
}