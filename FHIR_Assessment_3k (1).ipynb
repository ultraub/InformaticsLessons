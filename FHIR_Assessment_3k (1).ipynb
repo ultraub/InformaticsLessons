{
  "cells": [
    {
      "cell_type": "markdown",
      "source": [
        "# FHIR Week 3:  More on Resources - SEARCH for information\n",
        "## Q3 2025\n",
        "\n",
        "\n",
        "## LEARNING OBJECTIVES\n",
        "\n",
        "LEARNING OBJECTIVES\n",
        "\n",
        "After completing this week's learning activities and assignments, you will be able to:\n",
        "-\tFind and use FHIR search parameter names by Resource\n",
        "-\tEncode FHIR search parameter values by Data Type\n",
        "-\tExecute simple queries using ClinFHIR\n",
        "-\tInterpret complex queries by evaluating APIs\n",
        "\n",
        "## FHIR Servers and Clients\n",
        "\n",
        "Differences in IMPLEMENTATION and support of FHIR:\n",
        "\n",
        "This week we will temporarily switch from the Open EMR FHIR server to the **HAPI public FHIR server**.  Real world scenario:  Open EMR has a basic implementation of FHIR as a server and does not support, e.g., prefixes and modifiers on searches.\n",
        "\n",
        "Saying \"Do you support FHIR?\" has very little value.   If you are writing an RFP you need to be much more specific about exactly which features you intend to use.  We will get into this more in Modules 5 through 8.\n",
        "\n",
        "We will also switch to the **ClinFHIR client** application.  One of the key features of this particular FHIR client app is it's graphing capabilities which allows us to visually represent the linkages between objects."
      ],
      "metadata": {
        "id": "I3gbnx2h8CBq"
      }
    },
    {
      "cell_type": "markdown",
      "metadata": {
        "id": "7eUSjc6iqJLc"
      },
      "source": [
        "**REMINDER:** Changes to using the JH BIDS Informatics Classroom\n",
        "Beginning in Module 2 we introduced changes with the JH BIDS Informatics Classroom.\n",
        "\n",
        "Steps:\n",
        "\n",
        "1. In a separate internet browser window, go to the BIDS Informatics \\\n",
        "Classroom website: https://bids-class.azurewebsites.net/home\n",
        "You may need to login using your JHED ID and JH credentials.\n",
        "2. Instead of using JHED_ID to login, we are going to begin to use tokens.\n",
        "On the BIDS Informatics Classroom website, along the black title at the top, select \"Generate Token\". The token encapsulates the user name, the class, and the module.\n",
        "* a. Select the class answer key: fhir22\n",
        "* b. Select the Module: 3\n",
        "3. You should have a number returned to you that will look something like this: c2bc81e3-9637-4ade-acd1-f5e3d5e42a79 - copy this string (but not the expiration date). Note that this token is good for one 24 hour period, at which time it will need to be regenerated.\n",
        "4. In THIS Jupyter notebook, copy the long token string into the \"token\" variable in the code cell below, where instructed, 2/3 down the cell block."
      ]
    },
    {
      "cell_type": "code",
      "execution_count": null,
      "metadata": {
        "id": "Yt6gtfGKmbdG"
      },
      "outputs": [],
      "source": [
        "#you may need to remove the comment sign # from the line below if you are running this from Visual Studio (VS) Code\n",
        "#pip install requests\n",
        "import requests\n",
        "import json\n",
        "def sub_ans(token,question_num,answer):\n",
        "    url='https://bids-class.azurewebsites.net/submit-answer'\n",
        "    data={'token':token,\n",
        "         'question_num':question_num,\n",
        "         'answer_num':answer}\n",
        "    x=requests.post(url,data=data)\n",
        "    response = json.loads(x.text)\n",
        "    if response['success']:\n",
        "          return response['correct']\n",
        "    else:\n",
        "         return response['message']\n",
        "\n",
        "#COPY YOUR TOKEN STRING BETWEEN THE DOUBLE QUOTES BELOW\n",
        "token = \"YOUR_TOKEN\"\n",
        "if token!='YOUR_TOKEN':\n",
        "  print(\"Success {},You are ready to go!\")\n",
        "else:\n",
        "  print(\"Please enter your token above and run again\")"
      ]
    },
    {
      "cell_type": "markdown",
      "metadata": {
        "id": "o3AHNzuDnaNE"
      },
      "source": [
        "\n",
        "\n",
        "\n",
        "## ASSIGMENT\n",
        "\n",
        "##Use Case 1: Search basics:\n",
        "\n"
      ]
    },
    {
      "cell_type": "markdown",
      "metadata": {
        "id": "xbrqfCDgoWvt"
      },
      "source": [
        "## 1.\tThe acronym CRUDS is commonly used with client/server architectures to describe the design used for persistent storage.   The “S” stands for:\n",
        "\n",
        "- a.\tCreate\n",
        "- b.\tRead\n",
        "- c.\tDeprecate\n",
        "- d.\tSeek\n",
        "- e.\tSense\n",
        "- f.\tSearch\n",
        "- g.\tUpdate\n",
        "- h.\tDelete\n",
        "\n",
        "Please recall that responses are case Sensitive!"
      ]
    },
    {
      "cell_type": "code",
      "execution_count": null,
      "metadata": {
        "id": "THxodT8WosEc"
      },
      "outputs": [],
      "source": [
        "sub_ans(token,1,\"#Your Answer#\")"
      ]
    },
    {
      "cell_type": "markdown",
      "metadata": {
        "id": "XciyTrbaoyUK"
      },
      "source": [
        "## 2.\tWhat is the http VERB that FHIR specifies for any search?\n",
        "- a.\tPOST\n",
        "- b.\tSEARCH\n",
        "- c.\tGET\n",
        "- d.\tPUT\n",
        "- e.\tDELETE\n",
        "\n"
      ]
    },
    {
      "cell_type": "code",
      "execution_count": null,
      "metadata": {
        "id": "Mi9KjexnpAB5"
      },
      "outputs": [],
      "source": [
        "sub_ans(token,2,\"#Your Answer#\")"
      ]
    },
    {
      "cell_type": "markdown",
      "metadata": {
        "id": "pXckLGX7pHYu"
      },
      "source": [
        "## 3.\tSearch parameters are encoded in the FHIR API Request from the client to the server.  FHIR search parameters always have two primary components:\n",
        "- a.\tName, modifiers and value\n",
        "- b.\tName and value\n",
        "- c.\tName, value, and prefixes\n",
        "- d.\tKey and value\n",
        "- e.\tResource, API, name, value, server URL\n",
        "\n"
      ]
    },
    {
      "cell_type": "code",
      "execution_count": null,
      "metadata": {
        "id": "QaTDpCgPpSa0"
      },
      "outputs": [],
      "source": [
        "sub_ans(token,3,\"#Your Answer#\")"
      ]
    },
    {
      "cell_type": "markdown",
      "metadata": {
        "id": "1oebxGEbpVb6"
      },
      "source": [
        "## 4.\tMultiple FHIR search parameters can be joined by which symbol:\n",
        "- a.\t$\n",
        "- b.\t,\n",
        "- c.\t&\n",
        "- d.\t:\n"
      ]
    },
    {
      "cell_type": "code",
      "execution_count": null,
      "metadata": {
        "id": "aE1nH7xrpVj-"
      },
      "outputs": [],
      "source": [
        "sub_ans(token,4,\"#Your Answer#\")"
      ]
    },
    {
      "cell_type": "markdown",
      "metadata": {
        "id": "0TnP_0wvpu8D"
      },
      "source": [
        "## 5.\tThe search parameter names are the same for all Resources. (True/False)\n",
        "-\tTrue\n",
        "- False\n"
      ]
    },
    {
      "cell_type": "code",
      "execution_count": null,
      "metadata": {
        "id": "rjWETe9Qpjst"
      },
      "outputs": [],
      "source": [
        "sub_ans(token,5,\"#Your Answer#\")"
      ]
    },
    {
      "cell_type": "markdown",
      "metadata": {
        "id": "UYZgmt4opvzO"
      },
      "source": [
        "## 6.\tThe format for the value in the FHIR search API is determined by looking at the third column (“Type”) of the Search Parameter list for each Resource. (True/False)\n",
        "- True\n",
        "- False\n",
        "\n"
      ]
    },
    {
      "cell_type": "code",
      "execution_count": null,
      "metadata": {
        "id": "Vi-IdmXqpjv6"
      },
      "outputs": [],
      "source": [
        "sub_ans(token,6,\"#Your Answer#\")"
      ]
    },
    {
      "cell_type": "markdown",
      "metadata": {
        "id": "N6ZP390ppwkl"
      },
      "source": [
        "##**Review Clinical Terminology and Resources:**\n",
        "## 7.\tReview the search parameter names of any FHIR resource.  The naming convention for a search parameter name is:\n",
        "\n",
        "(Note:  recognizing the naming conventions in FHIR is really useful to read FHIR APIs. You want to be \"just know\" these naming conventions, it will save a lot of time.)\n",
        "\n",
        "- a.\tInitial lower case letter, then camel case\n",
        "- b.\tInitial upper case letter, then camel case\n",
        "- c.\tInitial lower case letter, then dashes between words\n",
        "- d.\tAll lower case letters with dashes between words\n"
      ]
    },
    {
      "cell_type": "code",
      "execution_count": null,
      "metadata": {
        "id": "LTqNr6qvpjyc"
      },
      "outputs": [],
      "source": [
        "sub_ans(token,7,\"#Your Answer#\")"
      ]
    },
    {
      "cell_type": "markdown",
      "metadata": {
        "id": "EkK1tPoBpx0K"
      },
      "source": [
        "## 8.\tModifiers are applied to the end of FHIR search parameter names. (True/False)\n",
        "-\tTrue\n",
        "-\tFalse\n",
        "\n"
      ]
    },
    {
      "cell_type": "code",
      "execution_count": null,
      "metadata": {
        "id": "Cjpmrns5pj1S"
      },
      "outputs": [],
      "source": [
        "sub_ans(token,8,\"#Your Answer#\")"
      ]
    },
    {
      "cell_type": "markdown",
      "metadata": {
        "id": "4FCg4mIGpyrT"
      },
      "source": [
        "## 9.\tPrefixes are applied at the beginning of FHIR search parameter names. (True/False)\n",
        "-\tTrue\n",
        "-\tFalse\n",
        "\n"
      ]
    },
    {
      "cell_type": "code",
      "execution_count": null,
      "metadata": {
        "id": "UEpbc4Clpj4L"
      },
      "outputs": [],
      "source": [
        "sub_ans(token,9,\"#Your Answer#\")"
      ]
    },
    {
      "cell_type": "markdown",
      "metadata": {
        "id": "hHJczIm9BaAK"
      },
      "source": [
        "## USE CASE 2:  Public Health query for diabetes study\n",
        "\n",
        "Story: Congratulations!  You have just started as an entry level software developer at the Johns Hopkins School of Medicine in the IT department.  Your first task will be to work directly with a cross functional clinical team.  This team is considering applying for a grant to study A1c levels in pre-diabetic adults and needs to verify that sufficient data exists in the EHR (on the FHIR server) to support this project.   The clinical principal investigator asks you to perform several FHIR queries as she iterates on the data available.  Note that these are considered to be “broad” queries, not patient specific.\n",
        "\n",
        "\n",
        "Assume all privacy, consent, and IRB approvals have been obtained.\n",
        "\n",
        "**Quick background on A1C for non-clinical students**:\n",
        "\n",
        "A1C is a blood test for type 2 diabetes and prediabetes. It measures your average blood glucose, or blood sugar, level over the past 3 months. Doctors may use the A1C alone or in combination with other diabetes tests to make a diagnosis. They also use the A1C values over time to see how well you are managing your diabetes.  The A1C test result is given as a percentage.  \n"
      ]
    },
    {
      "cell_type": "markdown",
      "metadata": {
        "id": "B3y-Vy4drK_r"
      },
      "source": [
        "\n",
        "## 10.\tThe LOINC code for A1c values is “4548-4” and the identifier for the code system is http://loinc.org . The website is https://loinc.org.\n",
        "\n",
        "Got to search.loinc.org (login required, but free), locate the definition of the LOINC code and read the entire Description.  Select the most appropriate response:\n",
        "\n",
        "- a.\tA1c is measured in units of %\n",
        "- b.\tThe full proper name for this code is “Hemoglobin A1c/Hemoglobin.total in Blood”\n",
        "- c.\tThe typical range is 3.8% to 6.4% for all ethnic groups\n",
        "- d.\tLOINC provides a full, permanent URL link so that any application can include this link if a clinical provider would like to look up the details of the code (a permanent URL guarantees the URL will not change in the future)\n",
        "- e.\tAll of the above\n",
        "- f.\tAll of the above except c\n",
        "\n",
        "\n",
        "\n"
      ]
    },
    {
      "cell_type": "code",
      "execution_count": null,
      "metadata": {
        "id": "uWqOTPAOpj7C"
      },
      "outputs": [],
      "source": [
        "sub_ans(token,10,\"#Your Answer#\")"
      ]
    },
    {
      "cell_type": "markdown",
      "metadata": {
        "id": "dMQSR9uNrcFj"
      },
      "source": [
        "## 11.\tWhich FHIR Resource should be used to store A1c values?\n",
        "- a.\tPatient\n",
        "- b.\tObservation\n",
        "- c.\tReference\n",
        "- d.\tDiagnosticReport\n",
        "- e.\tCondition\n",
        "- f.\tCarePlan\n"
      ]
    },
    {
      "cell_type": "code",
      "execution_count": null,
      "metadata": {
        "id": "JbAR7Tbjpj96"
      },
      "outputs": [],
      "source": [
        "sub_ans(token,11,\"#Your Answer#\")"
      ]
    },
    {
      "cell_type": "markdown",
      "metadata": {
        "id": "xT3hz2dzrg8q"
      },
      "source": [
        "## 12.\tWhat is the search parameter name of the “question” from the Resource above?  That is, what search parameter is used to to identify that the Observation contains A1c values?\n",
        "- a.\tidentifier\n",
        "- b.\tcategory\n",
        "- c.\tcode\n",
        "- d.\tvalue\n",
        "- e.\tvalueQuantity\n"
      ]
    },
    {
      "cell_type": "code",
      "execution_count": null,
      "metadata": {
        "id": "MZTx9cXbpkAy"
      },
      "outputs": [],
      "source": [
        "sub_ans(token,12,\"#Your Answer#\")"
      ]
    },
    {
      "cell_type": "markdown",
      "metadata": {
        "id": "GzfJsktjrlSC"
      },
      "source": [
        "## 13.\tUsing the search parameters section at the end of the Resource webpage, what is the “search parameter value data type” for the search parameter from the previous question?\n",
        "- a.\tstring\n",
        "- b.\ttoken\n",
        "- c.\tinteger\n",
        "- d.\tReference\n"
      ]
    },
    {
      "cell_type": "code",
      "execution_count": null,
      "metadata": {
        "id": "F60IVuwvpkDq"
      },
      "outputs": [],
      "source": [
        "sub_ans(token,13,\"#Your Answer#\")"
      ]
    },
    {
      "cell_type": "markdown",
      "metadata": {
        "id": "p83Qdp2xCZil"
      },
      "source": [
        "## Let's build some FHIR queries\n",
        "\n",
        "Before we get started, review the format of that “search parameter value data type” of [token](https://www.hl7.org/fhir/search.html#token).   Specifically, review the data type in its simplest form which is [search parameter]=[code].  In general, it is very poor programming principles to not include the code [system], but we will begin with the simple format nonetheless and build upon that.\n",
        "\n",
        "Now let's try some queries on the HAPI R4 FHIR server using the ClinFHIR client.  Note that you can also use any internet browser.\n",
        "\n",
        "Using a web browser, go to [clinfhir.com](https://clinfhir.com) to launch the ClinFHIR client. Be certain that ClinFHIR is using the correct server.\n",
        "\n",
        "Go to “Server Query” app in the left column (4th entry down).\n",
        "Then select the “Query Builder” tab, 3rd tab from the left.  \n",
        "\n",
        "Select the \"Observation” Resource under the “Type” column on the left-hand side.\n",
        "\n",
        "In a separate browser window, open the HL7 FHIR webpage for the Observation Resource definition.  Scroll to the bottom of this page which lists the “search parameter names”.\n",
        "\n",
        "ClinFHIR has a useful features which queries the FHIR server and only presents the search parameters which that FHIR server supports.  (This is determined using the FHIR Server's Capability Statement at https://server/metadata for all FHIR servers.)\n",
        "\n",
        "In ClinFHIR, select the checkbox for the search parameter name under the “Parameters” column for the “question” (use the proper search parameter name) identified above.  Enter only the LOINC code itself for A1c into ClinFHIR.  (Hint:  it begins with “4xxxx-x”)\n",
        "\n",
        "Locate the box near the top of this ClinFHIR Query Builder page with the search API. Watch as ClinFHIR automatically builds the API search URL in the window next to the red Execute button."
      ]
    },
    {
      "cell_type": "markdown",
      "metadata": {
        "id": "f_1R1b-yCrs2"
      },
      "source": [
        "## 14.\tLook at this API search string generated by ClinFHIR.  Which pieces of information are specified in the FHIR API?  \n",
        "- a.\tInternet protocol or transfer method (http)\n",
        "- b.\tServer location (URI/URL)\n",
        "- c.\tThe path name on the server, which in this case happens to be the version of the FHIR standard being used, and is effectively a subdirectory on the server\n",
        "- d.\tThe type of Resource being queried\n",
        "- e.\tThe search parameter name being queried\n",
        "- f.\tThe value to be matched for the search parameter\n",
        "- g.\tThe maximum number of responses desired to be returned, in this case “100”\n",
        "- h.\tAll of the above\n"
      ]
    },
    {
      "cell_type": "code",
      "execution_count": null,
      "metadata": {
        "id": "06lsU-knpkGS"
      },
      "outputs": [],
      "source": [
        "sub_ans(token,14,\"#Your Answer#\")"
      ]
    },
    {
      "cell_type": "markdown",
      "metadata": {
        "id": "m6gkIgLAZSCl"
      },
      "source": [
        "## 15.\tSelect the red Execute button in ClinFHIR to perform the search.\n",
        "\n",
        "Although the http response status code is not explicity shown, if results are present in the “List”, the http response code should have been a “200”.  The http response code an \"OK\" (200 code). (True/False)\n",
        "\n",
        "Note that you can copy and paste this query to any internet browser and the http response is often visible there, if you would like to verify.\n",
        "-\tTrue\n",
        "-\tFalse\n",
        "\n",
        "\n"
      ]
    },
    {
      "cell_type": "code",
      "execution_count": null,
      "metadata": {
        "id": "iQRXB2HXsAKC"
      },
      "outputs": [],
      "source": [
        "sub_ans(token,15,\"#Your Answer#\")"
      ]
    },
    {
      "cell_type": "markdown",
      "metadata": {
        "id": "jhE33MSNZYzX"
      },
      "source": [
        "## 16.\tScroll through the list of instances on the left-hand side of the Query Builder window.  Does it seem feasible that there are 100 instances listed?  (Note: the _count parameter specified “100” in the query API.  Also note that this is not intended to be a trick question.)\n",
        "- Yes\n",
        "- No\n"
      ]
    },
    {
      "cell_type": "code",
      "execution_count": null,
      "metadata": {
        "id": "nyby1LBBsANg"
      },
      "outputs": [],
      "source": [
        "sub_ans(token,16,\"#Your Answer#\")"
      ]
    },
    {
      "cell_type": "markdown",
      "metadata": {
        "id": "K8alSl_ADMLo"
      },
      "source": [
        "## To reinforce understanding\n",
        "\n",
        "As a side project: In the Observation List results in ClinFHIR, select any instance Response to view the JSON content.  Be aware that this is a public server and there is definitely “garbage” on this server.  You may need select different instances to find an example with complete data.\n",
        "\n",
        " To select a different instance, use the blue “Close results” button on the right side in ClinFHIR to refresh the screen.\n",
        "\n",
        "Slowly walk through the JSON response content.  Identify several of the elements and compare to the FHIR Observation Resource definition (Structure).  Note which of the following elements may be present:\n",
        "\n",
        "-\tid (server generated unique instance for this Observation)\n",
        "-\tmeta data for this instance\n",
        "-\tstatus\n",
        "-\tcategory\n",
        "-\tcode\n",
        "-\ttext\n",
        "-\tsubject as a reference (reference to a Patient)\n",
        "-\tencounter as a reference\n",
        "-\tvalueQuantity, including value, unit, system, and code\n",
        "\n",
        "\n",
        "\n"
      ]
    },
    {
      "cell_type": "markdown",
      "metadata": {
        "id": "Rl7qpKuPDdyn"
      },
      "source": [
        "## USE CASE 3:  Query for a specific (single) A1c lab report\n",
        "Story: You are currently working with a primary care physician to build an app to flag out of range A1c values for patients.\n",
        "\n",
        "You are using a specific instance on the FHIR server as an example.  You know that Observation instance has an id of “1570114” because you have queried for this lab value previously.\n",
        "\n",
        "Go to the ClinFHIR Launcher, select the Server Query app and the Query Builder tab.  This time, select the _id search parameter name and add the id given above.  Note that using “_id=value” is exactly the same as using Resource/id.  For example, “Observation/_id=1570114” is exactly the same as “Observation/1570114”. This is the only search parameter name which can be written two different ways.  The latter is more prevalent.\n",
        "\n",
        "Execute this search.  This query should result in a list of a single instance.  Select that instance to view the JSON response.\n",
        "\n",
        " Verify that the computer generated object (instance) id in the JSON response matches the id requested in the query API."
      ]
    },
    {
      "cell_type": "markdown",
      "metadata": {
        "id": "vrJ0hQYyZh25"
      },
      "source": [
        "## 17.\tReferences within this Observation\n",
        "\n",
        "This Observation instance references (points back to) other Resource instances.   The instance points back to the Patient whose A1c value this is.  This Observation also references what other type of Resource instance.  What is the name of the other type of Resource?\n",
        "\n"
      ]
    },
    {
      "cell_type": "code",
      "execution_count": null,
      "metadata": {
        "id": "23RC3WngsATL"
      },
      "outputs": [],
      "source": [
        "sub_ans(token,17,\"#Your Answer#\")"
      ]
    },
    {
      "cell_type": "markdown",
      "metadata": {
        "id": "SRM7o6HSZ-VB"
      },
      "source": [
        "## 18.\tThe “category” element defines the broader classification of this Observation.  What “category” of Observations is used for A1c results?\n",
        "- a. Vital signs\n",
        "-\tb. Laboratory\n",
        "-\tc. Lab\n",
        "-\td. Social History\n",
        "- e. Procedures\n",
        "\n"
      ]
    },
    {
      "cell_type": "code",
      "execution_count": null,
      "metadata": {
        "id": "zwNl9H6FsAWd"
      },
      "outputs": [],
      "source": [
        "sub_ans(token,18,\"#Your Answer#\")"
      ]
    },
    {
      "cell_type": "markdown",
      "metadata": {
        "id": "mUdFllDgaCe1"
      },
      "source": [
        "## 19.\tWhat code system is used to define the “question” in this Observation instance?\n",
        "- a.\tSNOMED\n",
        "- b.\tICD-9\n",
        "- c.\tLOINC\n",
        "- d.\tICD-10\n",
        "- e.\tOther code system\n",
        "\n"
      ]
    },
    {
      "cell_type": "code",
      "execution_count": null,
      "metadata": {
        "id": "9p_ISyHksAZS"
      },
      "outputs": [],
      "source": [
        "sub_ans(token,19,\"#Your Answer#\")"
      ]
    },
    {
      "cell_type": "markdown",
      "metadata": {
        "id": "BwlNFZGYaP-k"
      },
      "source": [
        "## 20.\tWhat is the computer-generated identifier for the Patient Resource who is the subject of this A1c test?  \n",
        "\n",
        "Do not include quotation marks in this answer, just use the number.\n"
      ]
    },
    {
      "cell_type": "code",
      "execution_count": null,
      "metadata": {
        "id": "bsao7PsdsAcL"
      },
      "outputs": [],
      "source": [
        "sub_ans(token,20,#Your Answer# )"
      ]
    },
    {
      "cell_type": "markdown",
      "metadata": {
        "id": "8yTyzR9Cace8"
      },
      "source": [
        "## 21.\tIs this Patient’s name included in this Observation?\n",
        "-\tYes\n",
        "-\tNo\n",
        "\n"
      ]
    },
    {
      "cell_type": "code",
      "execution_count": null,
      "metadata": {
        "id": "Ziu99QFasAfb"
      },
      "outputs": [],
      "source": [
        "sub_ans(token,21,\"#Your Answer#\")"
      ]
    },
    {
      "cell_type": "markdown",
      "metadata": {
        "id": "5uk2cEzqan_q"
      },
      "source": [
        "## 22.\tWhat is the result (value) of the A1c test?  (do not specify a unit of measure or use quotation marks in your answer)\n",
        "\n",
        "Do not use quotes around your answer, it is a number, not text. (JSON format)\n",
        "\n"
      ]
    },
    {
      "cell_type": "code",
      "execution_count": null,
      "metadata": {
        "id": "Sweu9qwNsAiC"
      },
      "outputs": [],
      "source": [
        "sub_ans(token,22,#Your Answer#)"
      ]
    },
    {
      "cell_type": "markdown",
      "metadata": {
        "id": "2IQmw1e4EYpM"
      },
      "source": [
        "## USE CASE 4:  Query for all of the A1c lab reports for a patient\n",
        "\n",
        "Story:  A primary care physician has asked you to help develop an app which will quickly identify out of range (low or high) A1c values across an episode of care for specific patients.\n",
        "\n",
        "Our patient is “Johns Hopkins” with MRN 7755-0099.\n",
        "\n",
        "The information that we need, A1c value, is contained in the Observation instances, but we need to reference information in the search API which is contained in a **different type of resource instance**.  By definition, this is a “**chained query**”.   This can be viewed graphically in ClinFHIR as a patient with two encounters during one Episode of Care.  The patient was considered pre-diabetic and had blood drawn at each encounter.\n",
        "\n",
        " Let’s incrementally build this chain query API.   Optionally, you can use the ClinFHIR Query Builder tab.\n",
        "\n",
        "We already know that Observation instances ultimately need to be retrieved to obtain the A1c values.  As a result, \"Observation” goes immediately before the search parameter symbol “?” in the API.\n"
      ]
    },
    {
      "cell_type": "markdown",
      "metadata": {
        "id": "s1vAu6nYazbO"
      },
      "source": [
        "## 23.\tTo begin, this chained search API can be written as:\n",
        "http://hapi.fhir.org/baseR4/Observation?  \n",
        "- True\n",
        "- False\n"
      ]
    },
    {
      "cell_type": "code",
      "execution_count": null,
      "metadata": {
        "id": "M_Vv0neMsAk4"
      },
      "outputs": [],
      "source": [
        "sub_ans(token,23,\"#Your Answer#\")"
      ]
    },
    {
      "cell_type": "markdown",
      "metadata": {
        "id": "clxeyMWCa4aJ"
      },
      "source": [
        "## 24.\tNow, let’s add the LOINC code system name and code for A1c values to the query, using the “token” data type format.  The search API can now be written as:\n",
        "http://hapi.fhir.org/baseR4/Observation?code=http://loinc.org|4548-4  \n",
        "-\tTrue\n",
        "-\tFalse\n",
        "\n",
        "Think about:  Are there two code systems which could have the same code value to mean two very different things?\n",
        "\n",
        "Try this in either ClinFHIR or an internet browser window.\n"
      ]
    },
    {
      "cell_type": "code",
      "execution_count": null,
      "metadata": {
        "id": "wx8T8KPPsAnq"
      },
      "outputs": [],
      "source": [
        "sub_ans(token,24,\"#Your Answer#\")"
      ]
    },
    {
      "cell_type": "markdown",
      "metadata": {
        "id": "NenAUuRlE7wq"
      },
      "source": [
        "## Adding a chained query parameter\n",
        "But, we are looking for lab values for a specific patient.\n",
        "Because MRNs are usually unique in a hospital it is better to use MRN instead of patient name for searches.  \n",
        "\n",
        "The MRN needs to be a chained query because the Patient Resource is only a Reference in the Observation Resource.  In the Observation Resource structure, a Patient is reference by the element “subject”.  Pause and verify this by looking at the datatype for the Patient reference in the FHIR Resource webpage for Observation.\n",
        "\n",
        "Also note that elements which are often used in searches are given their own search parameter name.  We will take advantage of this.\n"
      ]
    },
    {
      "cell_type": "markdown",
      "metadata": {
        "id": "ooPTTBy8bB4a"
      },
      "source": [
        "## 25.\tReview the Observation Resource search parameters.  What is the most straightforward (direct, shortest) search parameter name to use to reference patient information?\n",
        "- a.\tfocus\n",
        "- b.\thas-member\n",
        "- c.\tpatient\n",
        "- d.\tsubject\n",
        "- e.\tencounter\n",
        "\n",
        "\n",
        "\n"
      ]
    },
    {
      "cell_type": "code",
      "execution_count": null,
      "metadata": {
        "id": "AeB7dZNHsAqo"
      },
      "outputs": [],
      "source": [
        "sub_ans(token,25,\"#Your Answer#\")"
      ]
    },
    {
      "cell_type": "markdown",
      "metadata": {
        "id": "vIok10xtFLv_"
      },
      "source": [
        "### All of the search parameters listed in the question above have the data type of “reference”.  Verify that statement for yourself by looking at the search parameter list on the Observation Resource webpage.\n",
        "\n",
        "The search parameter name of “patient” is special because it is required to be resolved to the Patient reference id.   Similarly, “encounter” is required to be resolved to the Encounter reference id.  Contrast those with the “subject” search parameter which requires the Resource name as part of the search parameter value.  Verify this for yourself in the FHIR standard.\n",
        "\n",
        "Back to our story.  The basic form of a reference is **[parameter name]=[type]/[id]**, however, we do not know the id, we only know the business identifier.\n",
        "\n",
        "Then, by definition, we need to use **chained queries** to include the business identifier.\n",
        "\n",
        "To begin, we will reference the Patient using the MRN, but using the subject search parameter of the Observation Resource.  The subject reference then is Patient.identifier=7755-0099.  Here, “Patient” begins with an upper case because it is specifying a type of Resource and is not a search parameter name. Recall that APIs are case sensitive.\n",
        "\n",
        "Finally, because it is good programming practice, let’s limit the number of instances to be returned to quantity 50.\n",
        "\n",
        "The API can now be built as:\n",
        "http://hapi.fhir.org/baseR4/Observation?code=http://loinc.org|4548-4&subject:Patient.identifier=7755-0099&_count=50\n",
        "\n",
        "Read the API above in detail and be certain that you understand every component of the API."
      ]
    },
    {
      "cell_type": "markdown",
      "metadata": {
        "id": "KF-iREu5bGYQ"
      },
      "source": [
        "## 26.\tPaste this search API into any internet browser search window (chrome, safari, etc.) or use the ClinFHIR Restful Query tab.  \n",
        "\n",
        "Note that if you use the ClinFHIR RESTful Query app that the http, URL, and path should not be included as they are prepended automatically.  The ClinFHIR Query Builder will not work for this question (query string is too complex).\n",
        "  \n",
        "  How many Observation instances does this query return?  Look for the \"total\" element near the top of the JSON response or manually count the number of Observation Resources returned.\n",
        "  \n",
        "  Do not put your quotations around your answer. (It is a number, not text, and this is JSON.)\n"
      ]
    },
    {
      "cell_type": "code",
      "execution_count": null,
      "metadata": {
        "id": "jJ7I7WfusAtO"
      },
      "outputs": [],
      "source": [
        "sub_ans(token,26,#Your Answer#)"
      ]
    },
    {
      "cell_type": "markdown",
      "metadata": {
        "id": "4x5Sy58fFg9M"
      },
      "source": [
        "Note: The Patient instance reference id for “Johns Hopkins” is being given as “2067668”.  Stepping through the JSON response, verify that this Patient Resource instance id is the same for all of the instances.\n",
        "\n",
        "\n",
        "## 27. Let’s rewrite the API using the search parameter “patient” and id instead of using a reverse chained query and the \"subject\" search parameter.  \n",
        "\n",
        "http://hapi.fhir.org/baseR4/Observation?code=http://loinc.org|4548-4&patient=2067668&_count=50     \n"
      ]
    },
    {
      "cell_type": "markdown",
      "metadata": {
        "id": "Me-NnwkKbKzY"
      },
      "source": [
        "Review the API above.  Try it in a browser. Do you receive the same results as when using the previous “subject” search parameter?\n",
        "-\tYes\n",
        "-\tNo\n",
        "\n"
      ]
    },
    {
      "cell_type": "code",
      "execution_count": null,
      "metadata": {
        "id": "BFrpYz6csAwC"
      },
      "outputs": [],
      "source": [
        "sub_ans(token,27,\"#Your Answer#\")"
      ]
    },
    {
      "cell_type": "markdown",
      "metadata": {
        "id": "Asr5w74ObPlK"
      },
      "source": [
        "## 28.\tWhy would the query API syntax of “&patient=7755-0099\" NOT work?\n",
        "- a.\tBecause the HAPI FHIR server went haywire\n",
        "- b.\tBecause the value type for the search parameter “patient” is of datatype \"reference\".  This datatype requires a computer-generated reference id, not a business identifier, for format reference=[type]|[id]\n",
        "- c.  Because the patient identifier Assigning Authority was not specified\n",
        "\n"
      ]
    },
    {
      "cell_type": "code",
      "execution_count": null,
      "metadata": {
        "id": "rublbZ_XsMqE"
      },
      "outputs": [],
      "source": [
        "sub_ans(token,28,\"#Your Answer#\")"
      ]
    },
    {
      "cell_type": "markdown",
      "metadata": {
        "id": "Czvs7V8BFwOJ"
      },
      "source": [
        "## Verify identifier v. id\n",
        "Re-read the definition of the \"search parameter value type of reference\" and be certain the difference between id and identifier is clear.\n",
        "\n",
        "Now, back to our clinical story.  The query given above for A1c Observations for our patient was:\n",
        "\n",
        "http://hapi.fhir.org/baseR4/Observation?code=http://loinc.org|4548-4&subject:Patient.identifier=7755-0099&_count=50\n",
        "\n",
        "Let’s limit the search to A1c values which are out of range.  Note that although there are some variations by gender and race, an A1c value of 6.5% or higher is considered to be diabetic.  Use the value-quantity search parameter, but combine it with a prefix to search the diabetic values\n"
      ]
    },
    {
      "cell_type": "markdown",
      "metadata": {
        "id": "l22iuW8MFz3s"
      },
      "source": [
        "## 29.\tWhich search parameter below is the correct encoding for this value comparison?:  \n",
        "Note that the example below is poor programming practice because units of measure are not specified, but is used for simplicity here.\n",
        "- a.\tvalue-quantity=6.5\n",
        "- b.\tvalue-quantity=gt6.5\n",
        "- c.\tvalue-quantity=ge6.5\n"
      ]
    },
    {
      "cell_type": "code",
      "execution_count": null,
      "metadata": {
        "id": "qs0p4nn0F43e"
      },
      "outputs": [],
      "source": [
        "sub_ans(token,29,\"#Your Answer#\")"
      ]
    },
    {
      "cell_type": "markdown",
      "metadata": {
        "id": "mdMepbGwF5V1"
      },
      "source": [
        "## 30. Add this value-quantity search parameter to the API search above and ensure that the comparator works.  How many Observation instances are returned after adding the diabetic value parameter?  \n",
        "\n",
        "Do not put quotations around your answer."
      ]
    },
    {
      "cell_type": "code",
      "execution_count": null,
      "metadata": {
        "id": "13jX_L0eGA2g"
      },
      "outputs": [],
      "source": [
        "sub_ans(token,30,#Your Answer#)"
      ]
    },
    {
      "cell_type": "markdown",
      "metadata": {
        "id": "pAj6YpdgGBSu"
      },
      "source": [
        "## 31. Also, generally, an A1c value above 5.6%, but less than or equal to 6.5%, is considered to be prediabetic.  \n",
        "\n",
        "Use the value-quantity search parameter, but combine it with a prefix to search the lower prediabetic values"
      ]
    },
    {
      "cell_type": "markdown",
      "metadata": {
        "id": "fvUrC1wdGEII"
      },
      "source": [
        "Finish this search parameter string for the lower prediabetic value:  \n",
        "- a.\tvalue-quantity=5.6\n",
        "- b.\tvalue-quantity=gt5.6\n",
        "- c.\tvalue-quantity=ge5.7\n",
        "- d.\tEither b or c"
      ]
    },
    {
      "cell_type": "code",
      "execution_count": null,
      "metadata": {
        "id": "xGcqu7ZGGLZw"
      },
      "outputs": [],
      "source": [
        "sub_ans(token,31,\"#Your Answer#\")"
      ]
    },
    {
      "cell_type": "markdown",
      "metadata": {
        "id": "JiJqtLsiGNnR"
      },
      "source": [
        "## 32.\tChange the search to **only** the **prediabetic range** in the API.\n",
        "\n",
        "Note that ClinFHIR QueryBuilder app only allows a search parameter to repeat once, so use an internet browser window or ClinFHIR RESTful Query to execute the query.   \n",
        "\n",
        "How many Observation instances are returned after adding the prediabetic value range parameters?\n",
        "\n",
        "Do not put quotations around your answer."
      ]
    },
    {
      "cell_type": "code",
      "execution_count": null,
      "metadata": {
        "id": "-vNMQaWgGMiW"
      },
      "outputs": [],
      "source": [
        "sub_ans(token,32,#YourAnswer#)"
      ]
    },
    {
      "cell_type": "markdown",
      "metadata": {
        "id": "m4g0RM_OGMSd"
      },
      "source": [
        "## 33.\tNote that in the query above, units of measure are not included.  This is not good programming practice.  Could this cause a serious medical error if units of measure are not considered for some lab values?\n",
        "-\tYes\n",
        "-\tNo"
      ]
    },
    {
      "cell_type": "code",
      "execution_count": null,
      "metadata": {
        "id": "uMqeOiDSGYQU"
      },
      "outputs": [],
      "source": [
        "sub_ans(token,33,\"#Your Answer#\")"
      ]
    },
    {
      "cell_type": "markdown",
      "metadata": {
        "id": "IeJQ8ZStGYom"
      },
      "source": [
        "## 34. A better coding practice would be to add the units of measure directly into the search API in the “quantity” format as as [parameter]=[prefix][number]|[system]|[code], where system is a URL.  \n",
        "\n",
        "See FHIR standard for more details: http://www.hl7.org/fhir/search.html#quantity)\n",
        "\n",
        "But, as a quick note, extended ASCII character sets (e.g., %, <, >, #, \\, and others) need to be “escaped” in the string.  For the “%” symbol this includes replacing “%” as “%25”.\n",
        "(Reference:  https://www.ascii-code.com/)\n"
      ]
    },
    {
      "cell_type": "markdown",
      "metadata": {
        "id": "GBJVVfaQGb9Z"
      },
      "source": [
        "This API with better coding practices would be written as:  \n",
        "\n",
        "http://hapi.fhir.org/baseR4/Observation?subject:Patient.identifier=7755-0099&code=http://loinc.org|4548-4&value-quantity=gt5.6|http://unitsofmeasure.org|%25&value-quantity=le6.5|http://unitsofmeasure.org|%25&_count=100   \n",
        "-\tTrue\n",
        "-\tFalse\n"
      ]
    },
    {
      "cell_type": "code",
      "execution_count": null,
      "metadata": {
        "id": "mkSLA1ljGj9L"
      },
      "outputs": [],
      "source": [
        "sub_ans(token,34,\"#Your Answer#\")"
      ]
    },
    {
      "cell_type": "markdown",
      "metadata": {
        "id": "05xz5tvuGjKF"
      },
      "source": [
        "## USE Case 5:  A1c values for a patient, but with more precise queries\n",
        "\n",
        "Story:  Servers are usually very high-powered computers, with greater capabilities than most clients.  For this reason, it usually preferred to put more computing load on the server.  You have hired a summer intern to write these more complex queries, which she has completed, and she has asked you to review her proposed API search, given below.\n",
        "\n",
        "To write more precise queries and put more of the computation onto the server, we are going to use “composite queries.”  \n",
        "\n",
        "\n",
        "A composite query combines multiple search parameters and values into a single search parameter.   On the Observation Resource webpage, scroll down to the “component-code-value-quantity\" search parameter to review.\n",
        "\n",
        "Take time to review the value data type definition for composite:    http://www.hl7.org/fhir/search.html#composite, both the “OR” search represented by a “,” and value sequences separated by the “$” operator.\n",
        "\n",
        "The search API from a prior example for diabetic A1c values was:\n",
        "http://hapi.fhir.org/baseR4/Observation?code=4548-4&subject:Patient.identifier=7755-0099&value-quantity=ge6.5|http://unitsofmeasure.org|%25\n",
        "\n",
        "The proposed API using composite search parameter is:\n",
        "http://hapi.fhir.org/baseR4/Observation?subject:Patient.identifier=7755-0099&combo-code-value-quantity=http://loinc.org|4548-4$ge6.5|http://unitsofmeasure.org|%25\n"
      ]
    },
    {
      "cell_type": "markdown",
      "metadata": {
        "id": "J88RJW-lGqKu"
      },
      "source": [
        "## 35.\tWill your summer interns proposed API work correctly?  (Try it!)\n",
        "-\tYes\n",
        "-\tNo\n"
      ]
    },
    {
      "cell_type": "code",
      "execution_count": null,
      "metadata": {
        "id": "_lPln-t6Gzdh"
      },
      "outputs": [],
      "source": [
        "sub_ans(token,35,\"#Your Answer#\")"
      ]
    },
    {
      "cell_type": "markdown",
      "metadata": {
        "id": "I4TRY3GLGz7s"
      },
      "source": [
        "## Let's recap!  \n",
        "\n",
        "## 36. Any large-scale server implemented as a RESTful client/server architecture needs to have powerful search mechanisms to be able to accurately find specific data.  (True/False)\n",
        "-\tTrue\n",
        "-\tFalse\n"
      ]
    },
    {
      "cell_type": "code",
      "execution_count": null,
      "metadata": {
        "id": "bQVLKnnvG4Gj"
      },
      "outputs": [],
      "source": [
        "sub_ans(token,36,\"#Your Answer#\")"
      ]
    },
    {
      "cell_type": "markdown",
      "metadata": {
        "id": "UFfM4cAaG4jH"
      },
      "source": [
        "## 37.\tThe HL7 FHIR standard does include strong search capabilities, but strong search capabilities can also translate into complex API strings which can take a bit of time to master.  (True/False)\n",
        "-\tTrue\n",
        "-\tFalse\n"
      ]
    },
    {
      "cell_type": "code",
      "execution_count": null,
      "metadata": {
        "id": "iIgGdzHGG8yV"
      },
      "outputs": [],
      "source": [
        "sub_ans(token,37,\"#Your Answer#\")"
      ]
    },
    {
      "cell_type": "markdown",
      "metadata": {
        "id": "yAbNi1YnG9IK"
      },
      "source": [
        "## 38.\tHL7 FHIR search parameters are defined per Resource, listed at the bottom of each Resource web page, and consist of a name-value pair. The format of the value in the search API is determined by the datatype. (True/False)\n",
        "-\tTrue\n",
        "-\tFalse\n"
      ]
    },
    {
      "cell_type": "code",
      "execution_count": null,
      "metadata": {
        "id": "dch9yiXDHAXj"
      },
      "outputs": [],
      "source": [
        "sub_ans(token,38,\"#Your Answer#\")"
      ]
    },
    {
      "cell_type": "markdown",
      "metadata": {
        "id": "qfV6O8DGHAt6"
      },
      "source": [
        "## 39.\tThere are HL7 FHIR tools, such as ClinFHIR and others, to help build these complex searches in FHIR. (True/False)\n",
        "-\tTrue\n",
        "-\tFalse\n"
      ]
    },
    {
      "cell_type": "code",
      "execution_count": null,
      "metadata": {
        "id": "Ci4jUO2oHFbq"
      },
      "outputs": [],
      "source": [
        "sub_ans(token,39,\"#Your Answer#\")"
      ]
    },
    {
      "cell_type": "markdown",
      "source": [
        "## 40.  One of the key advantages of ClinFHIR is being able to visualize all of the references and relationships between objects.   \n",
        "\n",
        "* Along the lefthand side select \"GraphBuilder 2\".\n",
        "* Select the blue \"Library\" button near the top.  This takes several seconds to load.\n",
        "* Select \"Newborn\" or any other project.\n",
        "* Select the green \"Download Project\" button.\n",
        "\n",
        "Now you can interact:\n",
        "* Carefully look at the Resources included.  \"grab\" a Resource with your mouse and note that you can move it around.\n",
        "* Double click on a Resource and notice that you can see the entire JSON response and the contents of that instance.\n",
        "\n",
        "This is super helpful when you are doing a presentation and trying to explain a particular use case and the Resources which will be involved.\n",
        "\n",
        "Note:  no answer required to be submitted!"
      ],
      "metadata": {
        "id": "xxDQMON0KX-A"
      }
    },
    {
      "cell_type": "markdown",
      "metadata": {
        "id": "nJuZVJIFH7Pv"
      },
      "source": [
        "## Check your answers.\n",
        "\n",
        "You can check your answers here:  https://bids-class.azurewebsites.net\n",
        "\n",
        "Class: fhir22  Module: 3\n",
        "\n",
        "If you are not seeing the answers logged make certain that your token is working correctly and recall that it expires in 24 hours."
      ]
    }
  ],
  "metadata": {
    "colab": {
      "provenance": []
    },
    "kernelspec": {
      "display_name": "venv",
      "language": "python",
      "name": "python3"
    },
    "language_info": {
      "codemirror_mode": {
        "name": "ipython",
        "version": 3
      },
      "file_extension": ".py",
      "mimetype": "text/x-python",
      "name": "python",
      "nbconvert_exporter": "python",
      "pygments_lexer": "ipython3",
      "version": "3.7.3 (default, Mar 27 2019, 16:54:48) \n[Clang 4.0.1 (tags/RELEASE_401/final)]"
    },
    "vscode": {
      "interpreter": {
        "hash": "639c66e6eeaf0f3b4a9dde530aa0ffb4f2dbc46aa0df35d4b228218bc56e91e9"
      }
    }
  },
  "nbformat": 4,
  "nbformat_minor": 0
}