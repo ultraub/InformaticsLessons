{
  "cells": [
    {
      "cell_type": "markdown",
      "metadata": {
        "id": "o3AHNzuDnaNE"
      },
      "source": [
        "# FHIR Week 2:  More on Resources\n",
        "\n",
        "\n",
        "\n",
        "## OVERVIEW\n",
        "\n",
        "During the first FHIR module, we were introduced to FHIR and began to investigate the Open EMR user (human) interface and its FHIR interface.\n",
        "\n",
        "This week we will dive more deeply into the Patient and Observation Resources and investigate the FHIR Data Types.  \n",
        "\n",
        "## LEARNING OBJECTIVES\n",
        "\n",
        "**The overarching goal of this *assessment* is for the student to be able to relate the FHIR standard viewed on the website to the data being returned in search results.**\n",
        "\n",
        "After completing Module 2, you will be able to:\n",
        "*  Locate the different types of identifiers in FHIR within the standard itself\n",
        "*  Describe, find, and recognize the types of identifiers in FHIR JSON responses\n",
        "*\tBe able to read the JSON data in a FHIR response\n",
        "* Understand where to locate clinical data in FHIR, including:\n",
        "  -\tQuestionnaire/Response\n",
        "  -\tServiceRequest\n",
        "  - Observation\n",
        "  -\tEncounter\n",
        "  -\tEpisode of Care\n",
        "*\tDescribe the elements of important Resources in more detail:\n",
        "  -\tResource\n",
        "  -\tDomainResource\n",
        "  -\tPatient\n",
        "  -\tObservation\n",
        "*\tUnderstand and use simple Data Types in FHIR\n",
        "* Recognize polymorphic FHIR Data Types\n",
        "\n",
        "\n",
        "\n",
        "\n"
      ]
    },
    {
      "cell_type": "markdown",
      "source": [
        "## NEW: Changes to using the JH BIDS Informatics Classroom\n",
        "\n",
        "Beginning in Module 2 we are going to introduce some changes to how students interact with the JH BIDS Informatics Classroom.  We intend to maintain this method going forward.\n",
        "\n",
        "Steps:\n",
        "1.  In a separate internet browser window, go to the BIDS Informatics Classroom website:  https://bids-class.azurewebsites.net/home   \n",
        "You may need to login using your JHED ID and JH credentials.\n",
        "2.  Instead of using JHED_ID to login, we are going to begin to use tokens.  On the BIDS Informatics Classroom website, along the black title at the top, select \"Generate Token\".  The token encapsulates the user name, the class, and the module.\n",
        "*     a.  Select the class answer key: fhir22\n",
        "*     b.  Select the Module: 2\n",
        "\n",
        "You should have a number returned to you that will look something like this:  c2bc81e3-9637-4ade-acd1-f5e3d5e42a79  - copy this string (but not the expiration date).  Note that this token is good for one 24 hour period, at which time it will need to be regenerated.\n",
        "3.  In THIS Jupyter notebook, copy the long token string into the \"token\" variable in the code cell below, where instructed, 2/3 down the cell block.\n"
      ],
      "metadata": {
        "id": "Lh92rlNUVk7B"
      }
    },
    {
      "cell_type": "code",
      "execution_count": null,
      "metadata": {
        "id": "Yt6gtfGKmbdG"
      },
      "outputs": [],
      "source": [
        "#you may need to remove the comment sign # from the line below if you are running this from Visual Studio (VS) Code\n",
        "#pip install requests\n",
        "import requests\n",
        "import json\n",
        "def sub_ans(token,question_num,answer):\n",
        "    url='https://bids-class.azurewebsites.net/submit-answer'\n",
        "    data={'token':token,\n",
        "         'question_num':question_num,\n",
        "         'answer_num':answer}\n",
        "    x=requests.post(url,data=data)\n",
        "    response = json.loads(x.text)\n",
        "    if response['success']:\n",
        "          return response['correct']\n",
        "    else:\n",
        "         return response['message']\n",
        "\n",
        "#COPY YOUR TOKEN STRING BETWEEN THE DOUBLE QUOTES BELOW\n",
        "token = \"\"\n",
        "if token!='':\n",
        "  print(\"Success {},You are ready to go!\")\n",
        "else:\n",
        "  print(\"Please enter your JHED ID above and run again\")"
      ]
    },
    {
      "cell_type": "markdown",
      "source": [
        "#Section 1 - Identify the appropriate FHIR Resources for various EHR Data"
      ],
      "metadata": {
        "id": "q3poXoSSuOSe"
      }
    },
    {
      "cell_type": "markdown",
      "source": [
        "#Types of identifiers in FHIR"
      ],
      "metadata": {
        "id": "7D6Sj5I1V8vC"
      }
    },
    {
      "cell_type": "markdown",
      "metadata": {
        "id": "xbrqfCDgoWvt"
      },
      "source": [
        "### 1.\tThere are two primary types of identifiers in FHIR.  \n",
        "\n",
        "Each type of identifier has a specific audience, such as uid or oid for a computer to process and a MRN or PID for a human to read.  Review the Patient Resource in FHIR for these elements.\n",
        "   \n",
        "The two Patient elements are:\n",
        "* (1)  id\n",
        "* (2) identifier\n",
        "\n",
        "Assertion:  An administrator at Patient Registration verifies the patient's medical record name (MRN, aka PID), then proceeds to add social security number and driver's license.  This person is actually interacting with the \"identifier\" element of the Patient Resource. (True/False)\n",
        "\n",
        "  - True\n",
        "  - False\n",
        "\n",
        "  To respond to any question using the BIDS Informatics Classroom (code block below), delete all of the text between the quotation marks #YourAnswerHere and enter your response, e.g., \"False\" or \"c\".  Case matters.  Then select the very small \"execute arrow\" to the left when your cursor is in the cell block.\n"
      ]
    },
    {
      "cell_type": "code",
      "execution_count": null,
      "metadata": {
        "id": "THxodT8WosEc"
      },
      "outputs": [],
      "source": [
        "sub_ans(token,1,\"#YourAnswerHere#\")"
      ]
    },
    {
      "cell_type": "markdown",
      "metadata": {
        "id": "XciyTrbaoyUK"
      },
      "source": [
        "### 2.\t More on types of FHIR identifiers\n",
        "\n",
        "Your institution has an older, but functioning, ECG cart.   One of your bright new co-op students wrote an interface application which will take the ECG waveform data and create FHIR instances (an \"instance\" is a specific realization of a FHIR Resource).  These instances are then sent to the cardiology department FHIR server.   \n",
        "\n",
        "The student asks for your advice on how to assign identifiers and you respond:\n",
        "- a.\tLet the FHIR server assign the id\n",
        "- b.\tThis ECG interface app should create a Client-assigned id and instruct the FHIR server to use this id.  This approach will require this ECG interface app to ensure that all id's are unique across eternity, but that is ok and will probably work well.\n",
        "- c.\tUse the MRN created by the EHR system obtained as part the order (ServiceRequest) as the identifier in the ECG app CREATE API\n",
        "- d.\tCreate a new patient MRN in this ECG app as part of the FHIR CREATE API and let the FHIR server resolve the multiple MRNs.\n",
        "- e.\tBoth a and c.\n",
        "- f.\tAll of a, b, and c.\n"
      ]
    },
    {
      "cell_type": "code",
      "execution_count": null,
      "metadata": {
        "id": "Mi9KjexnpAB5"
      },
      "outputs": [],
      "source": [
        "sub_ans(token,2,\"#YourAnswerHere#\")"
      ]
    },
    {
      "cell_type": "markdown",
      "source": [
        "#Resource Inheritance in FHIR"
      ],
      "metadata": {
        "id": "wTNl0oLPV6Vk"
      }
    },
    {
      "cell_type": "markdown",
      "metadata": {
        "id": "pXckLGX7pHYu"
      },
      "source": [
        "### 3.\tEvery clinical Resource in FHIR inherits from which foundational Resources:\n",
        "- a.\tResource\n",
        "- b.\tDomainResource\n",
        "- c.\tPatient\n",
        "- d.\tBoth a and b\n"
      ]
    },
    {
      "cell_type": "code",
      "execution_count": null,
      "metadata": {
        "id": "QaTDpCgPpSa0"
      },
      "outputs": [],
      "source": [
        "sub_ans(token,3,\"#YourAnswerHere#\")"
      ]
    },
    {
      "cell_type": "markdown",
      "metadata": {
        "id": "1oebxGEbpVb6"
      },
      "source": [
        "### 4. The computer processable \"id\" element, as well as other instance metadata, is defined in which FHIR Resource:\n",
        "- a.\tResource\n",
        "- b.\tDomainResource\n",
        "- c.\tPatient\n",
        "- d.\tAll of the above\n"
      ]
    },
    {
      "cell_type": "code",
      "execution_count": null,
      "metadata": {
        "id": "aE1nH7xrpVj-"
      },
      "outputs": [],
      "source": [
        "sub_ans(token,4,\"#YourAnswerHere#\")"
      ]
    },
    {
      "cell_type": "markdown",
      "metadata": {
        "id": "0TnP_0wvpu8D"
      },
      "source": [
        "### 5.  Physician communication is critical.\n",
        "\n",
        "The most important aspect of sharing healthcare information is that physicians and other providers are able to communicate and understand one another.  Therefore, “text” is a baseline element in every clinical Resource.  The element “text” is defined in which FHIR Resource:\n",
        "- a.\tResource\n",
        "- b.\tDomainResource\n",
        "- c.\tPatient\n",
        "- d.\tAll of the above\n"
      ]
    },
    {
      "cell_type": "code",
      "execution_count": null,
      "metadata": {
        "id": "rjWETe9Qpjst"
      },
      "outputs": [],
      "source": [
        "sub_ans(token,5,\"#YourAnswerHere#\")"
      ]
    },
    {
      "cell_type": "markdown",
      "metadata": {
        "id": "UYZgmt4opvzO"
      },
      "source": [
        "### 6.\tThe Medical Record Number business identifier for a specific patient is defined in which FHIR Resource:\n",
        "- a.\tResource\n",
        "- b.\tDomainResource\n",
        "- c.\tPatient\n",
        "- d.\tAll of the above\n"
      ]
    },
    {
      "cell_type": "code",
      "execution_count": null,
      "metadata": {
        "id": "Vi-IdmXqpjv6"
      },
      "outputs": [],
      "source": [
        "sub_ans(token,6,\"#YourAnswerHere#\")"
      ]
    },
    {
      "cell_type": "markdown",
      "metadata": {
        "id": "N6ZP390ppwkl"
      },
      "source": [
        "#Section 2: Review of Clinical Terminology and appropriate Resources\n",
        "### 7.\t Measurements and lab values\n",
        "\n",
        "In a clinical setting, you may hear that a “lab panel” has been ordered.  This panel may result in several lab tests, each of which has its own measurement. For example, a complete blood count (CBC) may result in measurements for red blood cell, white blood cell, and platelet counts.  A metabolic panel may measure glucose, sodium, potassium, calcium, etc.   In terms of storing this information in FHIR, these measurements are stored as an instance of which type of Resource:\n",
        "\n",
        "- a.\tQuestionnaire and Questionnaire Response\n",
        "- b.\tServiceRequest\n",
        "- c.\tObservation\n",
        "- d.\tEncounter\n",
        "- e.\tEpisode of Care\n"
      ]
    },
    {
      "cell_type": "code",
      "execution_count": null,
      "metadata": {
        "id": "LTqNr6qvpjyc"
      },
      "outputs": [],
      "source": [
        "sub_ans(token,7,\"#YourAnswerHere#\")"
      ]
    },
    {
      "cell_type": "markdown",
      "metadata": {
        "id": "EkK1tPoBpx0K"
      },
      "source": [
        "### 8.\tForms and forms and forms\n",
        "Often, when you enter a physician’s office or hospital admissions you are handed a clipboard with a paper form.   Alternatively, this form could be completed electronically from home prior to the patient coming to the office.\n",
        "\n",
        "Which FHIR Resource(s) is the patient actually interacting with:\n",
        "- a.\tQuestionnaire and Questionnaire Response\n",
        "- b.\tServiceRequest\n",
        "- c.\tObservation\n",
        "- d.\tEncounter\n",
        "- e.\tEpisode of Care\n",
        "\n",
        "Also note that in this example, information could be queried from the FHIR server first and simply presented to the patient for confirmation (as opposed to reentering data).\n"
      ]
    },
    {
      "cell_type": "code",
      "execution_count": null,
      "metadata": {
        "id": "Cjpmrns5pj1S"
      },
      "outputs": [],
      "source": [
        "sub_ans(token,8,\"#YourAnswerHere#\")"
      ]
    },
    {
      "cell_type": "markdown",
      "metadata": {
        "id": "4FCg4mIGpyrT"
      },
      "source": [
        "### 9.\tRequesting work be completed\n",
        "\n",
        "In a healthcare setting, work instructions for other departments are conveyed by “orders”.  For example, an orthopedic surgeon may order physical therapy for a patient.  A primary care physician may order a CT Head to evaluate headaches.  If these orders are being exchanged via a FHIR server, instances of which FHIR Resource are being created:\n",
        "- a.\tQuestionnaire and Questionnaire Response\n",
        "- b.\tServiceRequest\n",
        "- c.\tObservation\n",
        "- d.\tEncounter\n",
        "- e.\tEpisode of Care\n"
      ]
    },
    {
      "cell_type": "code",
      "execution_count": null,
      "metadata": {
        "id": "UEpbc4Clpj4L"
      },
      "outputs": [],
      "source": [
        "sub_ans(token,9,\"#YourAnswerHere#\")"
      ]
    },
    {
      "cell_type": "markdown",
      "metadata": {
        "id": "5mUGKPUhrK8c"
      },
      "source": [
        "#Section 3: Investigating a Patient Resources response\n",
        "\n",
        "Open the Johns Hopkins instance of Open EMR using:\n",
        "https://excite.eastus.cloudapp.azure.com/\n",
        "\n",
        "Login to Open EMR using:\n",
        "* user = physician\n",
        "* password = Password123!\n",
        "\n",
        "Using the (Patient) Finder tab, search for a patient by the name of \"Jayson Denesik\".  Review Jayson's medical record.  Try to identify the FHIR Resource which will be used to hold the information in each heading.\n",
        "\n",
        "Now, let's compare the EMR user interface to the information that we retrieve via FHIR queries.  Recall that the JH Open EMR FHIR root url is: https://excite.eastus.cloudapp.azure.com/apis/default/fhir/\n",
        "\n",
        "Let's build a FHIR query:\n",
        "What is Jayson' medical record number?  Is the FHIR URL proposed below accurate to retrieve the Jayson's patient level information?  Why?\n",
        "\n",
        "https://excite.eastus.cloudapp.azure.com/apis/default/fhir/Patient?identifier=42\n",
        "\n",
        "Answer the following questions using this Patient instance.  \n",
        "\n"
      ]
    },
    {
      "cell_type": "markdown",
      "source": [
        "##FHIR interface for JH Open EMR\n",
        "\n",
        "Before we can use the FHIR interface of the JH Open EMR FHIR server, we first need to establish a security token.  Recall:\n",
        "\n",
        "**Security Token:**  Access tokens are required to make downstream API calls. The function below uses user/password/client authentication to retrieve an access token. Note that this is **atypical** for retrieving access tokens, and generally OAuth2 will be used.\n",
        "\n",
        "Execute the code block below.\n"
      ],
      "metadata": {
        "id": "LM0tcdXe_KWd"
      }
    },
    {
      "cell_type": "code",
      "source": [
        "def get_access_token():\n",
        "    url = \"https://excite.eastus.cloudapp.azure.com/oauth2/default/token\"\n",
        "\n",
        "    headers = {\n",
        "        \"Content-Type\": \"application/x-www-form-urlencoded\"\n",
        "    }\n",
        "\n",
        "    data = {\n",
        "        \"grant_type\": \"password\",\n",
        "        \"user_role\" : \"users\",\n",
        "        \"username\" : \"physician\",\n",
        "        \"password\" : \"Password123!\",\n",
        "        \"client_id\": \"q8hPK8HZnwUbPraNyilbRZAEwycVN1zfHeQrjGfP9AM\",\n",
        "        'scope': \"openid offline_access api:oemr api:fhir api:port user/allergy.read user/allergy.write user/appointment.read user/appointment.write user/dental_issue.read user/dental_issue.write user/document.read user/document.write user/drug.read user/encounter.read user/encounter.write user/facility.read user/facility.write user/immunization.read user/insurance.read user/insurance.write user/insurance_company.read user/insurance_company.write user/insurance_type.read user/list.read user/medical_problem.read user/medical_problem.write user/medication.read user/medication.write user/message.write user/patient.read user/patient.write user/practitioner.read user/practitioner.write user/prescription.read user/procedure.read user/soap_note.read user/soap_note.write user/surgery.read user/surgery.write user/transaction.read user/transaction.write user/vital.read user/vital.write user/AllergyIntolerance.read user/CareTeam.read user/Condition.read user/Coverage.read user/Encounter.read user/Immunization.read user/Location.read user/Medication.read user/MedicationRequest.read user/Observation.read user/Organization.read user/Organization.write user/Patient.read user/Patient.write user/Practitioner.read user/Practitioner.write user/PractitionerRole.read user/Procedure.read patient/encounter.read patient/patient.read patient/AllergyIntolerance.read patient/CareTeam.read patient/Condition.read patient/Coverage.read patient/Encounter.read patient/Immunization.read patient/MedicationRequest.read patient/Observation.read patient/Patient.read patient/Procedure.read system/Patient.$export\",\n",
        "    }\n",
        "\n",
        "    response = requests.post(url, headers=headers, data=data)\n",
        "\n",
        "    # Raise exception for HTTP errors\n",
        "    response.raise_for_status()\n",
        "\n",
        "    return response.json()['access_token']\n",
        "def make_fhir_call(url):\n",
        "    headers = {\n",
        "        \"Authorization\": f\"Bearer {get_access_token()}\",\n",
        "        \"accept\" : \"application/json\",\n",
        "    }\n",
        "\n",
        "    response = requests.get(url, headers=headers)\n",
        "\n",
        "    response.raise_for_status()\n",
        "\n",
        "    return json.dumps(response.json(), indent = 4)"
      ],
      "metadata": {
        "id": "CjJS79H5AIJU"
      },
      "execution_count": null,
      "outputs": []
    },
    {
      "cell_type": "markdown",
      "source": [
        "###Using the FHIR API to access Open EMR data:\n",
        "\n",
        "General format of FHIR API:\n",
        "https://ServerURL/Resource?search_parameter=value\n",
        "\n",
        "Edit and complete the URL below and execute:"
      ],
      "metadata": {
        "id": "c-UuZ8dIAQzx"
      }
    },
    {
      "cell_type": "code",
      "source": [
        "url = \"#YourAnswerHere#\"\n",
        "\n",
        "print(make_fhir_call(url))"
      ],
      "metadata": {
        "id": "QZ_eUFO6__AV"
      },
      "execution_count": null,
      "outputs": []
    },
    {
      "cell_type": "markdown",
      "metadata": {
        "id": "B3y-Vy4drK_r"
      },
      "source": [
        "### 10.\tLocate the id for this instance of a Patient.  \n",
        "\n",
        "The id is a long-ish computer generated number created by the FHIR server.  This id is unique on this FHIR server.\n",
        "\n",
        "In this Patient instance, the assigned \"id\" is a string value which ends with the numbers \"...e1\". (True/False)\n",
        "- True\n",
        "- False\n",
        "\n",
        "\n"
      ]
    },
    {
      "cell_type": "code",
      "execution_count": null,
      "metadata": {
        "id": "uWqOTPAOpj7C"
      },
      "outputs": [],
      "source": [
        "sub_ans(token,10,\"#YourAnswerHere#\")"
      ]
    },
    {
      "cell_type": "markdown",
      "metadata": {
        "id": "dMQSR9uNrcFj"
      },
      "source": [
        "\n",
        "### 11.\tHow many responses are received for this identifier (MRN)?  \n",
        "\n",
        "hint:  \"count\""
      ]
    },
    {
      "cell_type": "code",
      "execution_count": null,
      "metadata": {
        "id": "JbAR7Tbjpj96"
      },
      "outputs": [],
      "source": [
        "sub_ans(token,11,\"#YourAnswerHere#\")"
      ]
    },
    {
      "cell_type": "markdown",
      "metadata": {
        "id": "xT3hz2dzrg8q"
      },
      "source": [
        "### 12. What is this the patient’s social security number?\n"
      ]
    },
    {
      "cell_type": "code",
      "execution_count": null,
      "metadata": {
        "id": "MZTx9cXbpkAy"
      },
      "outputs": [],
      "source": [
        "sub_ans(token,12,\"#YourAnswerHere#\")"
      ]
    },
    {
      "cell_type": "markdown",
      "metadata": {
        "id": "GzfJsktjrlSC"
      },
      "source": [
        "###13.\tWhat is the assigning authority for the Medical Record Number?\n",
        "\n",
        "In other words, which system created this MRN number?  \n",
        "\n",
        "For an MRN to be unique and avoid collisions, the MRN + the Assigning Authority are required.   The value is written as a URI/URL and should be in this format\"urn:oid:*.*.*...\".   \n",
        "\n",
        "What is the Assigning Authority for this MRN?  (Note that \"not specified\" is an option.)"
      ]
    },
    {
      "cell_type": "code",
      "execution_count": null,
      "metadata": {
        "id": "F60IVuwvpkDq"
      },
      "outputs": [],
      "source": [
        "sub_ans(token,13,\"#YourAnswerHere#\")"
      ]
    },
    {
      "cell_type": "markdown",
      "metadata": {
        "id": "z0h8XlA0r0vD"
      },
      "source": [
        "### 14.\tThis patient has several MRNs from different institutions. (True/False)\n",
        "-\tTrue\n",
        "- False\n"
      ]
    },
    {
      "cell_type": "code",
      "execution_count": null,
      "metadata": {
        "id": "06lsU-knpkGS"
      },
      "outputs": [],
      "source": [
        "sub_ans(token,14,\"#YourAnswerHere#\")"
      ]
    },
    {
      "cell_type": "markdown",
      "metadata": {
        "id": "m6gkIgLAZSCl"
      },
      "source": [
        "### 15.\tIs this patient record active in the system?\n",
        "- Yes\n",
        "- No\n"
      ]
    },
    {
      "cell_type": "code",
      "execution_count": null,
      "metadata": {
        "id": "iQRXB2HXsAKC"
      },
      "outputs": [],
      "source": [
        "sub_ans(token,15,\"#YourAnswerHere#\")"
      ]
    },
    {
      "cell_type": "markdown",
      "metadata": {
        "id": "jhE33MSNZYzX"
      },
      "source": [
        "### 16.\tIs the patient deceased?\n",
        "-\tYes\n",
        "-\tNo\n"
      ]
    },
    {
      "cell_type": "code",
      "execution_count": null,
      "metadata": {
        "id": "nyby1LBBsANg"
      },
      "outputs": [],
      "source": [
        "sub_ans(token,16,\"#YourAnswerHere#\")"
      ]
    },
    {
      "cell_type": "markdown",
      "metadata": {
        "id": "vrJ0hQYyZh25"
      },
      "source": [
        "### 17.\tPolymorphic data types in FHIR\n",
        "\n",
        "Review the FHIR R4 website. The Patient Resource\"deceased\" element is polymorphic which means that only one of the elements in the list can be used in an instance of a Patient.  Which of the two deceased element options is more specific?\n",
        "- (a)\tdeceasedBoolean\n",
        "- (b)\tdeceasedDateTime\n"
      ]
    },
    {
      "cell_type": "code",
      "execution_count": null,
      "metadata": {
        "id": "23RC3WngsATL"
      },
      "outputs": [],
      "source": [
        "sub_ans(token,17,\"#YourAnswerHere#\")"
      ]
    },
    {
      "cell_type": "markdown",
      "metadata": {
        "id": "5pIhO7l1ZqpV"
      },
      "source": [
        "#Section 4: Investigating an Observation Resource Response\n",
        "\n",
        "Review the Observation Resource on the FHIR R4 Resources page.  Be sure to review the search parameters at the end of every Resource page.\n",
        "\n",
        "Recall that individual FHIR implementations are NOT required to support all search parameters.  This is for a later class, but for now, be aware that the Open EMR FHIR server only supports the following Observation search parameters:  patient, code, category, date, and _id.  This is not a robust implementation, but is a very real world problem.\n",
        "\n",
        "Observations:\n",
        "\n",
        "An “Observation” is any piece of information which can be observed such as a measurement, lab result, or phenotype such as eye color.  \n",
        "\n",
        "An Observation is a **question-answer pair** on a specific date and may also contain links to other Resources (e.g., Patient, CarePlan, Episode of Care, etc.) as well as information contributing to the answer (e.g., normal range values, interpretation (high/normal/low)).   \n",
        "\n",
        "###Let's build our FHIR query\n",
        "\n",
        "* Recall that the base URL is: https://excite.eastus.cloudapp.azure.com/apis/default/fhir/\n",
        "\n",
        "* We would like to retrieve Observations.\n",
        "* We know that the \"patient\" search parameter is supported.\n",
        "* We know the patient id (not identifier) from a previous question.   \n",
        "* We will write this search parameter, then, as patient=xxx(long value)\n",
        "\n",
        "\n",
        "\n",
        "\n",
        "\n",
        "\n",
        "\n"
      ]
    },
    {
      "cell_type": "markdown",
      "metadata": {
        "id": "roR9ymAKqIHz"
      },
      "source": [
        "### Answer the following questions using this Observation instance"
      ]
    },
    {
      "cell_type": "markdown",
      "metadata": {
        "id": "SRM7o6HSZ-VB"
      },
      "source": [
        "### 18.\tGiven the information above, what is the properly formatted FHIR query?\n",
        "\n",
        "begin with https://\n",
        "\n"
      ]
    },
    {
      "cell_type": "code",
      "execution_count": null,
      "metadata": {
        "id": "zwNl9H6FsAWd"
      },
      "outputs": [],
      "source": [
        "sub_ans(token,18,\"#YourAnswerHere#\")"
      ]
    },
    {
      "cell_type": "markdown",
      "source": [
        "Add the complete Observation FHIR query as the URL below, between the two sets of quotation marks.  include the https://"
      ],
      "metadata": {
        "id": "i-iZR5xDMPC6"
      }
    },
    {
      "cell_type": "code",
      "source": [
        "url = \"\"\n",
        "\n",
        "print(make_fhir_call(url))"
      ],
      "metadata": {
        "id": "PhA41SCnMP_r"
      },
      "execution_count": null,
      "outputs": []
    },
    {
      "cell_type": "markdown",
      "source": [
        "You will notice that there are many, many Observations for Jayson.  Let's limit the responses to limit the number of responses, add &code=6690-2 to the query above and rerun the query.  There should be 3 values returned."
      ],
      "metadata": {
        "id": "o4-5-ozkNkDY"
      }
    },
    {
      "cell_type": "markdown",
      "metadata": {
        "id": "mUdFllDgaCe1"
      },
      "source": [
        "### 19.\tWhat is the status of the Observation from 2018?\n",
        "\n",
        "- (a) registered\n",
        "- (b)\tpreliminary\n",
        "- (c)\tfinal\n",
        "- (d)\tamended\n",
        "\n",
        "Also think about how important this status is in terms of visualizing results.  What if both a \"preliminary\" and a \"final\" measurement are returned for the every test? What issues could occur?  How might physicians feel about having to check the status of every Observation result?  These are data visualization issues which need to be considered for every system."
      ]
    },
    {
      "cell_type": "code",
      "execution_count": null,
      "metadata": {
        "id": "9p_ISyHksAZS"
      },
      "outputs": [],
      "source": [
        "sub_ans(token,19,\"#YourAnswerHere#\")"
      ]
    },
    {
      "cell_type": "markdown",
      "metadata": {
        "id": "BwlNFZGYaP-k"
      },
      "source": [
        "### 20.\tThe \"code\" element is the Question\n",
        "\n",
        "The \"code\" element of an Observation instance is really important because it represents the \"question\" which is answered in this Observation.  \n",
        "\n",
        "For example, the \"code\" will tell you if this Observation instance an A1c value or a patient weight value.  \n",
        "\n",
        "However, note that the datatype (format) for \"code\" and other elements is CodeableConcept, which in turn contains another sub-element named \"code\". Verify this on the FHIR website.  (http://www.hl7.org/fhir/observation.html)  Note that a simple text string search (control F) in a JSON response may yield the wrong \"code\", so be careful.    \n",
        "\n",
        "Refer to the ClinFHIR JSON response for the Observation queried previously.\n",
        "\n",
        "Looking at the “code” element, what results does this Observation contain?:\n",
        "- (a)\tPulmonary edema\n",
        "- (b)\tWhite blood cell count (leukocytes)\n",
        "- (c)\tDiabetes\n",
        "- (d) Laboratory\n"
      ]
    },
    {
      "cell_type": "code",
      "execution_count": null,
      "metadata": {
        "id": "bsao7PsdsAcL"
      },
      "outputs": [],
      "source": [
        "sub_ans(token,20,\"#YourAnswerHere#\")"
      ]
    },
    {
      "cell_type": "markdown",
      "source": [
        "###Side note: Think of \"category\" as the \"department\".\n",
        "\n",
        "The \"category\" of an Observation describes where the observation originated, e.g., imaging, therapy, or social history. These category values are defined by HL7. The specific codes are defined by several Code Systems.\n",
        "\n",
        "Verify the Preferred \"category\" codes by reviewing the Description column of the Observation Resource: https://www.hl7.org/fhir/observation.html.\n",
        "\n",
        "Categories can be very useful to group types of  Observations."
      ],
      "metadata": {
        "id": "bTNkwqxAPIYk"
      }
    },
    {
      "cell_type": "markdown",
      "metadata": {
        "id": "8yTyzR9Cace8"
      },
      "source": [
        "## 21.\tThe \"Questions\" in an Observation Resource are coded values.\n",
        "\n",
        "Which code system is used to specify the value of these WBC Observation?\n",
        "\n",
        "- (a)\tSNOMED\n",
        "- (b)\tLOINC\n",
        "- (c)\tICD-10\n",
        "- (d)\tCPT-4\n"
      ]
    },
    {
      "cell_type": "code",
      "execution_count": null,
      "metadata": {
        "id": "Ziu99QFasAfb"
      },
      "outputs": [],
      "source": [
        "sub_ans(token,21,\"#YourAnswerHere#\")"
      ]
    },
    {
      "cell_type": "markdown",
      "metadata": {
        "id": "5uk2cEzqan_q"
      },
      "source": [
        "## 22.\tThe format of the Answer\n",
        "\n",
        "From the FHIR Observation Resource webpage, the “value” element is a polymorphic (“[x]”) datatype which means the answer can be written as one, but only one, of several data formats.  \n",
        "\n",
        "Which of the polymorphic elements is used to report white blood cell count?\n",
        "- (a)\tvalueCodeableConcept\n",
        "- (b)\tValueQuantity\n",
        "- (c)\tvalueRange\n",
        "- (d)\tvalueInteger\n"
      ]
    },
    {
      "cell_type": "code",
      "execution_count": null,
      "metadata": {
        "id": "Sweu9qwNsAiC"
      },
      "outputs": [],
      "source": [
        "sub_ans(token,22,\"#YourAnswerHere#\")"
      ]
    },
    {
      "cell_type": "markdown",
      "metadata": {
        "id": "s1vAu6nYazbO"
      },
      "source": [
        "23.\tWhat is the White Blood Cell count value (i.e., number) provided in the 2025-dated Observation instance?  Do not include units.  Convert and write as a whole number, not as an exponential."
      ]
    },
    {
      "cell_type": "code",
      "execution_count": null,
      "metadata": {
        "id": "M_Vv0neMsAk4"
      },
      "outputs": [],
      "source": [
        "sub_ans(token,23,\"#YourAnswerHere#\")"
      ]
    },
    {
      "cell_type": "markdown",
      "metadata": {
        "id": "clxeyMWCa4aJ"
      },
      "source": [
        "## 24.\tWhat code system is used to define the units of measure?\n",
        "- (a)\thttp://who.org  (World Health Organization)\n",
        "- (b)\thttp://loinc.org  (LOINC)\n",
        "- (c)\thttp://unitsofmeasure.org  (Unified Code for Units of Measure (UCUM) from NIH)\n"
      ]
    },
    {
      "cell_type": "code",
      "execution_count": null,
      "metadata": {
        "id": "wx8T8KPPsAnq"
      },
      "outputs": [],
      "source": [
        "sub_ans(token,24,\"#YourAnswerHere#\")"
      ]
    },
    {
      "cell_type": "markdown",
      "metadata": {
        "id": "j0OPCJtww1p3"
      },
      "source": [
        "# Section 5:  More about using JSON in FHIR\n",
        "\n",
        " This next section of questions are just general FHIR questions, not specific to the ClinFHIR example.  Refer to the class videos and the FHIR R4 website: [https://hl7.org/fhir/R4/index.html](https://hl7.org/fhir/R4/index.html) ."
      ]
    },
    {
      "cell_type": "markdown",
      "metadata": {
        "id": "ooPTTBy8bB4a"
      },
      "source": [
        "### 25.\tJSON content\n",
        "\n",
        "JSON is a data representation which consists of “key-value” pairs.  (True/False)\n",
        "- True\n",
        "- False\n"
      ]
    },
    {
      "cell_type": "code",
      "execution_count": null,
      "metadata": {
        "id": "AeB7dZNHsAqo"
      },
      "outputs": [],
      "source": [
        "sub_ans(token,25,\"#YourAnswerHere#\")"
      ]
    },
    {
      "cell_type": "markdown",
      "metadata": {
        "id": "KF-iREu5bGYQ"
      },
      "source": [
        "### 26.\t JSON Keys in FHIR\n",
        "\n",
        "There is a webpage for every HL7 FHIR Resource.  The “structure” tab of each Resource lists all of the elements of the Resource.  The element name is the “key” in the JSON pair. (True/False)\n",
        "- True\n",
        "- False\n"
      ]
    },
    {
      "cell_type": "code",
      "execution_count": null,
      "metadata": {
        "id": "jJ7I7WfusAtO"
      },
      "outputs": [],
      "source": [
        "sub_ans(token,26,\"#YourAnswerHere#\")"
      ]
    },
    {
      "cell_type": "markdown",
      "metadata": {
        "id": "Me-NnwkKbKzY"
      },
      "source": [
        "### 27.\tJSON Values in FHIR\n",
        "\n",
        "The “Type” (4th column in the Structure section) of each Resource defines the format (datatype) for the \"answer\" to that element.  That answer is the “value” in a JSON key-value pair. (True/False)\n",
        "- True\n",
        "- False\n"
      ]
    },
    {
      "cell_type": "code",
      "execution_count": null,
      "metadata": {
        "id": "BFrpYz6csAwC"
      },
      "outputs": [],
      "source": [
        "sub_ans(token,27,\"#YourAnswerHere#\")"
      ]
    },
    {
      "cell_type": "markdown",
      "metadata": {
        "id": "Asr5w74ObPlK"
      },
      "source": [
        "### 28.\t JSON Keys as a Medical Code\n",
        "\n",
        "Code systems, e.g., LOINC, SNOMED, or ICD-10, are used to accurately represent the question (\"code\" element) for healthcare information for FHIR CodeableConcept data types.\n",
        "\n",
        "Coded information is critical to structure real world data to enable aggregating and graphing results for public health and personalized medicine initiatives. (True/False)\n",
        "- True\n",
        "- False\n"
      ]
    },
    {
      "cell_type": "code",
      "execution_count": null,
      "metadata": {
        "id": "rublbZ_XsMqE"
      },
      "outputs": [],
      "source": [
        "sub_ans(token,28,\"#YourAnswerHere#\")"
      ]
    },
    {
      "cell_type": "markdown",
      "metadata": {
        "id": "98Uj_83G3NSl"
      },
      "source": [
        "## Check your answers here\n",
        "\n",
        "\n",
        "\n",
        "You can [check your answers under the 'Answer Quiz' Tab](https://bids-class.azurewebsites.net/submit-answers).\n",
        "\n",
        "\n",
        "* You may need to login with your JHED ID.\n",
        "* Use \"fhir22\" and Module \"2\" for the answer key.\n",
        "* You must have answered at least one question for the check to work properly."
      ]
    }
  ],
  "metadata": {
    "colab": {
      "provenance": []
    },
    "kernelspec": {
      "display_name": "Python 3",
      "name": "python3"
    },
    "language_info": {
      "name": "python"
    }
  },
  "nbformat": 4,
  "nbformat_minor": 0
}